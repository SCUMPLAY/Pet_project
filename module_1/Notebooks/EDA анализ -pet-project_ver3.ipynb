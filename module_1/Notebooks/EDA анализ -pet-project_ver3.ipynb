{
 "cells": [
  {
   "cell_type": "markdown",
   "id": "bdfbc4dd",
   "metadata": {},
   "source": [
    "#### Загрузка библиотек\n"
   ]
  },
  {
   "cell_type": "code",
   "execution_count": 1,
   "id": "210ce524",
   "metadata": {},
   "outputs": [
    {
     "ename": "ModuleNotFoundError",
     "evalue": "No module named 'dtale'",
     "output_type": "error",
     "traceback": [
      "\u001b[1;31m---------------------------------------------------------------------------\u001b[0m",
      "\u001b[1;31mModuleNotFoundError\u001b[0m                       Traceback (most recent call last)",
      "Input \u001b[1;32mIn [1]\u001b[0m, in \u001b[0;36m<cell line: 40>\u001b[1;34m()\u001b[0m\n\u001b[0;32m     38\u001b[0m warnings\u001b[38;5;241m.\u001b[39mfilterwarnings(\u001b[38;5;124m'\u001b[39m\u001b[38;5;124mignore\u001b[39m\u001b[38;5;124m'\u001b[39m)\n\u001b[0;32m     39\u001b[0m pd\u001b[38;5;241m.\u001b[39mset_option(\u001b[38;5;124m'\u001b[39m\u001b[38;5;124mdisplay.max_columns\u001b[39m\u001b[38;5;124m'\u001b[39m, \u001b[38;5;28;01mNone\u001b[39;00m)\n\u001b[1;32m---> 40\u001b[0m \u001b[38;5;28;01mimport\u001b[39;00m \u001b[38;5;21;01mdtale\u001b[39;00m\n\u001b[0;32m     41\u001b[0m \u001b[38;5;28;01mfrom\u001b[39;00m \u001b[38;5;21;01mmplsoccer\u001b[39;00m \u001b[38;5;28;01mimport\u001b[39;00m Sbopen, Pitch\n\u001b[0;32m     43\u001b[0m parser \u001b[38;5;241m=\u001b[39m Sbopen()\n",
      "\u001b[1;31mModuleNotFoundError\u001b[0m: No module named 'dtale'"
     ]
    }
   ],
   "source": [
    "import pandas as pd\n",
    "import seaborn as sns\n",
    "import matplotlib.pyplot as plt\n",
    "import pandas as pd\n",
    "import numpy as np\n",
    "import gc\n",
    "import warnings \n",
    "from sklearn.preprocessing import LabelEncoder\n",
    "from IPython.display import display\n",
    "import matplotlib.patheffects as path_effects\n",
    "import matplotlib.pyplot as plt\n",
    "import numpy as np\n",
    "import pandas as pd\n",
    "from matplotlib.colors import LinearSegmentedColormap\n",
    "from scipy.ndimage import gaussian_filter\n",
    "import matplotlib.patheffects as path_effects\n",
    "import matplotlib.pyplot as plt\n",
    "import numpy as np\n",
    "import pandas as pd\n",
    "from matplotlib.colors import LinearSegmentedColormap\n",
    "from scipy.ndimage import gaussian_filter\n",
    "import matplotlib.patheffects as path_effects\n",
    "import matplotlib.pyplot as plt\n",
    "import numpy as np\n",
    "import pandas as pd\n",
    "\n",
    "\n",
    "from sklearn import preprocessing\n",
    "from sklearn.ensemble import RandomForestClassifier\n",
    "from sklearn.datasets import make_classification\n",
    "from datetime import datetime as dt\n",
    "import itertools\n",
    "from tqdm import tqdm\n",
    "%matplotlib inline\n",
    "from sklearn import preprocessing\n",
    "pd.set_option('display.max_columns', None)\n",
    "import warnings\n",
    "warnings.filterwarnings('ignore')\n",
    "pd.set_option('display.max_columns', None)\n",
    "import dtale\n",
    "from mplsoccer import Sbopen, Pitch\n",
    "\n",
    "parser = Sbopen()\n",
    "pitch = Pitch(line_zorder=2)\n",
    "from mplsoccer import Pitch, VerticalPitch, FontManager, Sbopen\n",
    "from mplsoccer import Pitch, VerticalPitch, FontManager, Sbopen\n"
   ]
  },
  {
   "cell_type": "markdown",
   "id": "5e332e84",
   "metadata": {},
   "source": [
    "## Импорт данных"
   ]
  },
  {
   "cell_type": "markdown",
   "id": "a4aa74c3",
   "metadata": {},
   "source": [
    "### Задача\n",
    "\n",
    "- Цель этой задачи — предсказать исход футбольного матча на основе исторических данных о матче и игроках.\n",
    "\n",
    "- Это решение будет полезно Laduma Analytics для расширения типов предлагаемых услуг, а также будет полезно вам. Вы сможете произвести впечатление на своих друзей точностью своих прогнозов, применяя это к предстоящим играм в вашей стране"
   ]
  },
  {
   "cell_type": "markdown",
   "id": "074e4dfa",
   "metadata": {},
   "source": [
    "#### Загрузка данных"
   ]
  },
  {
   "cell_type": "code",
   "execution_count": 2,
   "id": "4db77230",
   "metadata": {},
   "outputs": [
    {
     "data": {
      "text/html": [
       "<div>\n",
       "<style scoped>\n",
       "    .dataframe tbody tr th:only-of-type {\n",
       "        vertical-align: middle;\n",
       "    }\n",
       "\n",
       "    .dataframe tbody tr th {\n",
       "        vertical-align: top;\n",
       "    }\n",
       "\n",
       "    .dataframe thead th {\n",
       "        text-align: right;\n",
       "    }\n",
       "</style>\n",
       "<table border=\"1\" class=\"dataframe\">\n",
       "  <thead>\n",
       "    <tr style=\"text-align: right;\">\n",
       "      <th></th>\n",
       "      <th>Game_ID</th>\n",
       "      <th>Away win</th>\n",
       "      <th>Draw</th>\n",
       "      <th>Home Win</th>\n",
       "    </tr>\n",
       "  </thead>\n",
       "  <tbody>\n",
       "    <tr>\n",
       "      <th>0</th>\n",
       "      <td>ID_8518U587</td>\n",
       "      <td>0</td>\n",
       "      <td>0</td>\n",
       "      <td>0</td>\n",
       "    </tr>\n",
       "    <tr>\n",
       "      <th>1</th>\n",
       "      <td>ID_H49BIKG7</td>\n",
       "      <td>0</td>\n",
       "      <td>0</td>\n",
       "      <td>0</td>\n",
       "    </tr>\n",
       "    <tr>\n",
       "      <th>2</th>\n",
       "      <td>ID_PO6SP4VA</td>\n",
       "      <td>0</td>\n",
       "      <td>0</td>\n",
       "      <td>0</td>\n",
       "    </tr>\n",
       "    <tr>\n",
       "      <th>3</th>\n",
       "      <td>ID_MZRCNBAQ</td>\n",
       "      <td>0</td>\n",
       "      <td>0</td>\n",
       "      <td>0</td>\n",
       "    </tr>\n",
       "    <tr>\n",
       "      <th>4</th>\n",
       "      <td>ID_CV9VOLIU</td>\n",
       "      <td>0</td>\n",
       "      <td>0</td>\n",
       "      <td>0</td>\n",
       "    </tr>\n",
       "  </tbody>\n",
       "</table>\n",
       "</div>"
      ],
      "text/plain": [
       "       Game_ID  Away win  Draw  Home Win\n",
       "0  ID_8518U587         0     0         0\n",
       "1  ID_H49BIKG7         0     0         0\n",
       "2  ID_PO6SP4VA         0     0         0\n",
       "3  ID_MZRCNBAQ         0     0         0\n",
       "4  ID_CV9VOLIU         0     0         0"
      ]
     },
     "execution_count": 2,
     "metadata": {},
     "output_type": "execute_result"
    }
   ],
   "source": [
    "Sample = pd.read_csv(r'C:\\Users\\User\\OneDrive - БФУ им. И. Канта\\Рабочий стол\\pet-project\\SampleSubmission.csv')\n",
    "Sample.head()"
   ]
  },
  {
   "cell_type": "markdown",
   "id": "3545408e",
   "metadata": {},
   "source": [
    "**Описания полей**\n",
    "\n",
    "- date - дата проведенния матча\n",
    "- season - номер сезонна\n",
    "- Match id - - Идентификатор матча \n",
    "- Game id- Идентификатор игры\n",
    "- Home Team - домашняя команда\n",
    "- Away Team - Гостевая команда\n",
    "- Score - Исход матча (Целевая переменная)\n"
   ]
  },
  {
   "cell_type": "markdown",
   "id": "e69fac04",
   "metadata": {},
   "source": [
    "**тренировачные данные**"
   ]
  },
  {
   "cell_type": "code",
   "execution_count": 3,
   "id": "6247095e",
   "metadata": {},
   "outputs": [],
   "source": [
    "Train = pd.read_csv(r'C:\\Users\\User\\OneDrive - БФУ им. И. Канта\\Рабочий стол\\pet-project\\Train(f).csv')"
   ]
  },
  {
   "cell_type": "markdown",
   "id": "7a648e6d",
   "metadata": {},
   "source": [
    "**первые 5 строк данных**"
   ]
  },
  {
   "cell_type": "code",
   "execution_count": 4,
   "id": "fad0aac9",
   "metadata": {},
   "outputs": [
    {
     "data": {
      "text/html": [
       "<div>\n",
       "<style scoped>\n",
       "    .dataframe tbody tr th:only-of-type {\n",
       "        vertical-align: middle;\n",
       "    }\n",
       "\n",
       "    .dataframe tbody tr th {\n",
       "        vertical-align: top;\n",
       "    }\n",
       "\n",
       "    .dataframe thead th {\n",
       "        text-align: right;\n",
       "    }\n",
       "</style>\n",
       "<table border=\"1\" class=\"dataframe\">\n",
       "  <thead>\n",
       "    <tr style=\"text-align: right;\">\n",
       "      <th></th>\n",
       "      <th>Date</th>\n",
       "      <th>Season</th>\n",
       "      <th>Match_ID</th>\n",
       "      <th>Game_ID</th>\n",
       "      <th>Home Team</th>\n",
       "      <th>Away Team</th>\n",
       "      <th>Score</th>\n",
       "    </tr>\n",
       "  </thead>\n",
       "  <tbody>\n",
       "    <tr>\n",
       "      <th>0</th>\n",
       "      <td>2017-02-15</td>\n",
       "      <td>1</td>\n",
       "      <td>1.0</td>\n",
       "      <td>ID_KAG4KAE9</td>\n",
       "      <td>Antennae</td>\n",
       "      <td>Andromeda</td>\n",
       "      <td>Away win</td>\n",
       "    </tr>\n",
       "    <tr>\n",
       "      <th>1</th>\n",
       "      <td>2016-09-14</td>\n",
       "      <td>1</td>\n",
       "      <td>12.0</td>\n",
       "      <td>ID_T7H1XN5Z</td>\n",
       "      <td>Andromeda</td>\n",
       "      <td>Antennae</td>\n",
       "      <td>Draw</td>\n",
       "    </tr>\n",
       "    <tr>\n",
       "      <th>2</th>\n",
       "      <td>2016-12-12</td>\n",
       "      <td>1</td>\n",
       "      <td>13.0</td>\n",
       "      <td>ID_O1P9FGN4</td>\n",
       "      <td>Andromeda</td>\n",
       "      <td>Butterfly</td>\n",
       "      <td>Away win</td>\n",
       "    </tr>\n",
       "    <tr>\n",
       "      <th>3</th>\n",
       "      <td>2017-01-25</td>\n",
       "      <td>1</td>\n",
       "      <td>14.0</td>\n",
       "      <td>ID_TR5M4KQV</td>\n",
       "      <td>Andromeda</td>\n",
       "      <td>Cigar</td>\n",
       "      <td>Away win</td>\n",
       "    </tr>\n",
       "    <tr>\n",
       "      <th>4</th>\n",
       "      <td>2016-08-24</td>\n",
       "      <td>1</td>\n",
       "      <td>15.0</td>\n",
       "      <td>ID_EOIECRE2</td>\n",
       "      <td>Andromeda</td>\n",
       "      <td>Circinus</td>\n",
       "      <td>Home Win</td>\n",
       "    </tr>\n",
       "  </tbody>\n",
       "</table>\n",
       "</div>"
      ],
      "text/plain": [
       "         Date  Season  Match_ID      Game_ID  Home Team  Away Team     Score\n",
       "0  2017-02-15       1       1.0  ID_KAG4KAE9   Antennae  Andromeda  Away win\n",
       "1  2016-09-14       1      12.0  ID_T7H1XN5Z  Andromeda   Antennae      Draw\n",
       "2  2016-12-12       1      13.0  ID_O1P9FGN4  Andromeda  Butterfly  Away win\n",
       "3  2017-01-25       1      14.0  ID_TR5M4KQV  Andromeda      Cigar  Away win\n",
       "4  2016-08-24       1      15.0  ID_EOIECRE2  Andromeda   Circinus  Home Win"
      ]
     },
     "execution_count": 4,
     "metadata": {},
     "output_type": "execute_result"
    }
   ],
   "source": [
    "Train.head()"
   ]
  },
  {
   "cell_type": "markdown",
   "id": "6f7cf11a",
   "metadata": {},
   "source": [
    "***Количество пропусков***"
   ]
  },
  {
   "cell_type": "code",
   "execution_count": 5,
   "id": "aeb69a5d",
   "metadata": {},
   "outputs": [
    {
     "data": {
      "text/plain": [
       "Date         0\n",
       "Season       0\n",
       "Match_ID     0\n",
       "Game_ID      0\n",
       "Home Team    0\n",
       "Away Team    0\n",
       "Score        0\n",
       "dtype: int64"
      ]
     },
     "execution_count": 5,
     "metadata": {},
     "output_type": "execute_result"
    }
   ],
   "source": [
    "Train.isna().sum()"
   ]
  },
  {
   "cell_type": "markdown",
   "id": "45bb298a",
   "metadata": {},
   "source": [
    "**тестовые данные**"
   ]
  },
  {
   "cell_type": "code",
   "execution_count": 4,
   "id": "e0b79e1d",
   "metadata": {},
   "outputs": [],
   "source": [
    "Test = pd.read_csv(r'C:\\Users\\User\\OneDrive - БФУ им. И. Канта\\Рабочий стол\\pet-project\\Test(f).csv')"
   ]
  },
  {
   "cell_type": "markdown",
   "id": "2792fd98",
   "metadata": {},
   "source": [
    "**первые 5 строк данных**"
   ]
  },
  {
   "cell_type": "code",
   "execution_count": 7,
   "id": "df8ad21c",
   "metadata": {},
   "outputs": [
    {
     "data": {
      "text/html": [
       "<div>\n",
       "<style scoped>\n",
       "    .dataframe tbody tr th:only-of-type {\n",
       "        vertical-align: middle;\n",
       "    }\n",
       "\n",
       "    .dataframe tbody tr th {\n",
       "        vertical-align: top;\n",
       "    }\n",
       "\n",
       "    .dataframe thead th {\n",
       "        text-align: right;\n",
       "    }\n",
       "</style>\n",
       "<table border=\"1\" class=\"dataframe\">\n",
       "  <thead>\n",
       "    <tr style=\"text-align: right;\">\n",
       "      <th></th>\n",
       "      <th>Date</th>\n",
       "      <th>Season</th>\n",
       "      <th>Match_ID</th>\n",
       "      <th>Game_ID</th>\n",
       "      <th>Home Team</th>\n",
       "      <th>Away Team</th>\n",
       "    </tr>\n",
       "  </thead>\n",
       "  <tbody>\n",
       "    <tr>\n",
       "      <th>0</th>\n",
       "      <td>2018-12-08</td>\n",
       "      <td>3</td>\n",
       "      <td>102.0</td>\n",
       "      <td>ID_8518U587</td>\n",
       "      <td>Antennae</td>\n",
       "      <td>Cosmos Redshift 7</td>\n",
       "    </tr>\n",
       "    <tr>\n",
       "      <th>1</th>\n",
       "      <td>2018-09-11</td>\n",
       "      <td>3</td>\n",
       "      <td>18.0</td>\n",
       "      <td>ID_H49BIKG7</td>\n",
       "      <td>Cosmos Redshift 7</td>\n",
       "      <td>Tadpole</td>\n",
       "    </tr>\n",
       "    <tr>\n",
       "      <th>2</th>\n",
       "      <td>2018-09-25</td>\n",
       "      <td>3</td>\n",
       "      <td>32.0</td>\n",
       "      <td>ID_PO6SP4VA</td>\n",
       "      <td>Cosmos Redshift 7</td>\n",
       "      <td>Medusa Merger</td>\n",
       "    </tr>\n",
       "    <tr>\n",
       "      <th>3</th>\n",
       "      <td>2018-10-02</td>\n",
       "      <td>3</td>\n",
       "      <td>40.0</td>\n",
       "      <td>ID_MZRCNBAQ</td>\n",
       "      <td>Cartwheel</td>\n",
       "      <td>Cosmos Redshift 7</td>\n",
       "    </tr>\n",
       "    <tr>\n",
       "      <th>4</th>\n",
       "      <td>2018-12-20</td>\n",
       "      <td>3</td>\n",
       "      <td>123.0</td>\n",
       "      <td>ID_CV9VOLIU</td>\n",
       "      <td>Cosmos Redshift 7</td>\n",
       "      <td>Needle</td>\n",
       "    </tr>\n",
       "  </tbody>\n",
       "</table>\n",
       "</div>"
      ],
      "text/plain": [
       "         Date  Season  Match_ID      Game_ID          Home Team  \\\n",
       "0  2018-12-08       3     102.0  ID_8518U587           Antennae   \n",
       "1  2018-09-11       3      18.0  ID_H49BIKG7  Cosmos Redshift 7   \n",
       "2  2018-09-25       3      32.0  ID_PO6SP4VA  Cosmos Redshift 7   \n",
       "3  2018-10-02       3      40.0  ID_MZRCNBAQ          Cartwheel   \n",
       "4  2018-12-20       3     123.0  ID_CV9VOLIU  Cosmos Redshift 7   \n",
       "\n",
       "           Away Team  \n",
       "0  Cosmos Redshift 7  \n",
       "1            Tadpole  \n",
       "2      Medusa Merger  \n",
       "3  Cosmos Redshift 7  \n",
       "4             Needle  "
      ]
     },
     "execution_count": 7,
     "metadata": {},
     "output_type": "execute_result"
    }
   ],
   "source": [
    "Test.head()"
   ]
  },
  {
   "cell_type": "markdown",
   "id": "90b5ac19",
   "metadata": {},
   "source": [
    "***Количество пропусков***"
   ]
  },
  {
   "cell_type": "code",
   "execution_count": 8,
   "id": "f2d5c50c",
   "metadata": {},
   "outputs": [
    {
     "data": {
      "text/plain": [
       "Date         0\n",
       "Season       0\n",
       "Match_ID     0\n",
       "Game_ID      0\n",
       "Home Team    0\n",
       "Away Team    0\n",
       "Score        0\n",
       "dtype: int64"
      ]
     },
     "execution_count": 8,
     "metadata": {},
     "output_type": "execute_result"
    }
   ],
   "source": [
    "Train.isna().sum()"
   ]
  },
  {
   "cell_type": "markdown",
   "id": "80822d12",
   "metadata": {},
   "source": [
    "**Описания полей**\n",
    "\n",
    "- Game_ID - дата проведенния матча\n",
    "- Player_ID - номер сезонна\n",
    "- ID - индефекционные номер матча\n",
    "- X- индефекатор игры\n",
    "- Y - домашняя команда\n",
    "- Half - Гостевая команда\n",
    "- Season - Исход матча (Целевая переменная)\n",
    "- Manager - Менеджер\n",
    "- Team - Команда\n",
    "- Opposittion_Team - Команда противника\n",
    "- Shots - Удары в сторону ворот\n",
    "- SoT - Опасные удары\n",
    "- Goals_scored - Забитые голы\n",
    "- Goals_conceded - Пропущенные голы\n",
    "- Accurate passes - Точные передачи\n",
    "- Inaccurate passes - Неточные передачи\n",
    "- Passes - Пасы\n",
    "- Start_minutes - Начало игры\n",
    "- End_minutes - Конец игры\n",
    "- next_player - Следующий игрок\n",
    "- next_action - Следующие действия\n",
    "- next_x - Следующия значения x\n",
    "- next_y - Следующия значения y\n",
    "- event_id - Индентификатор игры\n",
    "- next_team - Следующая команда\n",
    "- next_event_id - Следующая индетификаатор игры\n",
    "- xt_value - Значения xt "
   ]
  },
  {
   "cell_type": "markdown",
   "id": "950f73be",
   "metadata": {},
   "source": [
    "**Набор тестовых данных по игровой статистики**"
   ]
  },
  {
   "cell_type": "code",
   "execution_count": 5,
   "id": "371ee58e",
   "metadata": {},
   "outputs": [],
   "source": [
    "test_game_statistics = pd.read_csv(r'C:\\Users\\User\\OneDrive - БФУ им. И. Канта\\Рабочий стол\\pet-project\\test_game_statistics.csv')\n"
   ]
  },
  {
   "cell_type": "markdown",
   "id": "211404ab",
   "metadata": {},
   "source": [
    "**Набор тренировачных данных по игровой статистики**"
   ]
  },
  {
   "cell_type": "code",
   "execution_count": 6,
   "id": "7a1d25bb",
   "metadata": {},
   "outputs": [],
   "source": [
    "train_game_statistics = pd.read_csv(r'C:\\Users\\User\\OneDrive - БФУ им. И. Канта\\Рабочий стол\\pet-project\\train_game_statistics.csv')\n"
   ]
  },
  {
   "cell_type": "markdown",
   "id": "2f4d262e",
   "metadata": {},
   "source": [
    "**первые 5 строк данных**"
   ]
  },
  {
   "cell_type": "code",
   "execution_count": 7,
   "id": "64c75d0f",
   "metadata": {},
   "outputs": [
    {
     "data": {
      "text/html": [
       "<div>\n",
       "<style scoped>\n",
       "    .dataframe tbody tr th:only-of-type {\n",
       "        vertical-align: middle;\n",
       "    }\n",
       "\n",
       "    .dataframe tbody tr th {\n",
       "        vertical-align: top;\n",
       "    }\n",
       "\n",
       "    .dataframe thead th {\n",
       "        text-align: right;\n",
       "    }\n",
       "</style>\n",
       "<table border=\"1\" class=\"dataframe\">\n",
       "  <thead>\n",
       "    <tr style=\"text-align: right;\">\n",
       "      <th></th>\n",
       "      <th>Game_ID</th>\n",
       "      <th>Player_ID</th>\n",
       "      <th>id</th>\n",
       "      <th>X</th>\n",
       "      <th>Y</th>\n",
       "      <th>Team</th>\n",
       "      <th>Action</th>\n",
       "      <th>Half</th>\n",
       "      <th>Season</th>\n",
       "      <th>Manager</th>\n",
       "      <th>Opposition_Team</th>\n",
       "      <th>Shots</th>\n",
       "      <th>SoT</th>\n",
       "      <th>Goals_scored</th>\n",
       "      <th>Goals_conceded</th>\n",
       "      <th>Accurate passes</th>\n",
       "      <th>Inaccurate passes</th>\n",
       "      <th>Passes</th>\n",
       "      <th>Start_minutes</th>\n",
       "      <th>End_minutes</th>\n",
       "      <th>next_player</th>\n",
       "      <th>next_action</th>\n",
       "      <th>next_x</th>\n",
       "      <th>next_y</th>\n",
       "      <th>event_id</th>\n",
       "      <th>next_team</th>\n",
       "      <th>next_event_id</th>\n",
       "      <th>xt_value</th>\n",
       "    </tr>\n",
       "  </thead>\n",
       "  <tbody>\n",
       "    <tr>\n",
       "      <th>0</th>\n",
       "      <td>ID_ZZKYYPVY</td>\n",
       "      <td>Player_O7HO1NOB</td>\n",
       "      <td>1.0</td>\n",
       "      <td>52.5</td>\n",
       "      <td>34.0</td>\n",
       "      <td>Circinus</td>\n",
       "      <td>Accurate passes</td>\n",
       "      <td>1st half</td>\n",
       "      <td>2</td>\n",
       "      <td>Ryoichi</td>\n",
       "      <td>Backward</td>\n",
       "      <td>0.0</td>\n",
       "      <td>0.0</td>\n",
       "      <td>0.0</td>\n",
       "      <td>0.0</td>\n",
       "      <td>1.0</td>\n",
       "      <td>0.0</td>\n",
       "      <td>1.0</td>\n",
       "      <td>0.03</td>\n",
       "      <td>0.37</td>\n",
       "      <td>NaN</td>\n",
       "      <td>NaN</td>\n",
       "      <td>NaN</td>\n",
       "      <td>NaN</td>\n",
       "      <td>NaN</td>\n",
       "      <td>NaN</td>\n",
       "      <td>NaN</td>\n",
       "      <td>NaN</td>\n",
       "    </tr>\n",
       "    <tr>\n",
       "      <th>1</th>\n",
       "      <td>ID_ZZKYYPVY</td>\n",
       "      <td>Player_O7HO1NOB</td>\n",
       "      <td>2.0</td>\n",
       "      <td>52.5</td>\n",
       "      <td>34.0</td>\n",
       "      <td>Circinus</td>\n",
       "      <td>Positional attacks</td>\n",
       "      <td>1st half</td>\n",
       "      <td>2</td>\n",
       "      <td>Ryoichi</td>\n",
       "      <td>Backward</td>\n",
       "      <td>0.0</td>\n",
       "      <td>0.0</td>\n",
       "      <td>0.0</td>\n",
       "      <td>0.0</td>\n",
       "      <td>0.0</td>\n",
       "      <td>0.0</td>\n",
       "      <td>0.0</td>\n",
       "      <td>0.03</td>\n",
       "      <td>0.37</td>\n",
       "      <td>NaN</td>\n",
       "      <td>NaN</td>\n",
       "      <td>NaN</td>\n",
       "      <td>NaN</td>\n",
       "      <td>NaN</td>\n",
       "      <td>NaN</td>\n",
       "      <td>NaN</td>\n",
       "      <td>NaN</td>\n",
       "    </tr>\n",
       "    <tr>\n",
       "      <th>2</th>\n",
       "      <td>ID_ZZKYYPVY</td>\n",
       "      <td>Player_J0V7B0YE</td>\n",
       "      <td>3.0</td>\n",
       "      <td>37.0</td>\n",
       "      <td>32.7</td>\n",
       "      <td>Circinus</td>\n",
       "      <td>Positional attacks</td>\n",
       "      <td>1st half</td>\n",
       "      <td>2</td>\n",
       "      <td>Ryoichi</td>\n",
       "      <td>Backward</td>\n",
       "      <td>0.0</td>\n",
       "      <td>0.0</td>\n",
       "      <td>0.0</td>\n",
       "      <td>0.0</td>\n",
       "      <td>0.0</td>\n",
       "      <td>0.0</td>\n",
       "      <td>0.0</td>\n",
       "      <td>0.05</td>\n",
       "      <td>0.38</td>\n",
       "      <td>NaN</td>\n",
       "      <td>NaN</td>\n",
       "      <td>NaN</td>\n",
       "      <td>NaN</td>\n",
       "      <td>NaN</td>\n",
       "      <td>NaN</td>\n",
       "      <td>NaN</td>\n",
       "      <td>NaN</td>\n",
       "    </tr>\n",
       "    <tr>\n",
       "      <th>3</th>\n",
       "      <td>ID_ZZKYYPVY</td>\n",
       "      <td>Player_J0V7B0YE</td>\n",
       "      <td>4.0</td>\n",
       "      <td>39.5</td>\n",
       "      <td>33.0</td>\n",
       "      <td>Circinus</td>\n",
       "      <td>Positional attacks</td>\n",
       "      <td>1st half</td>\n",
       "      <td>2</td>\n",
       "      <td>Ryoichi</td>\n",
       "      <td>Backward</td>\n",
       "      <td>0.0</td>\n",
       "      <td>0.0</td>\n",
       "      <td>0.0</td>\n",
       "      <td>0.0</td>\n",
       "      <td>0.0</td>\n",
       "      <td>0.0</td>\n",
       "      <td>0.0</td>\n",
       "      <td>0.07</td>\n",
       "      <td>0.40</td>\n",
       "      <td>NaN</td>\n",
       "      <td>NaN</td>\n",
       "      <td>NaN</td>\n",
       "      <td>NaN</td>\n",
       "      <td>NaN</td>\n",
       "      <td>NaN</td>\n",
       "      <td>NaN</td>\n",
       "      <td>NaN</td>\n",
       "    </tr>\n",
       "    <tr>\n",
       "      <th>4</th>\n",
       "      <td>ID_ZZKYYPVY</td>\n",
       "      <td>Player_J0V7B0YE</td>\n",
       "      <td>5.0</td>\n",
       "      <td>39.5</td>\n",
       "      <td>33.0</td>\n",
       "      <td>Circinus</td>\n",
       "      <td>Inaccurate passes</td>\n",
       "      <td>1st half</td>\n",
       "      <td>2</td>\n",
       "      <td>Ryoichi</td>\n",
       "      <td>Backward</td>\n",
       "      <td>0.0</td>\n",
       "      <td>0.0</td>\n",
       "      <td>0.0</td>\n",
       "      <td>0.0</td>\n",
       "      <td>0.0</td>\n",
       "      <td>1.0</td>\n",
       "      <td>1.0</td>\n",
       "      <td>0.07</td>\n",
       "      <td>0.40</td>\n",
       "      <td>NaN</td>\n",
       "      <td>NaN</td>\n",
       "      <td>NaN</td>\n",
       "      <td>NaN</td>\n",
       "      <td>NaN</td>\n",
       "      <td>NaN</td>\n",
       "      <td>NaN</td>\n",
       "      <td>NaN</td>\n",
       "    </tr>\n",
       "  </tbody>\n",
       "</table>\n",
       "</div>"
      ],
      "text/plain": [
       "       Game_ID        Player_ID   id     X     Y      Team  \\\n",
       "0  ID_ZZKYYPVY  Player_O7HO1NOB  1.0  52.5  34.0  Circinus   \n",
       "1  ID_ZZKYYPVY  Player_O7HO1NOB  2.0  52.5  34.0  Circinus   \n",
       "2  ID_ZZKYYPVY  Player_J0V7B0YE  3.0  37.0  32.7  Circinus   \n",
       "3  ID_ZZKYYPVY  Player_J0V7B0YE  4.0  39.5  33.0  Circinus   \n",
       "4  ID_ZZKYYPVY  Player_J0V7B0YE  5.0  39.5  33.0  Circinus   \n",
       "\n",
       "               Action      Half  Season  Manager Opposition_Team  Shots  SoT  \\\n",
       "0     Accurate passes  1st half       2  Ryoichi        Backward    0.0  0.0   \n",
       "1  Positional attacks  1st half       2  Ryoichi        Backward    0.0  0.0   \n",
       "2  Positional attacks  1st half       2  Ryoichi        Backward    0.0  0.0   \n",
       "3  Positional attacks  1st half       2  Ryoichi        Backward    0.0  0.0   \n",
       "4   Inaccurate passes  1st half       2  Ryoichi        Backward    0.0  0.0   \n",
       "\n",
       "   Goals_scored  Goals_conceded  Accurate passes  Inaccurate passes  Passes  \\\n",
       "0           0.0             0.0              1.0                0.0     1.0   \n",
       "1           0.0             0.0              0.0                0.0     0.0   \n",
       "2           0.0             0.0              0.0                0.0     0.0   \n",
       "3           0.0             0.0              0.0                0.0     0.0   \n",
       "4           0.0             0.0              0.0                1.0     1.0   \n",
       "\n",
       "   Start_minutes  End_minutes  next_player  next_action  next_x  next_y  \\\n",
       "0           0.03         0.37          NaN          NaN     NaN     NaN   \n",
       "1           0.03         0.37          NaN          NaN     NaN     NaN   \n",
       "2           0.05         0.38          NaN          NaN     NaN     NaN   \n",
       "3           0.07         0.40          NaN          NaN     NaN     NaN   \n",
       "4           0.07         0.40          NaN          NaN     NaN     NaN   \n",
       "\n",
       "   event_id  next_team  next_event_id  xt_value  \n",
       "0       NaN        NaN            NaN       NaN  \n",
       "1       NaN        NaN            NaN       NaN  \n",
       "2       NaN        NaN            NaN       NaN  \n",
       "3       NaN        NaN            NaN       NaN  \n",
       "4       NaN        NaN            NaN       NaN  "
      ]
     },
     "execution_count": 7,
     "metadata": {},
     "output_type": "execute_result"
    }
   ],
   "source": [
    "train_game_statistics.head()"
   ]
  },
  {
   "cell_type": "markdown",
   "id": "09779c99",
   "metadata": {},
   "source": [
    "**Размеры всех датасетов**"
   ]
  },
  {
   "cell_type": "code",
   "execution_count": 12,
   "id": "792c7622",
   "metadata": {},
   "outputs": [
    {
     "data": {
      "text/plain": [
       "((412, 7), (234, 6), (1571577, 28), (780234, 24))"
      ]
     },
     "execution_count": 12,
     "metadata": {},
     "output_type": "execute_result"
    }
   ],
   "source": [
    "Train.shape, Test.shape, train_game_statistics.shape, test_game_statistics.shape"
   ]
  },
  {
   "cell_type": "markdown",
   "id": "a14357d4",
   "metadata": {},
   "source": [
    "### Обащая информация по данным, основные описательные статистика для числовых и объктных данных"
   ]
  },
  {
   "cell_type": "code",
   "execution_count": 13,
   "id": "a26b57f9",
   "metadata": {},
   "outputs": [
    {
     "name": "stdout",
     "output_type": "stream",
     "text": [
      "<class 'pandas.core.frame.DataFrame'>\n",
      "RangeIndex: 412 entries, 0 to 411\n",
      "Data columns (total 7 columns):\n",
      " #   Column     Non-Null Count  Dtype  \n",
      "---  ------     --------------  -----  \n",
      " 0   Date       412 non-null    object \n",
      " 1   Season     412 non-null    int64  \n",
      " 2   Match_ID   412 non-null    float64\n",
      " 3   Game_ID    412 non-null    object \n",
      " 4   Home Team  412 non-null    object \n",
      " 5   Away Team  412 non-null    object \n",
      " 6   Score      412 non-null    object \n",
      "dtypes: float64(1), int64(1), object(5)\n",
      "memory usage: 22.7+ KB\n"
     ]
    }
   ],
   "source": [
    "Train.info()"
   ]
  },
  {
   "cell_type": "code",
   "execution_count": 14,
   "id": "900af27d",
   "metadata": {},
   "outputs": [
    {
     "data": {
      "text/html": [
       "<div>\n",
       "<style scoped>\n",
       "    .dataframe tbody tr th:only-of-type {\n",
       "        vertical-align: middle;\n",
       "    }\n",
       "\n",
       "    .dataframe tbody tr th {\n",
       "        vertical-align: top;\n",
       "    }\n",
       "\n",
       "    .dataframe thead th {\n",
       "        text-align: right;\n",
       "    }\n",
       "</style>\n",
       "<table border=\"1\" class=\"dataframe\">\n",
       "  <thead>\n",
       "    <tr style=\"text-align: right;\">\n",
       "      <th></th>\n",
       "      <th>Date</th>\n",
       "      <th>Game_ID</th>\n",
       "      <th>Home Team</th>\n",
       "      <th>Away Team</th>\n",
       "      <th>Score</th>\n",
       "    </tr>\n",
       "  </thead>\n",
       "  <tbody>\n",
       "    <tr>\n",
       "      <th>count</th>\n",
       "      <td>412</td>\n",
       "      <td>412</td>\n",
       "      <td>412</td>\n",
       "      <td>412</td>\n",
       "      <td>412</td>\n",
       "    </tr>\n",
       "    <tr>\n",
       "      <th>unique</th>\n",
       "      <td>183</td>\n",
       "      <td>412</td>\n",
       "      <td>19</td>\n",
       "      <td>19</td>\n",
       "      <td>3</td>\n",
       "    </tr>\n",
       "    <tr>\n",
       "      <th>top</th>\n",
       "      <td>2018-06-02</td>\n",
       "      <td>ID_KAG4KAE9</td>\n",
       "      <td>Medusa Merger</td>\n",
       "      <td>Medusa Merger</td>\n",
       "      <td>Home Win</td>\n",
       "    </tr>\n",
       "    <tr>\n",
       "      <th>freq</th>\n",
       "      <td>7</td>\n",
       "      <td>1</td>\n",
       "      <td>30</td>\n",
       "      <td>29</td>\n",
       "      <td>164</td>\n",
       "    </tr>\n",
       "  </tbody>\n",
       "</table>\n",
       "</div>"
      ],
      "text/plain": [
       "              Date      Game_ID      Home Team      Away Team     Score\n",
       "count          412          412            412            412       412\n",
       "unique         183          412             19             19         3\n",
       "top     2018-06-02  ID_KAG4KAE9  Medusa Merger  Medusa Merger  Home Win\n",
       "freq             7            1             30             29       164"
      ]
     },
     "execution_count": 14,
     "metadata": {},
     "output_type": "execute_result"
    }
   ],
   "source": [
    "Train.describe(include=['object'])"
   ]
  },
  {
   "cell_type": "code",
   "execution_count": 15,
   "id": "3faf1696",
   "metadata": {},
   "outputs": [
    {
     "data": {
      "text/html": [
       "<div>\n",
       "<style scoped>\n",
       "    .dataframe tbody tr th:only-of-type {\n",
       "        vertical-align: middle;\n",
       "    }\n",
       "\n",
       "    .dataframe tbody tr th {\n",
       "        vertical-align: top;\n",
       "    }\n",
       "\n",
       "    .dataframe thead th {\n",
       "        text-align: right;\n",
       "    }\n",
       "</style>\n",
       "<table border=\"1\" class=\"dataframe\">\n",
       "  <thead>\n",
       "    <tr style=\"text-align: right;\">\n",
       "      <th></th>\n",
       "      <th>Season</th>\n",
       "      <th>Match_ID</th>\n",
       "    </tr>\n",
       "  </thead>\n",
       "  <tbody>\n",
       "    <tr>\n",
       "      <th>count</th>\n",
       "      <td>412.000000</td>\n",
       "      <td>412.000000</td>\n",
       "    </tr>\n",
       "    <tr>\n",
       "      <th>mean</th>\n",
       "      <td>1.497573</td>\n",
       "      <td>109.536408</td>\n",
       "    </tr>\n",
       "    <tr>\n",
       "      <th>std</th>\n",
       "      <td>0.500602</td>\n",
       "      <td>63.273255</td>\n",
       "    </tr>\n",
       "    <tr>\n",
       "      <th>min</th>\n",
       "      <td>1.000000</td>\n",
       "      <td>1.000000</td>\n",
       "    </tr>\n",
       "    <tr>\n",
       "      <th>25%</th>\n",
       "      <td>1.000000</td>\n",
       "      <td>54.750000</td>\n",
       "    </tr>\n",
       "    <tr>\n",
       "      <th>50%</th>\n",
       "      <td>1.000000</td>\n",
       "      <td>110.000000</td>\n",
       "    </tr>\n",
       "    <tr>\n",
       "      <th>75%</th>\n",
       "      <td>2.000000</td>\n",
       "      <td>165.000000</td>\n",
       "    </tr>\n",
       "    <tr>\n",
       "      <th>max</th>\n",
       "      <td>2.000000</td>\n",
       "      <td>224.000000</td>\n",
       "    </tr>\n",
       "  </tbody>\n",
       "</table>\n",
       "</div>"
      ],
      "text/plain": [
       "           Season    Match_ID\n",
       "count  412.000000  412.000000\n",
       "mean     1.497573  109.536408\n",
       "std      0.500602   63.273255\n",
       "min      1.000000    1.000000\n",
       "25%      1.000000   54.750000\n",
       "50%      1.000000  110.000000\n",
       "75%      2.000000  165.000000\n",
       "max      2.000000  224.000000"
      ]
     },
     "execution_count": 15,
     "metadata": {},
     "output_type": "execute_result"
    }
   ],
   "source": [
    "Train.describe(include=[\"int64\",\"float64\"])"
   ]
  },
  {
   "cell_type": "code",
   "execution_count": 16,
   "id": "13baccd6",
   "metadata": {},
   "outputs": [
    {
     "name": "stdout",
     "output_type": "stream",
     "text": [
      "<class 'pandas.core.frame.DataFrame'>\n",
      "RangeIndex: 234 entries, 0 to 233\n",
      "Data columns (total 6 columns):\n",
      " #   Column     Non-Null Count  Dtype  \n",
      "---  ------     --------------  -----  \n",
      " 0   Date       234 non-null    object \n",
      " 1   Season     234 non-null    int64  \n",
      " 2   Match_ID   234 non-null    float64\n",
      " 3   Game_ID    234 non-null    object \n",
      " 4   Home Team  234 non-null    object \n",
      " 5   Away Team  234 non-null    object \n",
      "dtypes: float64(1), int64(1), object(4)\n",
      "memory usage: 11.1+ KB\n"
     ]
    }
   ],
   "source": [
    "Test.info()"
   ]
  },
  {
   "cell_type": "code",
   "execution_count": 17,
   "id": "38a2e235",
   "metadata": {},
   "outputs": [
    {
     "data": {
      "text/html": [
       "<div>\n",
       "<style scoped>\n",
       "    .dataframe tbody tr th:only-of-type {\n",
       "        vertical-align: middle;\n",
       "    }\n",
       "\n",
       "    .dataframe tbody tr th {\n",
       "        vertical-align: top;\n",
       "    }\n",
       "\n",
       "    .dataframe thead th {\n",
       "        text-align: right;\n",
       "    }\n",
       "</style>\n",
       "<table border=\"1\" class=\"dataframe\">\n",
       "  <thead>\n",
       "    <tr style=\"text-align: right;\">\n",
       "      <th></th>\n",
       "      <th>Date</th>\n",
       "      <th>Game_ID</th>\n",
       "      <th>Home Team</th>\n",
       "      <th>Away Team</th>\n",
       "    </tr>\n",
       "  </thead>\n",
       "  <tbody>\n",
       "    <tr>\n",
       "      <th>count</th>\n",
       "      <td>234</td>\n",
       "      <td>234</td>\n",
       "      <td>234</td>\n",
       "      <td>234</td>\n",
       "    </tr>\n",
       "    <tr>\n",
       "      <th>unique</th>\n",
       "      <td>86</td>\n",
       "      <td>234</td>\n",
       "      <td>16</td>\n",
       "      <td>16</td>\n",
       "    </tr>\n",
       "    <tr>\n",
       "      <th>top</th>\n",
       "      <td>2019-05-14</td>\n",
       "      <td>ID_8518U587</td>\n",
       "      <td>Antennae</td>\n",
       "      <td>Tadpole</td>\n",
       "    </tr>\n",
       "    <tr>\n",
       "      <th>freq</th>\n",
       "      <td>7</td>\n",
       "      <td>1</td>\n",
       "      <td>15</td>\n",
       "      <td>15</td>\n",
       "    </tr>\n",
       "  </tbody>\n",
       "</table>\n",
       "</div>"
      ],
      "text/plain": [
       "              Date      Game_ID Home Team Away Team\n",
       "count          234          234       234       234\n",
       "unique          86          234        16        16\n",
       "top     2019-05-14  ID_8518U587  Antennae   Tadpole\n",
       "freq             7            1        15        15"
      ]
     },
     "execution_count": 17,
     "metadata": {},
     "output_type": "execute_result"
    }
   ],
   "source": [
    "Test.describe(include=[\"object\"])"
   ]
  },
  {
   "cell_type": "code",
   "execution_count": 17,
   "id": "b646cbfc",
   "metadata": {},
   "outputs": [
    {
     "data": {
      "text/html": [
       "<div>\n",
       "<style scoped>\n",
       "    .dataframe tbody tr th:only-of-type {\n",
       "        vertical-align: middle;\n",
       "    }\n",
       "\n",
       "    .dataframe tbody tr th {\n",
       "        vertical-align: top;\n",
       "    }\n",
       "\n",
       "    .dataframe thead th {\n",
       "        text-align: right;\n",
       "    }\n",
       "</style>\n",
       "<table border=\"1\" class=\"dataframe\">\n",
       "  <thead>\n",
       "    <tr style=\"text-align: right;\">\n",
       "      <th></th>\n",
       "      <th>Season</th>\n",
       "      <th>Match_ID</th>\n",
       "    </tr>\n",
       "  </thead>\n",
       "  <tbody>\n",
       "    <tr>\n",
       "      <th>count</th>\n",
       "      <td>234.0</td>\n",
       "      <td>234.000000</td>\n",
       "    </tr>\n",
       "    <tr>\n",
       "      <th>mean</th>\n",
       "      <td>3.0</td>\n",
       "      <td>126.581197</td>\n",
       "    </tr>\n",
       "    <tr>\n",
       "      <th>std</th>\n",
       "      <td>0.0</td>\n",
       "      <td>81.669568</td>\n",
       "    </tr>\n",
       "    <tr>\n",
       "      <th>min</th>\n",
       "      <td>3.0</td>\n",
       "      <td>2.000000</td>\n",
       "    </tr>\n",
       "    <tr>\n",
       "      <th>25%</th>\n",
       "      <td>3.0</td>\n",
       "      <td>60.250000</td>\n",
       "    </tr>\n",
       "    <tr>\n",
       "      <th>50%</th>\n",
       "      <td>3.0</td>\n",
       "      <td>119.500000</td>\n",
       "    </tr>\n",
       "    <tr>\n",
       "      <th>75%</th>\n",
       "      <td>3.0</td>\n",
       "      <td>179.750000</td>\n",
       "    </tr>\n",
       "    <tr>\n",
       "      <th>max</th>\n",
       "      <td>3.0</td>\n",
       "      <td>300.000000</td>\n",
       "    </tr>\n",
       "  </tbody>\n",
       "</table>\n",
       "</div>"
      ],
      "text/plain": [
       "       Season    Match_ID\n",
       "count   234.0  234.000000\n",
       "mean      3.0  126.581197\n",
       "std       0.0   81.669568\n",
       "min       3.0    2.000000\n",
       "25%       3.0   60.250000\n",
       "50%       3.0  119.500000\n",
       "75%       3.0  179.750000\n",
       "max       3.0  300.000000"
      ]
     },
     "execution_count": 17,
     "metadata": {},
     "output_type": "execute_result"
    }
   ],
   "source": [
    "Test.describe()"
   ]
  },
  {
   "cell_type": "code",
   "execution_count": 18,
   "id": "b7fe4511",
   "metadata": {},
   "outputs": [
    {
     "name": "stdout",
     "output_type": "stream",
     "text": [
      "<class 'pandas.core.frame.DataFrame'>\n",
      "RangeIndex: 1571577 entries, 0 to 1571576\n",
      "Data columns (total 28 columns):\n",
      " #   Column             Non-Null Count    Dtype  \n",
      "---  ------             --------------    -----  \n",
      " 0   Game_ID            1571577 non-null  object \n",
      " 1   Player_ID          1571577 non-null  object \n",
      " 2   id                 1571577 non-null  float64\n",
      " 3   X                  1571577 non-null  float64\n",
      " 4   Y                  1571577 non-null  float64\n",
      " 5   Team               1571577 non-null  object \n",
      " 6   Action             1571577 non-null  object \n",
      " 7   Half               1571577 non-null  object \n",
      " 8   Season             1571577 non-null  int64  \n",
      " 9   Manager            1571577 non-null  object \n",
      " 10  Opposition_Team    1571577 non-null  object \n",
      " 11  Shots              1571577 non-null  float64\n",
      " 12  SoT                1571577 non-null  float64\n",
      " 13  Goals_scored       1571577 non-null  float64\n",
      " 14  Goals_conceded     1571577 non-null  float64\n",
      " 15  Accurate passes    1571577 non-null  float64\n",
      " 16  Inaccurate passes  1571577 non-null  float64\n",
      " 17  Passes             1571577 non-null  float64\n",
      " 18  Start_minutes      1571577 non-null  float64\n",
      " 19  End_minutes        1571577 non-null  float64\n",
      " 20  next_player        0 non-null        float64\n",
      " 21  next_action        0 non-null        float64\n",
      " 22  next_x             0 non-null        float64\n",
      " 23  next_y             0 non-null        float64\n",
      " 24  event_id           0 non-null        float64\n",
      " 25  next_team          0 non-null        float64\n",
      " 26  next_event_id      0 non-null        float64\n",
      " 27  xt_value           0 non-null        float64\n",
      "dtypes: float64(20), int64(1), object(7)\n",
      "memory usage: 335.7+ MB\n"
     ]
    }
   ],
   "source": [
    " train_game_statistics.info()"
   ]
  },
  {
   "cell_type": "code",
   "execution_count": 19,
   "id": "4dfbfc96",
   "metadata": {},
   "outputs": [
    {
     "name": "stdout",
     "output_type": "stream",
     "text": [
      "<class 'pandas.core.frame.DataFrame'>\n",
      "RangeIndex: 780234 entries, 0 to 780233\n",
      "Data columns (total 24 columns):\n",
      " #   Column             Non-Null Count   Dtype  \n",
      "---  ------             --------------   -----  \n",
      " 0   Game_ID            780234 non-null  object \n",
      " 1   Player_ID          780234 non-null  object \n",
      " 2   id                 780234 non-null  float64\n",
      " 3   X                  780234 non-null  float64\n",
      " 4   Y                  780234 non-null  float64\n",
      " 5   Team               780234 non-null  object \n",
      " 6   Half               780223 non-null  object \n",
      " 7   Season             780234 non-null  int64  \n",
      " 8   Manager            774632 non-null  object \n",
      " 9   Opposition_Team    780234 non-null  object \n",
      " 10  Shots              780142 non-null  float64\n",
      " 11  SoT                780142 non-null  float64\n",
      " 12  Accurate passes    780142 non-null  float64\n",
      " 13  Inaccurate passes  780142 non-null  float64\n",
      " 14  Passes             780142 non-null  float64\n",
      " 15  Start_minutes      780224 non-null  float64\n",
      " 16  End_minutes        780234 non-null  float64\n",
      " 17  next_player        780022 non-null  object \n",
      " 18  next_x             780022 non-null  float64\n",
      " 19  next_y             780022 non-null  float64\n",
      " 20  event_id           780234 non-null  float64\n",
      " 21  next_team          780025 non-null  object \n",
      " 22  next_event_id      780022 non-null  float64\n",
      " 23  xt_value           780234 non-null  float64\n",
      "dtypes: float64(15), int64(1), object(8)\n",
      "memory usage: 142.9+ MB\n"
     ]
    }
   ],
   "source": [
    "test_game_statistics.info()"
   ]
  },
  {
   "cell_type": "markdown",
   "id": "a9428a56",
   "metadata": {},
   "source": [
    "### Анализ EDA и Визуализация данных\n",
    "\n",
    "- Для начала проанализируем данные что бы ответить на некоторые вопросы?"
   ]
  },
  {
   "cell_type": "markdown",
   "id": "0872e3e8",
   "metadata": {},
   "source": [
    "- Посмотрим сколько у нас уникальных значений в каждом из признаков.(На тренировачных данных)"
   ]
  },
  {
   "cell_type": "code",
   "execution_count": 10,
   "id": "2fd2a040",
   "metadata": {},
   "outputs": [
    {
     "data": {
      "image/png": "[encoded data removed]",
      "text/plain": [
       "<Figure size 1152x360 with 1 Axes>"
      ]
     },
     "metadata": {
      "needs_background": "light"
     },
     "output_type": "display_data"
    }
   ],
   "source": [
    "plt.figure(figsize=(16,5))\n",
    "\n",
    "cols = Train.columns\n",
    "uniques = [len(Train[col].unique()) for col in cols]\n",
    "\n",
    "ax = sns.barplot(x=cols , y=uniques, palette='hls', log=True)\n",
    "ax.set(xlabel='Feature', ylabel='log(unique count)',title = 'Number of unique per feature')\n",
    "\n",
    "for p, uniq in zip(ax.patches, uniques):\n",
    "    ax.text(p.get_x() + p.get_width()/2.,\n",
    "            uniq +10,\n",
    "            uniq,\n",
    "            ha=\"center\")\n",
    "ax.set_xticklabels(ax.get_xticklabels(), rotation=45);"
   ]
  },
  {
   "cell_type": "markdown",
   "id": "246f6de9",
   "metadata": {},
   "source": [
    "- Посмотрим сколько у нас уникальных значений в каждом из признаков.(На тестовых данных)"
   ]
  },
  {
   "cell_type": "code",
   "execution_count": 8,
   "id": "4121f089",
   "metadata": {},
   "outputs": [
    {
     "data": {
      "image/png": "[encoded data removed]",
      "text/plain": [
       "<Figure size 1152x360 with 1 Axes>"
      ]
     },
     "metadata": {
      "needs_background": "light"
     },
     "output_type": "display_data"
    }
   ],
   "source": [
    "plt.figure(figsize=(16,5))\n",
    "\n",
    "cols = Test.columns\n",
    "uniques = [len(Test[col].unique()) for col in cols]\n",
    "\n",
    "ax = sns.barplot(x=cols , y=uniques, palette='hls', log=True)\n",
    "ax.set(xlabel='Feature', ylabel='log(unique count)',title = 'Number of unique per feature')\n",
    "\n",
    "for p, uniq in zip(ax.patches, uniques):\n",
    "    ax.text(p.get_x() + p.get_width()/2.,\n",
    "            uniq +10,\n",
    "            uniq,\n",
    "            ha=\"center\")\n",
    "ax.set_xticklabels(ax.get_xticklabels(), rotation=45);"
   ]
  },
  {
   "cell_type": "markdown",
   "id": "e773f03c",
   "metadata": {},
   "source": [
    "#### Сколько сезонов у нас в train и test?"
   ]
  },
  {
   "cell_type": "code",
   "execution_count": 9,
   "id": "aa1568cc",
   "metadata": {},
   "outputs": [
    {
     "name": "stderr",
     "output_type": "stream",
     "text": [
      "/home/user/anaconda3/lib/python3.9/site-packages/seaborn/_decorators.py:36: FutureWarning: Pass the following variable as a keyword arg: x. From version 0.12, the only valid positional argument will be `data`, and passing other arguments without an explicit keyword will result in an error or misinterpretation.\n",
      "  warnings.warn(\n"
     ]
    },
    {
     "data": {
      "text/plain": [
       "<AxesSubplot:xlabel='Season', ylabel='count'>"
      ]
     },
     "execution_count": 9,
     "metadata": {},
     "output_type": "execute_result"
    },
    {
     "data": {
      "image/png": "[encoded data removed]",
      "text/plain": [
       "<Figure size 432x288 with 1 Axes>"
      ]
     },
     "metadata": {
      "needs_background": "light"
     },
     "output_type": "display_data"
    }
   ],
   "source": [
    "sns.countplot(Train[\"Season\"])"
   ]
  },
  {
   "cell_type": "code",
   "execution_count": 10,
   "id": "f04c6a4e",
   "metadata": {},
   "outputs": [
    {
     "name": "stderr",
     "output_type": "stream",
     "text": [
      "/home/user/anaconda3/lib/python3.9/site-packages/seaborn/_decorators.py:36: FutureWarning: Pass the following variable as a keyword arg: x. From version 0.12, the only valid positional argument will be `data`, and passing other arguments without an explicit keyword will result in an error or misinterpretation.\n",
      "  warnings.warn(\n"
     ]
    },
    {
     "data": {
      "text/plain": [
       "<AxesSubplot:xlabel='Season', ylabel='count'>"
      ]
     },
     "execution_count": 10,
     "metadata": {},
     "output_type": "execute_result"
    },
    {
     "data": {
      "image/png": "[encoded data removed]",
      "text/plain": [
       "<Figure size 432x288 with 1 Axes>"
      ]
     },
     "metadata": {
      "needs_background": "light"
     },
     "output_type": "display_data"
    }
   ],
   "source": [
    "sns.countplot(Test[\"Season\"])"
   ]
  },
  {
   "cell_type": "markdown",
   "id": "15b370da",
   "metadata": {},
   "source": [
    "- Мы видим что в train указнна два сезонна , а в test один сезон."
   ]
  },
  {
   "cell_type": "markdown",
   "id": "034c3773",
   "metadata": {},
   "source": [
    "#### Сколько уникальных значений ID по каждому матчу?\n"
   ]
  },
  {
   "cell_type": "code",
   "execution_count": 12,
   "id": "d237ca8a",
   "metadata": {},
   "outputs": [
    {
     "data": {
      "text/plain": [
       "224"
      ]
     },
     "execution_count": 12,
     "metadata": {},
     "output_type": "execute_result"
    }
   ],
   "source": [
    "Train.Match_ID.nunique()"
   ]
  },
  {
   "cell_type": "code",
   "execution_count": 13,
   "id": "afb9ad72",
   "metadata": {},
   "outputs": [
    {
     "data": {
      "text/plain": [
       "213"
      ]
     },
     "execution_count": 13,
     "metadata": {},
     "output_type": "execute_result"
    }
   ],
   "source": [
    "Test.Match_ID.nunique()"
   ]
  },
  {
   "cell_type": "markdown",
   "id": "0f0062da",
   "metadata": {},
   "source": [
    "#### Какое количество игр было сыграно в тренеровачных и тестовых наборах данных?"
   ]
  },
  {
   "cell_type": "code",
   "execution_count": 14,
   "id": "2db047d7",
   "metadata": {},
   "outputs": [
    {
     "data": {
      "text/plain": [
       "412"
      ]
     },
     "execution_count": 14,
     "metadata": {},
     "output_type": "execute_result"
    }
   ],
   "source": [
    "Train.Game_ID.nunique()"
   ]
  },
  {
   "cell_type": "code",
   "execution_count": 15,
   "id": "ebcdbd9e",
   "metadata": {},
   "outputs": [
    {
     "data": {
      "text/plain": [
       "234"
      ]
     },
     "execution_count": 15,
     "metadata": {},
     "output_type": "execute_result"
    }
   ],
   "source": [
    "Test.Game_ID.nunique()"
   ]
  },
  {
   "cell_type": "markdown",
   "id": "746c4cd8",
   "metadata": {},
   "source": [
    "#### Сколько гостевых и домашних команд?"
   ]
  },
  {
   "cell_type": "code",
   "execution_count": 16,
   "id": "525f5bbb",
   "metadata": {},
   "outputs": [
    {
     "data": {
      "text/plain": [
       "19"
      ]
     },
     "execution_count": 16,
     "metadata": {},
     "output_type": "execute_result"
    }
   ],
   "source": [
    "Train[\"Home Team\"].nunique()"
   ]
  },
  {
   "cell_type": "code",
   "execution_count": 17,
   "id": "13fddc7e",
   "metadata": {},
   "outputs": [
    {
     "name": "stderr",
     "output_type": "stream",
     "text": [
      "/opt/homebrew/lib/python3.9/site-packages/seaborn/_decorators.py:36: FutureWarning: Pass the following variable as a keyword arg: x. From version 0.12, the only valid positional argument will be `data`, and passing other arguments without an explicit keyword will result in an error or misinterpretation.\n",
      "  warnings.warn(\n"
     ]
    },
    {
     "data": {
      "text/plain": [
       "<AxesSubplot:xlabel='Home Team', ylabel='count'>"
      ]
     },
     "execution_count": 17,
     "metadata": {},
     "output_type": "execute_result"
    },
    {
     "data": {
      "image/png": "[encoded data removed]",
      "text/plain": [
       "<Figure size 1800x504 with 1 Axes>"
      ]
     },
     "metadata": {
      "needs_background": "light"
     },
     "output_type": "display_data"
    }
   ],
   "source": [
    "plt.figure(figsize=(25,7))\n",
    "sns.countplot(Train[\"Home Team\"])"
   ]
  },
  {
   "cell_type": "code",
   "execution_count": 18,
   "id": "4a867ea4",
   "metadata": {},
   "outputs": [
    {
     "data": {
      "text/plain": [
       "19"
      ]
     },
     "execution_count": 18,
     "metadata": {},
     "output_type": "execute_result"
    }
   ],
   "source": [
    "Train[\"Away Team\"].nunique()"
   ]
  },
  {
   "cell_type": "code",
   "execution_count": 19,
   "id": "4cb1ff5a",
   "metadata": {},
   "outputs": [
    {
     "name": "stderr",
     "output_type": "stream",
     "text": [
      "/opt/homebrew/lib/python3.9/site-packages/seaborn/_decorators.py:36: FutureWarning: Pass the following variable as a keyword arg: x. From version 0.12, the only valid positional argument will be `data`, and passing other arguments without an explicit keyword will result in an error or misinterpretation.\n",
      "  warnings.warn(\n"
     ]
    },
    {
     "data": {
      "text/plain": [
       "<AxesSubplot:xlabel='Away Team', ylabel='count'>"
      ]
     },
     "execution_count": 19,
     "metadata": {},
     "output_type": "execute_result"
    },
    {
     "data": {
      "image/png": "[encoded data removed]",
      "text/plain": [
       "<Figure size 1800x504 with 1 Axes>"
      ]
     },
     "metadata": {
      "needs_background": "light"
     },
     "output_type": "display_data"
    }
   ],
   "source": [
    "plt.figure(figsize=(25,7))\n",
    "sns.countplot(Train[\"Away Team\"])"
   ]
  },
  {
   "cell_type": "code",
   "execution_count": 20,
   "id": "b163b312",
   "metadata": {},
   "outputs": [
    {
     "data": {
      "text/plain": [
       "16"
      ]
     },
     "execution_count": 20,
     "metadata": {},
     "output_type": "execute_result"
    }
   ],
   "source": [
    "Test[\"Home Team\"].nunique()"
   ]
  },
  {
   "cell_type": "code",
   "execution_count": 21,
   "id": "56692420",
   "metadata": {},
   "outputs": [
    {
     "name": "stderr",
     "output_type": "stream",
     "text": [
      "/opt/homebrew/lib/python3.9/site-packages/seaborn/_decorators.py:36: FutureWarning: Pass the following variable as a keyword arg: x. From version 0.12, the only valid positional argument will be `data`, and passing other arguments without an explicit keyword will result in an error or misinterpretation.\n",
      "  warnings.warn(\n"
     ]
    },
    {
     "data": {
      "text/plain": [
       "<AxesSubplot:xlabel='Home Team', ylabel='count'>"
      ]
     },
     "execution_count": 21,
     "metadata": {},
     "output_type": "execute_result"
    },
    {
     "data": {
      "image/png": "[encoded data removed]",
      "text/plain": [
       "<Figure size 1800x504 with 1 Axes>"
      ]
     },
     "metadata": {
      "needs_background": "light"
     },
     "output_type": "display_data"
    }
   ],
   "source": [
    "plt.figure(figsize=(25,7))\n",
    "sns.countplot(Test[\"Home Team\"])"
   ]
  },
  {
   "cell_type": "code",
   "execution_count": 22,
   "id": "fd83351e",
   "metadata": {},
   "outputs": [
    {
     "data": {
      "text/plain": [
       "16"
      ]
     },
     "execution_count": 22,
     "metadata": {},
     "output_type": "execute_result"
    }
   ],
   "source": [
    "Test[\"Away Team\"].nunique()"
   ]
  },
  {
   "cell_type": "code",
   "execution_count": 23,
   "id": "9b62ab09",
   "metadata": {},
   "outputs": [
    {
     "name": "stderr",
     "output_type": "stream",
     "text": [
      "/opt/homebrew/lib/python3.9/site-packages/seaborn/_decorators.py:36: FutureWarning: Pass the following variable as a keyword arg: x. From version 0.12, the only valid positional argument will be `data`, and passing other arguments without an explicit keyword will result in an error or misinterpretation.\n",
      "  warnings.warn(\n"
     ]
    },
    {
     "data": {
      "text/plain": [
       "<AxesSubplot:xlabel='Away Team', ylabel='count'>"
      ]
     },
     "execution_count": 23,
     "metadata": {},
     "output_type": "execute_result"
    },
    {
     "data": {
      "image/png": "[encoded data removed]",
      "text/plain": [
       "<Figure size 1800x504 with 1 Axes>"
      ]
     },
     "metadata": {
      "needs_background": "light"
     },
     "output_type": "display_data"
    }
   ],
   "source": [
    "plt.figure(figsize=(25,7))\n",
    "sns.countplot(Test[\"Away Team\"])"
   ]
  },
  {
   "cell_type": "markdown",
   "id": "d7430f78",
   "metadata": {},
   "source": [
    "- Мы видим , что количество команд дома и на выезде одинаково в обоих случаях , однако тестовый подсчет команд более\n",
    "сбалансирован , чем тренеровачный набор данных , может это результат 1 и 2 сезона."
   ]
  },
  {
   "cell_type": "markdown",
   "id": "a5dec101",
   "metadata": {},
   "source": [
    "- Исходя из вывода выше , давайте посмотри на распредления команд только  для первого сезонна "
   ]
  },
  {
   "cell_type": "code",
   "execution_count": 18,
   "id": "773c3c04",
   "metadata": {},
   "outputs": [
    {
     "data": {
      "text/html": [
       "<div>\n",
       "<style scoped>\n",
       "    .dataframe tbody tr th:only-of-type {\n",
       "        vertical-align: middle;\n",
       "    }\n",
       "\n",
       "    .dataframe tbody tr th {\n",
       "        vertical-align: top;\n",
       "    }\n",
       "\n",
       "    .dataframe thead th {\n",
       "        text-align: right;\n",
       "    }\n",
       "</style>\n",
       "<table border=\"1\" class=\"dataframe\">\n",
       "  <thead>\n",
       "    <tr style=\"text-align: right;\">\n",
       "      <th></th>\n",
       "      <th>Date</th>\n",
       "      <th>Season</th>\n",
       "      <th>Match_ID</th>\n",
       "      <th>Game_ID</th>\n",
       "      <th>Home Team</th>\n",
       "      <th>Away Team</th>\n",
       "      <th>Score</th>\n",
       "    </tr>\n",
       "  </thead>\n",
       "  <tbody>\n",
       "    <tr>\n",
       "      <th>0</th>\n",
       "      <td>2017-02-15</td>\n",
       "      <td>1</td>\n",
       "      <td>1.0</td>\n",
       "      <td>ID_KAG4KAE9</td>\n",
       "      <td>Antennae</td>\n",
       "      <td>Andromeda</td>\n",
       "      <td>Away win</td>\n",
       "    </tr>\n",
       "    <tr>\n",
       "      <th>1</th>\n",
       "      <td>2016-09-14</td>\n",
       "      <td>1</td>\n",
       "      <td>12.0</td>\n",
       "      <td>ID_T7H1XN5Z</td>\n",
       "      <td>Andromeda</td>\n",
       "      <td>Antennae</td>\n",
       "      <td>Draw</td>\n",
       "    </tr>\n",
       "    <tr>\n",
       "      <th>2</th>\n",
       "      <td>2016-12-12</td>\n",
       "      <td>1</td>\n",
       "      <td>13.0</td>\n",
       "      <td>ID_O1P9FGN4</td>\n",
       "      <td>Andromeda</td>\n",
       "      <td>Butterfly</td>\n",
       "      <td>Away win</td>\n",
       "    </tr>\n",
       "    <tr>\n",
       "      <th>3</th>\n",
       "      <td>2017-01-25</td>\n",
       "      <td>1</td>\n",
       "      <td>14.0</td>\n",
       "      <td>ID_TR5M4KQV</td>\n",
       "      <td>Andromeda</td>\n",
       "      <td>Cigar</td>\n",
       "      <td>Away win</td>\n",
       "    </tr>\n",
       "    <tr>\n",
       "      <th>4</th>\n",
       "      <td>2016-08-24</td>\n",
       "      <td>1</td>\n",
       "      <td>15.0</td>\n",
       "      <td>ID_EOIECRE2</td>\n",
       "      <td>Andromeda</td>\n",
       "      <td>Circinus</td>\n",
       "      <td>Home Win</td>\n",
       "    </tr>\n",
       "  </tbody>\n",
       "</table>\n",
       "</div>"
      ],
      "text/plain": [
       "         Date  Season  Match_ID      Game_ID  Home Team  Away Team     Score\n",
       "0  2017-02-15       1       1.0  ID_KAG4KAE9   Antennae  Andromeda  Away win\n",
       "1  2016-09-14       1      12.0  ID_T7H1XN5Z  Andromeda   Antennae      Draw\n",
       "2  2016-12-12       1      13.0  ID_O1P9FGN4  Andromeda  Butterfly  Away win\n",
       "3  2017-01-25       1      14.0  ID_TR5M4KQV  Andromeda      Cigar  Away win\n",
       "4  2016-08-24       1      15.0  ID_EOIECRE2  Andromeda   Circinus  Home Win"
      ]
     },
     "execution_count": 18,
     "metadata": {},
     "output_type": "execute_result"
    }
   ],
   "source": [
    "Train_season1 = Train[Train.Season==1]\n",
    "Train_season1.head()"
   ]
  },
  {
   "cell_type": "code",
   "execution_count": 19,
   "id": "a68d3b42",
   "metadata": {},
   "outputs": [
    {
     "data": {
      "text/plain": [
       "array([1])"
      ]
     },
     "execution_count": 19,
     "metadata": {},
     "output_type": "execute_result"
    }
   ],
   "source": [
    "Train_season1.Season.unique()"
   ]
  },
  {
   "cell_type": "markdown",
   "id": "6483eb88",
   "metadata": {},
   "source": [
    "- Посмотрим на то , сколько игр сыграла каждая команда в 1 сезоне.(Для домашних команд)"
   ]
  },
  {
   "cell_type": "code",
   "execution_count": 20,
   "id": "09e2ecf2",
   "metadata": {},
   "outputs": [
    {
     "data": {
      "text/html": [
       "<div>\n",
       "<style scoped>\n",
       "    .dataframe tbody tr th:only-of-type {\n",
       "        vertical-align: middle;\n",
       "    }\n",
       "\n",
       "    .dataframe tbody tr th {\n",
       "        vertical-align: top;\n",
       "    }\n",
       "\n",
       "    .dataframe thead th {\n",
       "        text-align: right;\n",
       "    }\n",
       "</style>\n",
       "<table border=\"1\" class=\"dataframe\">\n",
       "  <thead>\n",
       "    <tr style=\"text-align: right;\">\n",
       "      <th></th>\n",
       "      <th>Home Team</th>\n",
       "      <th>count</th>\n",
       "    </tr>\n",
       "  </thead>\n",
       "  <tbody>\n",
       "    <tr>\n",
       "      <th>0</th>\n",
       "      <td>Andromeda</td>\n",
       "      <td>11</td>\n",
       "    </tr>\n",
       "    <tr>\n",
       "      <th>1</th>\n",
       "      <td>Antennae</td>\n",
       "      <td>13</td>\n",
       "    </tr>\n",
       "    <tr>\n",
       "      <th>2</th>\n",
       "      <td>Backward</td>\n",
       "      <td>13</td>\n",
       "    </tr>\n",
       "    <tr>\n",
       "      <th>3</th>\n",
       "      <td>Butterfly</td>\n",
       "      <td>14</td>\n",
       "    </tr>\n",
       "    <tr>\n",
       "      <th>4</th>\n",
       "      <td>Cartwheel</td>\n",
       "      <td>12</td>\n",
       "    </tr>\n",
       "  </tbody>\n",
       "</table>\n",
       "</div>"
      ],
      "text/plain": [
       "   Home Team  count\n",
       "0  Andromeda     11\n",
       "1   Antennae     13\n",
       "2   Backward     13\n",
       "3  Butterfly     14\n",
       "4  Cartwheel     12"
      ]
     },
     "execution_count": 20,
     "metadata": {},
     "output_type": "execute_result"
    }
   ],
   "source": [
    "Train_season1_all = Train_season1.groupby('Home Team')['Season'].agg(count='count').reset_index().sort_values(by='Home Team')\n",
    "Train_season1_all.head()"
   ]
  },
  {
   "cell_type": "code",
   "execution_count": 21,
   "id": "11160fc5",
   "metadata": {},
   "outputs": [
    {
     "data": {
      "image/png": "[encoded data removed]",
      "text/plain": [
       "<Figure size 1800x504 with 1 Axes>"
      ]
     },
     "metadata": {
      "needs_background": "light"
     },
     "output_type": "display_data"
    }
   ],
   "source": [
    "\n",
    "plt.figure(figsize=(25, 7))\n",
    "\n",
    "plt.plot(Train_season1_all['Home Team'], Train_season1_all['count'])\n",
    "\n",
    "plt.title('Динамика игр команд за 1 сезон.')\n",
    "plt.xlabel('Наименования команд')\n",
    "plt.ylabel('Кол-во игр в 1сезоне')\n",
    "\n",
    "plt.show()"
   ]
  },
  {
   "cell_type": "code",
   "execution_count": 15,
   "id": "553a03ac",
   "metadata": {},
   "outputs": [
    {
     "data": {
      "text/plain": [
       "<AxesSubplot:xlabel='Home Team', ylabel='count'>"
      ]
     },
     "execution_count": 15,
     "metadata": {},
     "output_type": "execute_result"
    },
    {
     "data": {
      "image/png": "[encoded data removed]",
      "text/plain": [
       "<Figure size 1800x504 with 1 Axes>"
      ]
     },
     "metadata": {
      "needs_background": "light"
     },
     "output_type": "display_data"
    }
   ],
   "source": [
    "plt.figure(figsize=(25,7))\n",
    "sns.countplot(Train_season1[\"Home Team\"])"
   ]
  },
  {
   "cell_type": "markdown",
   "id": "f891b116",
   "metadata": {},
   "source": [
    "- Посмотрим на то , сколько игр сыграла каждая команда в 1 сезоне.(Для гостеывх команд)"
   ]
  },
  {
   "cell_type": "code",
   "execution_count": 22,
   "id": "f6478bef",
   "metadata": {},
   "outputs": [
    {
     "data": {
      "text/html": [
       "<div>\n",
       "<style scoped>\n",
       "    .dataframe tbody tr th:only-of-type {\n",
       "        vertical-align: middle;\n",
       "    }\n",
       "\n",
       "    .dataframe tbody tr th {\n",
       "        vertical-align: top;\n",
       "    }\n",
       "\n",
       "    .dataframe thead th {\n",
       "        text-align: right;\n",
       "    }\n",
       "</style>\n",
       "<table border=\"1\" class=\"dataframe\">\n",
       "  <thead>\n",
       "    <tr style=\"text-align: right;\">\n",
       "      <th></th>\n",
       "      <th>Away Team</th>\n",
       "      <th>count</th>\n",
       "    </tr>\n",
       "  </thead>\n",
       "  <tbody>\n",
       "    <tr>\n",
       "      <th>0</th>\n",
       "      <td>Andromeda</td>\n",
       "      <td>10</td>\n",
       "    </tr>\n",
       "    <tr>\n",
       "      <th>1</th>\n",
       "      <td>Antennae</td>\n",
       "      <td>14</td>\n",
       "    </tr>\n",
       "    <tr>\n",
       "      <th>2</th>\n",
       "      <td>Backward</td>\n",
       "      <td>13</td>\n",
       "    </tr>\n",
       "    <tr>\n",
       "      <th>3</th>\n",
       "      <td>Butterfly</td>\n",
       "      <td>13</td>\n",
       "    </tr>\n",
       "    <tr>\n",
       "      <th>4</th>\n",
       "      <td>Cartwheel</td>\n",
       "      <td>12</td>\n",
       "    </tr>\n",
       "  </tbody>\n",
       "</table>\n",
       "</div>"
      ],
      "text/plain": [
       "   Away Team  count\n",
       "0  Andromeda     10\n",
       "1   Antennae     14\n",
       "2   Backward     13\n",
       "3  Butterfly     13\n",
       "4  Cartwheel     12"
      ]
     },
     "execution_count": 22,
     "metadata": {},
     "output_type": "execute_result"
    }
   ],
   "source": [
    "Train_season1_all = Train_season1.groupby('Away Team')['Season'].agg(count='count').reset_index().sort_values(by='Away Team')\n",
    "Train_season1_all.head()"
   ]
  },
  {
   "cell_type": "code",
   "execution_count": 23,
   "id": "a572fb1e",
   "metadata": {},
   "outputs": [
    {
     "data": {
      "image/png": "[encoded data removed]",
      "text/plain": [
       "<Figure size 1800x504 with 1 Axes>"
      ]
     },
     "metadata": {
      "needs_background": "light"
     },
     "output_type": "display_data"
    }
   ],
   "source": [
    "plt.figure(figsize=(25,7))\n",
    "\n",
    "plt.plot(Train_season1_all['Away Team'], Train_season1_all['count'])\n",
    "\n",
    "plt.title('Диниамика игр команд за 1 сезон')\n",
    "plt.xlabel('Наименования команд')\n",
    "plt.ylabel('Кол-во игр в 1 сезоне')\n",
    "\n",
    "plt.show()"
   ]
  },
  {
   "cell_type": "code",
   "execution_count": 33,
   "id": "13980d5c",
   "metadata": {},
   "outputs": [
    {
     "data": {
      "text/plain": [
       "<AxesSubplot:xlabel='Away Team', ylabel='count'>"
      ]
     },
     "execution_count": 33,
     "metadata": {},
     "output_type": "execute_result"
    },
    {
     "data": {
      "image/png": "[encoded data removed]",
      "text/plain": [
       "<Figure size 1800x504 with 1 Axes>"
      ]
     },
     "metadata": {
      "needs_background": "light"
     },
     "output_type": "display_data"
    }
   ],
   "source": [
    "plt.figure(figsize=(25,7))\n",
    "sns.countplot(Train_season1[\"Away Team\"])"
   ]
  },
  {
   "cell_type": "markdown",
   "id": "e464e92e",
   "metadata": {},
   "source": [
    "- Что бы лучше понять , какой из сезонов менее сбалансирован в train, подсчитаем количесвто игр и за 2 сезонн."
   ]
  },
  {
   "cell_type": "code",
   "execution_count": 24,
   "id": "8813bbf0",
   "metadata": {},
   "outputs": [
    {
     "data": {
      "text/html": [
       "<div>\n",
       "<style scoped>\n",
       "    .dataframe tbody tr th:only-of-type {\n",
       "        vertical-align: middle;\n",
       "    }\n",
       "\n",
       "    .dataframe tbody tr th {\n",
       "        vertical-align: top;\n",
       "    }\n",
       "\n",
       "    .dataframe thead th {\n",
       "        text-align: right;\n",
       "    }\n",
       "</style>\n",
       "<table border=\"1\" class=\"dataframe\">\n",
       "  <thead>\n",
       "    <tr style=\"text-align: right;\">\n",
       "      <th></th>\n",
       "      <th>Date</th>\n",
       "      <th>Season</th>\n",
       "      <th>Match_ID</th>\n",
       "      <th>Game_ID</th>\n",
       "      <th>Home Team</th>\n",
       "      <th>Away Team</th>\n",
       "      <th>Score</th>\n",
       "    </tr>\n",
       "  </thead>\n",
       "  <tbody>\n",
       "    <tr>\n",
       "      <th>21</th>\n",
       "      <td>2017-12-16</td>\n",
       "      <td>2</td>\n",
       "      <td>46.0</td>\n",
       "      <td>ID_HPYKEW7R</td>\n",
       "      <td>Antennae</td>\n",
       "      <td>Andromeda</td>\n",
       "      <td>Away win</td>\n",
       "    </tr>\n",
       "    <tr>\n",
       "      <th>22</th>\n",
       "      <td>2018-05-01</td>\n",
       "      <td>2</td>\n",
       "      <td>180.0</td>\n",
       "      <td>ID_IZLDEI78</td>\n",
       "      <td>Andromeda</td>\n",
       "      <td>Antennae</td>\n",
       "      <td>Away win</td>\n",
       "    </tr>\n",
       "    <tr>\n",
       "      <th>23</th>\n",
       "      <td>2018-03-03</td>\n",
       "      <td>2</td>\n",
       "      <td>121.0</td>\n",
       "      <td>ID_UC7PMJ25</td>\n",
       "      <td>Andromeda</td>\n",
       "      <td>Backward</td>\n",
       "      <td>Draw</td>\n",
       "    </tr>\n",
       "    <tr>\n",
       "      <th>24</th>\n",
       "      <td>2018-04-11</td>\n",
       "      <td>2</td>\n",
       "      <td>154.0</td>\n",
       "      <td>ID_5HWA04IU</td>\n",
       "      <td>Andromeda</td>\n",
       "      <td>Sculptor</td>\n",
       "      <td>Draw</td>\n",
       "    </tr>\n",
       "    <tr>\n",
       "      <th>25</th>\n",
       "      <td>2018-03-20</td>\n",
       "      <td>2</td>\n",
       "      <td>133.0</td>\n",
       "      <td>ID_20BPYE4G</td>\n",
       "      <td>Andromeda</td>\n",
       "      <td>Cartwheel</td>\n",
       "      <td>Draw</td>\n",
       "    </tr>\n",
       "  </tbody>\n",
       "</table>\n",
       "</div>"
      ],
      "text/plain": [
       "          Date  Season  Match_ID      Game_ID  Home Team  Away Team     Score\n",
       "21  2017-12-16       2      46.0  ID_HPYKEW7R   Antennae  Andromeda  Away win\n",
       "22  2018-05-01       2     180.0  ID_IZLDEI78  Andromeda   Antennae  Away win\n",
       "23  2018-03-03       2     121.0  ID_UC7PMJ25  Andromeda   Backward      Draw\n",
       "24  2018-04-11       2     154.0  ID_5HWA04IU  Andromeda   Sculptor      Draw\n",
       "25  2018-03-20       2     133.0  ID_20BPYE4G  Andromeda  Cartwheel      Draw"
      ]
     },
     "execution_count": 24,
     "metadata": {},
     "output_type": "execute_result"
    }
   ],
   "source": [
    "Train_season2 = Train[Train.Season == 2]\n",
    "Train_season2.head()"
   ]
  },
  {
   "cell_type": "code",
   "execution_count": 25,
   "id": "c5470607",
   "metadata": {},
   "outputs": [
    {
     "data": {
      "text/plain": [
       "array([2])"
      ]
     },
     "execution_count": 25,
     "metadata": {},
     "output_type": "execute_result"
    }
   ],
   "source": [
    "Train_season2.Season.unique()"
   ]
  },
  {
   "cell_type": "markdown",
   "id": "59d01ef1",
   "metadata": {},
   "source": [
    "- Посмотрим на то , сколько игр сыграла каждая команда в 2 сезоне.(Для домашних команд)"
   ]
  },
  {
   "cell_type": "code",
   "execution_count": 26,
   "id": "c903d367",
   "metadata": {},
   "outputs": [
    {
     "data": {
      "text/html": [
       "<div>\n",
       "<style scoped>\n",
       "    .dataframe tbody tr th:only-of-type {\n",
       "        vertical-align: middle;\n",
       "    }\n",
       "\n",
       "    .dataframe tbody tr th {\n",
       "        vertical-align: top;\n",
       "    }\n",
       "\n",
       "    .dataframe thead th {\n",
       "        text-align: right;\n",
       "    }\n",
       "</style>\n",
       "<table border=\"1\" class=\"dataframe\">\n",
       "  <thead>\n",
       "    <tr style=\"text-align: right;\">\n",
       "      <th></th>\n",
       "      <th>Home Team</th>\n",
       "      <th>count</th>\n",
       "    </tr>\n",
       "  </thead>\n",
       "  <tbody>\n",
       "    <tr>\n",
       "      <th>0</th>\n",
       "      <td>Andromeda</td>\n",
       "      <td>11</td>\n",
       "    </tr>\n",
       "    <tr>\n",
       "      <th>1</th>\n",
       "      <td>Antennae</td>\n",
       "      <td>13</td>\n",
       "    </tr>\n",
       "    <tr>\n",
       "      <th>2</th>\n",
       "      <td>Backward</td>\n",
       "      <td>11</td>\n",
       "    </tr>\n",
       "    <tr>\n",
       "      <th>3</th>\n",
       "      <td>Cartwheel</td>\n",
       "      <td>15</td>\n",
       "    </tr>\n",
       "    <tr>\n",
       "      <th>4</th>\n",
       "      <td>Cigar</td>\n",
       "      <td>12</td>\n",
       "    </tr>\n",
       "  </tbody>\n",
       "</table>\n",
       "</div>"
      ],
      "text/plain": [
       "   Home Team  count\n",
       "0  Andromeda     11\n",
       "1   Antennae     13\n",
       "2   Backward     11\n",
       "3  Cartwheel     15\n",
       "4      Cigar     12"
      ]
     },
     "execution_count": 26,
     "metadata": {},
     "output_type": "execute_result"
    }
   ],
   "source": [
    "Train_season2_all = Train_season2.groupby('Home Team')['Season'].agg(count='count').reset_index().sort_values(by='Home Team')\n",
    "Train_season2_all.head()"
   ]
  },
  {
   "cell_type": "code",
   "execution_count": 29,
   "id": "05fa9e8b",
   "metadata": {},
   "outputs": [
    {
     "data": {
      "image/png": "[encoded data removed]",
      "text/plain": [
       "<Figure size 1800x504 with 1 Axes>"
      ]
     },
     "metadata": {
      "needs_background": "light"
     },
     "output_type": "display_data"
    }
   ],
   "source": [
    "plt.figure(figsize=(25,7))\n",
    "\n",
    "plt.plot(Train_season2_all['Home Team'], Train_season2_all['count'])\n",
    "\n",
    "plt.title('Динамика игр команд за 2 сезон')\n",
    "plt.xlabel('Наименования команд')\n",
    "plt.ylabel('Кол-во игр за 2 сезон')\n",
    "\n",
    "plt.show()"
   ]
  },
  {
   "cell_type": "code",
   "execution_count": 30,
   "id": "ad37d510",
   "metadata": {},
   "outputs": [
    {
     "data": {
      "text/plain": [
       "<AxesSubplot:xlabel='Home Team', ylabel='count'>"
      ]
     },
     "execution_count": 30,
     "metadata": {},
     "output_type": "execute_result"
    },
    {
     "data": {
      "image/png": "[encoded data removed]",
      "text/plain": [
       "<Figure size 1800x504 with 1 Axes>"
      ]
     },
     "metadata": {
      "needs_background": "light"
     },
     "output_type": "display_data"
    }
   ],
   "source": [
    "plt.figure(figsize=(25,7))\n",
    "sns.countplot(Train_season2['Home Team'])"
   ]
  },
  {
   "cell_type": "markdown",
   "id": "a972aac6",
   "metadata": {},
   "source": [
    "- Посмотрим на то , сколько игр сыграла каждая команда в 2 сезоне.(Для гостевых команд)"
   ]
  },
  {
   "cell_type": "code",
   "execution_count": 27,
   "id": "a4553733",
   "metadata": {},
   "outputs": [
    {
     "data": {
      "text/html": [
       "<div>\n",
       "<style scoped>\n",
       "    .dataframe tbody tr th:only-of-type {\n",
       "        vertical-align: middle;\n",
       "    }\n",
       "\n",
       "    .dataframe tbody tr th {\n",
       "        vertical-align: top;\n",
       "    }\n",
       "\n",
       "    .dataframe thead th {\n",
       "        text-align: right;\n",
       "    }\n",
       "</style>\n",
       "<table border=\"1\" class=\"dataframe\">\n",
       "  <thead>\n",
       "    <tr style=\"text-align: right;\">\n",
       "      <th></th>\n",
       "      <th>Away Team</th>\n",
       "      <th>count</th>\n",
       "    </tr>\n",
       "  </thead>\n",
       "  <tbody>\n",
       "    <tr>\n",
       "      <th>0</th>\n",
       "      <td>Andromeda</td>\n",
       "      <td>9</td>\n",
       "    </tr>\n",
       "    <tr>\n",
       "      <th>1</th>\n",
       "      <td>Antennae</td>\n",
       "      <td>14</td>\n",
       "    </tr>\n",
       "    <tr>\n",
       "      <th>2</th>\n",
       "      <td>Backward</td>\n",
       "      <td>12</td>\n",
       "    </tr>\n",
       "    <tr>\n",
       "      <th>3</th>\n",
       "      <td>Cartwheel</td>\n",
       "      <td>12</td>\n",
       "    </tr>\n",
       "    <tr>\n",
       "      <th>4</th>\n",
       "      <td>Cigar</td>\n",
       "      <td>13</td>\n",
       "    </tr>\n",
       "  </tbody>\n",
       "</table>\n",
       "</div>"
      ],
      "text/plain": [
       "   Away Team  count\n",
       "0  Andromeda      9\n",
       "1   Antennae     14\n",
       "2   Backward     12\n",
       "3  Cartwheel     12\n",
       "4      Cigar     13"
      ]
     },
     "execution_count": 27,
     "metadata": {},
     "output_type": "execute_result"
    }
   ],
   "source": [
    "Train_season2_all = Train_season2.groupby('Away Team')['Season'].agg(count='count').reset_index().sort_values(by='Away Team')\n",
    "Train_season2_all.head()"
   ]
  },
  {
   "cell_type": "code",
   "execution_count": 32,
   "id": "f6d9cb4d",
   "metadata": {},
   "outputs": [
    {
     "data": {
      "image/png": "[encoded data removed]",
      "text/plain": [
       "<Figure size 1800x504 with 1 Axes>"
      ]
     },
     "metadata": {
      "needs_background": "light"
     },
     "output_type": "display_data"
    }
   ],
   "source": [
    "plt.figure(figsize=(25,7))\n",
    "\n",
    "plt.plot(Train_season2_all['Away Team'],Train_season2_all['count'])\n",
    "\n",
    "plt.title('Динамика команд за 2 сезон')\n",
    "plt.xlabel('Наименования команд')\n",
    "plt.ylabel('Кол-во игр за 2 сезон')\n",
    "\n",
    "plt.show()"
   ]
  },
  {
   "cell_type": "code",
   "execution_count": 33,
   "id": "2b48a7be",
   "metadata": {},
   "outputs": [
    {
     "data": {
      "text/plain": [
       "<AxesSubplot:xlabel='Away Team', ylabel='count'>"
      ]
     },
     "execution_count": 33,
     "metadata": {},
     "output_type": "execute_result"
    },
    {
     "data": {
      "image/png": "[encoded data removed]",
      "text/plain": [
       "<Figure size 1800x504 with 1 Axes>"
      ]
     },
     "metadata": {
      "needs_background": "light"
     },
     "output_type": "display_data"
    }
   ],
   "source": [
    "plt.figure(figsize=(25,7))\n",
    "sns.countplot(Train_season2['Away Team'])"
   ]
  },
  {
   "cell_type": "markdown",
   "id": "0572bf5a",
   "metadata": {},
   "source": [
    "## Target"
   ]
  },
  {
   "cell_type": "markdown",
   "id": "022d9746",
   "metadata": {},
   "source": [
    "#### Задача\n",
    "\n",
    "- Цель этой задачи — предсказать исход футбольного матча на основе исторических данных о матче и игроках.\n",
    "\n"
   ]
  },
  {
   "cell_type": "markdown",
   "id": "94d90d6f",
   "metadata": {},
   "source": [
    "- Так как унас задача классификации , мы смотрим на соотношения классов.\n",
    "- Метрика определнная заданием **logloss**"
   ]
  },
  {
   "cell_type": "code",
   "execution_count": 28,
   "id": "ba804762",
   "metadata": {},
   "outputs": [
    {
     "data": {
      "image/png": "[encoded data removed]",
      "text/plain": [
       "<Figure size 1080x504 with 1 Axes>"
      ]
     },
     "metadata": {
      "needs_background": "light"
     },
     "output_type": "display_data"
    }
   ],
   "source": [
    "# нормирование на размер датасета\n",
    "norm_target = (Train.Score.value_counts(\n",
    "    normalize=True).mul(100).rename('percent').reset_index())\n",
    "\n",
    "plt.figure(figsize=(15, 7))\n",
    "ax = sns.barplot(x='index', y='percent', data=norm_target)\n",
    "\n",
    "# Вывод значений над графиками - annotate()\n",
    "# В цикле смотрим каждый столбец графика и на нем отмечаем значения\n",
    "for p in ax.patches:\n",
    "    percentage = '{:.1f}%'.format(p.get_height())\n",
    "    ax.annotate(\n",
    "        percentage,  # текст\n",
    "        # координата xy\n",
    "        (p.get_x() + p.get_width() / 2., p.get_height()),\n",
    "        # центрирование\n",
    "        ha='center',\n",
    "        va='center',\n",
    "        xytext=(0, 10),\n",
    "        # точка смещения относительно координаты\n",
    "        textcoords='offset points',\n",
    "        fontsize=14)\n",
    "\n",
    "plt.title('Default', fontsize=20)\n",
    "plt.xlabel('default', fontsize=14)\n",
    "plt.ylabel('Проценты', fontsize=14)\n",
    "\n",
    "plt.xticks(fontsize=14)\n",
    "plt.yticks(fontsize=14)\n",
    "plt.show()"
   ]
  },
  {
   "cell_type": "markdown",
   "id": "48f012a1",
   "metadata": {},
   "source": [
    "- Дисбаланса классов нет."
   ]
  },
  {
   "cell_type": "markdown",
   "id": "4218983b",
   "metadata": {},
   "source": [
    "- Посмотри на то сколько каждая из команд будь-то гостевая или домашняя , одержали победу или поиграли или же сыграли в ничею."
   ]
  },
  {
   "cell_type": "code",
   "execution_count": 80,
   "id": "182b34bb",
   "metadata": {},
   "outputs": [],
   "source": [
    "def barplot_group(col_main: str, col_group: str, title: str) -> None:\n",
    "    \"\"\"\n",
    "    Построение barplot с нормированными данными с выводом значений на графике\n",
    "    \"\"\"\n",
    "    \n",
    "    plt.figure(figsize=(25, 6))\n",
    "\n",
    "    data = (all_data2.groupby([col_group])[col_main]\n",
    "            .value_counts(normalize=True)\n",
    "            .rename('count')\n",
    "            .mul(100)\n",
    "            .reset_index()\n",
    "            .sort_values(col_group))\n",
    "\n",
    "    ax = sns.barplot(x=col_main, y=\"count\", hue=col_group, data=data, palette='rocket')\n",
    "\n",
    "    for p in ax.patches:\n",
    "        percentage = '{:.1f}%'.format(p.get_height())\n",
    "        ax.annotate(percentage,  # текст\n",
    "                    (p.get_x() + p.get_width() / 2.,\n",
    "                     p.get_height()),  # координата xy\n",
    "                    ha='center',  # центрирование\n",
    "                    va='center',\n",
    "                    xytext=(0, 7),\n",
    "                    textcoords='offset points',  # точка смещения относительно координаты\n",
    "                    fontsize=12)\n",
    "\n",
    "    plt.title(title, fontsize=16)\n",
    "    plt.ylabel('count', fontsize=14)\n",
    "    plt.xlabel(col_main, fontsize=14)\n",
    "    plt.show()"
   ]
  },
  {
   "cell_type": "markdown",
   "id": "ee665f9b",
   "metadata": {},
   "source": [
    "- Переименнуем колоннки 'Home Team', 'Awat Team'"
   ]
  },
  {
   "cell_type": "code",
   "execution_count": 8,
   "id": "7b844c7a",
   "metadata": {},
   "outputs": [
    {
     "data": {
      "text/html": [
       "<div>\n",
       "<style scoped>\n",
       "    .dataframe tbody tr th:only-of-type {\n",
       "        vertical-align: middle;\n",
       "    }\n",
       "\n",
       "    .dataframe tbody tr th {\n",
       "        vertical-align: top;\n",
       "    }\n",
       "\n",
       "    .dataframe thead th {\n",
       "        text-align: right;\n",
       "    }\n",
       "</style>\n",
       "<table border=\"1\" class=\"dataframe\">\n",
       "  <thead>\n",
       "    <tr style=\"text-align: right;\">\n",
       "      <th></th>\n",
       "      <th>Date</th>\n",
       "      <th>Season</th>\n",
       "      <th>Match_ID</th>\n",
       "      <th>Game_ID</th>\n",
       "      <th>Home_Team</th>\n",
       "      <th>Away_Team</th>\n",
       "      <th>Score</th>\n",
       "    </tr>\n",
       "  </thead>\n",
       "  <tbody>\n",
       "    <tr>\n",
       "      <th>0</th>\n",
       "      <td>2017-02-15</td>\n",
       "      <td>1</td>\n",
       "      <td>1.0</td>\n",
       "      <td>ID_KAG4KAE9</td>\n",
       "      <td>Antennae</td>\n",
       "      <td>Andromeda</td>\n",
       "      <td>Away win</td>\n",
       "    </tr>\n",
       "    <tr>\n",
       "      <th>1</th>\n",
       "      <td>2016-09-14</td>\n",
       "      <td>1</td>\n",
       "      <td>12.0</td>\n",
       "      <td>ID_T7H1XN5Z</td>\n",
       "      <td>Andromeda</td>\n",
       "      <td>Antennae</td>\n",
       "      <td>Draw</td>\n",
       "    </tr>\n",
       "    <tr>\n",
       "      <th>2</th>\n",
       "      <td>2016-12-12</td>\n",
       "      <td>1</td>\n",
       "      <td>13.0</td>\n",
       "      <td>ID_O1P9FGN4</td>\n",
       "      <td>Andromeda</td>\n",
       "      <td>Butterfly</td>\n",
       "      <td>Away win</td>\n",
       "    </tr>\n",
       "    <tr>\n",
       "      <th>3</th>\n",
       "      <td>2017-01-25</td>\n",
       "      <td>1</td>\n",
       "      <td>14.0</td>\n",
       "      <td>ID_TR5M4KQV</td>\n",
       "      <td>Andromeda</td>\n",
       "      <td>Cigar</td>\n",
       "      <td>Away win</td>\n",
       "    </tr>\n",
       "    <tr>\n",
       "      <th>4</th>\n",
       "      <td>2016-08-24</td>\n",
       "      <td>1</td>\n",
       "      <td>15.0</td>\n",
       "      <td>ID_EOIECRE2</td>\n",
       "      <td>Andromeda</td>\n",
       "      <td>Circinus</td>\n",
       "      <td>Home Win</td>\n",
       "    </tr>\n",
       "  </tbody>\n",
       "</table>\n",
       "</div>"
      ],
      "text/plain": [
       "         Date  Season  Match_ID      Game_ID  Home_Team  Away_Team     Score\n",
       "0  2017-02-15       1       1.0  ID_KAG4KAE9   Antennae  Andromeda  Away win\n",
       "1  2016-09-14       1      12.0  ID_T7H1XN5Z  Andromeda   Antennae      Draw\n",
       "2  2016-12-12       1      13.0  ID_O1P9FGN4  Andromeda  Butterfly  Away win\n",
       "3  2017-01-25       1      14.0  ID_TR5M4KQV  Andromeda      Cigar  Away win\n",
       "4  2016-08-24       1      15.0  ID_EOIECRE2  Andromeda   Circinus  Home Win"
      ]
     },
     "execution_count": 8,
     "metadata": {},
     "output_type": "execute_result"
    }
   ],
   "source": [
    "Train = Train.rename(columns = {'Home Team':'Home_Team','Away Team':'Away_Team'})\n",
    "Train.head()"
   ]
  },
  {
   "cell_type": "markdown",
   "id": "e2050d36",
   "metadata": {},
   "source": [
    "- Количество уникальных команд среди гостей"
   ]
  },
  {
   "cell_type": "code",
   "execution_count": 31,
   "id": "bad4e035",
   "metadata": {},
   "outputs": [
    {
     "data": {
      "text/plain": [
       "array(['Andromeda', 'Antennae', 'Butterfly', 'Cigar', 'Circinus',\n",
       "       'Cartwheel', 'Coma Pinwheel', 'Comet', 'Cosmos Redshift 7',\n",
       "       'Fireworks', 'Medusa Merger', 'Milky Way', 'Backward', 'Sculptor',\n",
       "       'Sunflower', 'Triangulum', 'Eye of Sauron', 'Tadpole', 'Sombrero'],\n",
       "      dtype=object)"
      ]
     },
     "execution_count": 31,
     "metadata": {},
     "output_type": "execute_result"
    }
   ],
   "source": [
    "Train['Away_Team'].unique()"
   ]
  },
  {
   "cell_type": "markdown",
   "id": "05958870",
   "metadata": {},
   "source": [
    "**График распределенния побед домашних команд**"
   ]
  },
  {
   "cell_type": "code",
   "execution_count": 78,
   "id": "c9963138",
   "metadata": {},
   "outputs": [
    {
     "data": {
      "image/png": "[encoded data removed]",
      "text/plain": [
       "<Figure size 1800x432 with 1 Axes>"
      ]
     },
     "metadata": {
      "needs_background": "light"
     },
     "output_type": "display_data"
    }
   ],
   "source": [
    "barplot_group('Home_Team','Score','Home_Team-Score')"
   ]
  },
  {
   "cell_type": "markdown",
   "id": "dc2b8626",
   "metadata": {},
   "source": [
    "- Этот график нам показывает , что из домашних команд , больше всего побед дома одержала команда 'Medusa Merger'"
   ]
  },
  {
   "cell_type": "markdown",
   "id": "51ab66aa",
   "metadata": {},
   "source": [
    "**График распределения гостевых команд**"
   ]
  },
  {
   "cell_type": "code",
   "execution_count": 33,
   "id": "2b4c1212",
   "metadata": {},
   "outputs": [
    {
     "data": {
      "image/png": "[encoded data removed]",
      "text/plain": [
       "<Figure size 1800x432 with 1 Axes>"
      ]
     },
     "metadata": {
      "needs_background": "light"
     },
     "output_type": "display_data"
    }
   ],
   "source": [
    "barplot_group('Away_Team','Score','Away_Team-Score')"
   ]
  },
  {
   "cell_type": "markdown",
   "id": "0e4d4068",
   "metadata": {},
   "source": [
    "- Тут мы видим , что из гостевых команд , больше все побед в гостях одержала так же'Medusa Merger'"
   ]
  },
  {
   "cell_type": "markdown",
   "id": "64def3e9",
   "metadata": {},
   "source": [
    "### Разработка признаков и проверка гипотез."
   ]
  },
  {
   "cell_type": "markdown",
   "id": "3474ad43",
   "metadata": {},
   "source": [
    "#### Статистика игр и проверка гепотез\n",
    "\n",
    "- Файлы \"train_game_statistics\" , \"test_game_statistics\" показывает как проходила игра от начала до конца , действия в игре и.т.д\n",
    "- Мы должны соединить эти наборы данных с \"test\",\"train\"."
   ]
  },
  {
   "cell_type": "code",
   "execution_count": 9,
   "id": "2dd2da40",
   "metadata": {},
   "outputs": [],
   "source": [
    "Train[\"Train\"] = 1\n",
    "Test[\"Train\"]= 0\n",
    "\n",
    "train_test = pd.concat([Train, Test])"
   ]
  },
  {
   "cell_type": "code",
   "execution_count": 10,
   "id": "ab400344",
   "metadata": {},
   "outputs": [
    {
     "data": {
      "text/plain": [
       "(646, 10)"
      ]
     },
     "execution_count": 10,
     "metadata": {},
     "output_type": "execute_result"
    }
   ],
   "source": [
    "train_test.shape"
   ]
  },
  {
   "cell_type": "code",
   "execution_count": 11,
   "id": "6989fb6f",
   "metadata": {},
   "outputs": [
    {
     "data": {
      "text/html": [
       "<div>\n",
       "<style scoped>\n",
       "    .dataframe tbody tr th:only-of-type {\n",
       "        vertical-align: middle;\n",
       "    }\n",
       "\n",
       "    .dataframe tbody tr th {\n",
       "        vertical-align: top;\n",
       "    }\n",
       "\n",
       "    .dataframe thead th {\n",
       "        text-align: right;\n",
       "    }\n",
       "</style>\n",
       "<table border=\"1\" class=\"dataframe\">\n",
       "  <thead>\n",
       "    <tr style=\"text-align: right;\">\n",
       "      <th></th>\n",
       "      <th>Date</th>\n",
       "      <th>Season</th>\n",
       "      <th>Match_ID</th>\n",
       "      <th>Game_ID</th>\n",
       "      <th>Home_Team</th>\n",
       "      <th>Away_Team</th>\n",
       "      <th>Score</th>\n",
       "      <th>Train</th>\n",
       "      <th>Home Team</th>\n",
       "      <th>Away Team</th>\n",
       "    </tr>\n",
       "  </thead>\n",
       "  <tbody>\n",
       "    <tr>\n",
       "      <th>0</th>\n",
       "      <td>2017-02-15</td>\n",
       "      <td>1</td>\n",
       "      <td>1.0</td>\n",
       "      <td>ID_KAG4KAE9</td>\n",
       "      <td>Antennae</td>\n",
       "      <td>Andromeda</td>\n",
       "      <td>Away win</td>\n",
       "      <td>1</td>\n",
       "      <td>NaN</td>\n",
       "      <td>NaN</td>\n",
       "    </tr>\n",
       "    <tr>\n",
       "      <th>1</th>\n",
       "      <td>2016-09-14</td>\n",
       "      <td>1</td>\n",
       "      <td>12.0</td>\n",
       "      <td>ID_T7H1XN5Z</td>\n",
       "      <td>Andromeda</td>\n",
       "      <td>Antennae</td>\n",
       "      <td>Draw</td>\n",
       "      <td>1</td>\n",
       "      <td>NaN</td>\n",
       "      <td>NaN</td>\n",
       "    </tr>\n",
       "    <tr>\n",
       "      <th>2</th>\n",
       "      <td>2016-12-12</td>\n",
       "      <td>1</td>\n",
       "      <td>13.0</td>\n",
       "      <td>ID_O1P9FGN4</td>\n",
       "      <td>Andromeda</td>\n",
       "      <td>Butterfly</td>\n",
       "      <td>Away win</td>\n",
       "      <td>1</td>\n",
       "      <td>NaN</td>\n",
       "      <td>NaN</td>\n",
       "    </tr>\n",
       "  </tbody>\n",
       "</table>\n",
       "</div>"
      ],
      "text/plain": [
       "         Date  Season  Match_ID      Game_ID  Home_Team  Away_Team     Score  \\\n",
       "0  2017-02-15       1       1.0  ID_KAG4KAE9   Antennae  Andromeda  Away win   \n",
       "1  2016-09-14       1      12.0  ID_T7H1XN5Z  Andromeda   Antennae      Draw   \n",
       "2  2016-12-12       1      13.0  ID_O1P9FGN4  Andromeda  Butterfly  Away win   \n",
       "\n",
       "   Train Home Team Away Team  \n",
       "0      1       NaN       NaN  \n",
       "1      1       NaN       NaN  \n",
       "2      1       NaN       NaN  "
      ]
     },
     "execution_count": 11,
     "metadata": {},
     "output_type": "execute_result"
    }
   ],
   "source": [
    "train_test.head(3)"
   ]
  },
  {
   "cell_type": "markdown",
   "id": "f65c570d",
   "metadata": {},
   "source": [
    "- Удаляем столбцы 'Home  Team', 'Away Team'"
   ]
  },
  {
   "cell_type": "code",
   "execution_count": 12,
   "id": "53d604c4",
   "metadata": {},
   "outputs": [],
   "source": [
    "train_test = train_test.drop(['Home Team','Away Team'], axis=1)"
   ]
  },
  {
   "cell_type": "code",
   "execution_count": 38,
   "id": "bd92c666",
   "metadata": {},
   "outputs": [
    {
     "data": {
      "text/html": [
       "<div>\n",
       "<style scoped>\n",
       "    .dataframe tbody tr th:only-of-type {\n",
       "        vertical-align: middle;\n",
       "    }\n",
       "\n",
       "    .dataframe tbody tr th {\n",
       "        vertical-align: top;\n",
       "    }\n",
       "\n",
       "    .dataframe thead th {\n",
       "        text-align: right;\n",
       "    }\n",
       "</style>\n",
       "<table border=\"1\" class=\"dataframe\">\n",
       "  <thead>\n",
       "    <tr style=\"text-align: right;\">\n",
       "      <th></th>\n",
       "      <th>Date</th>\n",
       "      <th>Season</th>\n",
       "      <th>Match_ID</th>\n",
       "      <th>Game_ID</th>\n",
       "      <th>Home_Team</th>\n",
       "      <th>Away_Team</th>\n",
       "      <th>Score</th>\n",
       "      <th>Train</th>\n",
       "    </tr>\n",
       "  </thead>\n",
       "  <tbody>\n",
       "    <tr>\n",
       "      <th>0</th>\n",
       "      <td>2017-02-15</td>\n",
       "      <td>1</td>\n",
       "      <td>1.0</td>\n",
       "      <td>ID_KAG4KAE9</td>\n",
       "      <td>Antennae</td>\n",
       "      <td>Andromeda</td>\n",
       "      <td>Away win</td>\n",
       "      <td>1</td>\n",
       "    </tr>\n",
       "    <tr>\n",
       "      <th>1</th>\n",
       "      <td>2016-09-14</td>\n",
       "      <td>1</td>\n",
       "      <td>12.0</td>\n",
       "      <td>ID_T7H1XN5Z</td>\n",
       "      <td>Andromeda</td>\n",
       "      <td>Antennae</td>\n",
       "      <td>Draw</td>\n",
       "      <td>1</td>\n",
       "    </tr>\n",
       "    <tr>\n",
       "      <th>2</th>\n",
       "      <td>2016-12-12</td>\n",
       "      <td>1</td>\n",
       "      <td>13.0</td>\n",
       "      <td>ID_O1P9FGN4</td>\n",
       "      <td>Andromeda</td>\n",
       "      <td>Butterfly</td>\n",
       "      <td>Away win</td>\n",
       "      <td>1</td>\n",
       "    </tr>\n",
       "    <tr>\n",
       "      <th>3</th>\n",
       "      <td>2017-01-25</td>\n",
       "      <td>1</td>\n",
       "      <td>14.0</td>\n",
       "      <td>ID_TR5M4KQV</td>\n",
       "      <td>Andromeda</td>\n",
       "      <td>Cigar</td>\n",
       "      <td>Away win</td>\n",
       "      <td>1</td>\n",
       "    </tr>\n",
       "    <tr>\n",
       "      <th>4</th>\n",
       "      <td>2016-08-24</td>\n",
       "      <td>1</td>\n",
       "      <td>15.0</td>\n",
       "      <td>ID_EOIECRE2</td>\n",
       "      <td>Andromeda</td>\n",
       "      <td>Circinus</td>\n",
       "      <td>Home Win</td>\n",
       "      <td>1</td>\n",
       "    </tr>\n",
       "  </tbody>\n",
       "</table>\n",
       "</div>"
      ],
      "text/plain": [
       "         Date  Season  Match_ID      Game_ID  Home_Team  Away_Team     Score  \\\n",
       "0  2017-02-15       1       1.0  ID_KAG4KAE9   Antennae  Andromeda  Away win   \n",
       "1  2016-09-14       1      12.0  ID_T7H1XN5Z  Andromeda   Antennae      Draw   \n",
       "2  2016-12-12       1      13.0  ID_O1P9FGN4  Andromeda  Butterfly  Away win   \n",
       "3  2017-01-25       1      14.0  ID_TR5M4KQV  Andromeda      Cigar  Away win   \n",
       "4  2016-08-24       1      15.0  ID_EOIECRE2  Andromeda   Circinus  Home Win   \n",
       "\n",
       "   Train  \n",
       "0      1  \n",
       "1      1  \n",
       "2      1  \n",
       "3      1  \n",
       "4      1  "
      ]
     },
     "execution_count": 38,
     "metadata": {},
     "output_type": "execute_result"
    }
   ],
   "source": [
    "train_test.head()"
   ]
  },
  {
   "cell_type": "markdown",
   "id": "27b2c439",
   "metadata": {},
   "source": [
    "- Соединяем данные игровой статситики (тестовые и тренировачные)"
   ]
  },
  {
   "cell_type": "code",
   "execution_count": 39,
   "id": "ff37bea7",
   "metadata": {},
   "outputs": [],
   "source": [
    "game_statistics = pd.concat([train_game_statistics, test_game_statistics])"
   ]
  },
  {
   "cell_type": "markdown",
   "id": "36453bf3",
   "metadata": {},
   "source": [
    "**Соединяем все данные в одну переменную 'all_data'**"
   ]
  },
  {
   "cell_type": "code",
   "execution_count": 40,
   "id": "3145c147",
   "metadata": {},
   "outputs": [],
   "source": [
    "all_data = game_statistics.merge(train_test, on=\"Game_ID\")"
   ]
  },
  {
   "cell_type": "markdown",
   "id": "947c1447",
   "metadata": {},
   "source": [
    "**Первые 5 строк**"
   ]
  },
  {
   "cell_type": "code",
   "execution_count": 41,
   "id": "f0e05392",
   "metadata": {},
   "outputs": [
    {
     "data": {
      "text/html": [
       "<div>\n",
       "<style scoped>\n",
       "    .dataframe tbody tr th:only-of-type {\n",
       "        vertical-align: middle;\n",
       "    }\n",
       "\n",
       "    .dataframe tbody tr th {\n",
       "        vertical-align: top;\n",
       "    }\n",
       "\n",
       "    .dataframe thead th {\n",
       "        text-align: right;\n",
       "    }\n",
       "</style>\n",
       "<table border=\"1\" class=\"dataframe\">\n",
       "  <thead>\n",
       "    <tr style=\"text-align: right;\">\n",
       "      <th></th>\n",
       "      <th>Game_ID</th>\n",
       "      <th>Player_ID</th>\n",
       "      <th>id</th>\n",
       "      <th>X</th>\n",
       "      <th>Y</th>\n",
       "      <th>Team</th>\n",
       "      <th>Action</th>\n",
       "      <th>Half</th>\n",
       "      <th>Season_x</th>\n",
       "      <th>Manager</th>\n",
       "      <th>Opposition_Team</th>\n",
       "      <th>Shots</th>\n",
       "      <th>SoT</th>\n",
       "      <th>Goals_scored</th>\n",
       "      <th>Goals_conceded</th>\n",
       "      <th>Accurate passes</th>\n",
       "      <th>Inaccurate passes</th>\n",
       "      <th>Passes</th>\n",
       "      <th>Start_minutes</th>\n",
       "      <th>End_minutes</th>\n",
       "      <th>next_player</th>\n",
       "      <th>next_action</th>\n",
       "      <th>next_x</th>\n",
       "      <th>next_y</th>\n",
       "      <th>event_id</th>\n",
       "      <th>next_team</th>\n",
       "      <th>next_event_id</th>\n",
       "      <th>xt_value</th>\n",
       "      <th>Date</th>\n",
       "      <th>Season_y</th>\n",
       "      <th>Match_ID</th>\n",
       "      <th>Home_Team</th>\n",
       "      <th>Away_Team</th>\n",
       "      <th>Score</th>\n",
       "      <th>Train</th>\n",
       "    </tr>\n",
       "  </thead>\n",
       "  <tbody>\n",
       "    <tr>\n",
       "      <th>0</th>\n",
       "      <td>ID_ZZKYYPVY</td>\n",
       "      <td>Player_O7HO1NOB</td>\n",
       "      <td>1.0</td>\n",
       "      <td>52.5</td>\n",
       "      <td>34.0</td>\n",
       "      <td>Circinus</td>\n",
       "      <td>Accurate passes</td>\n",
       "      <td>1st half</td>\n",
       "      <td>2</td>\n",
       "      <td>Ryoichi</td>\n",
       "      <td>Backward</td>\n",
       "      <td>0.0</td>\n",
       "      <td>0.0</td>\n",
       "      <td>0.0</td>\n",
       "      <td>0.0</td>\n",
       "      <td>1.0</td>\n",
       "      <td>0.0</td>\n",
       "      <td>1.0</td>\n",
       "      <td>0.03</td>\n",
       "      <td>0.37</td>\n",
       "      <td>NaN</td>\n",
       "      <td>NaN</td>\n",
       "      <td>NaN</td>\n",
       "      <td>NaN</td>\n",
       "      <td>NaN</td>\n",
       "      <td>NaN</td>\n",
       "      <td>NaN</td>\n",
       "      <td>NaN</td>\n",
       "      <td>2017-12-06</td>\n",
       "      <td>2</td>\n",
       "      <td>39.0</td>\n",
       "      <td>Backward</td>\n",
       "      <td>Circinus</td>\n",
       "      <td>Home Win</td>\n",
       "      <td>1</td>\n",
       "    </tr>\n",
       "    <tr>\n",
       "      <th>1</th>\n",
       "      <td>ID_ZZKYYPVY</td>\n",
       "      <td>Player_O7HO1NOB</td>\n",
       "      <td>2.0</td>\n",
       "      <td>52.5</td>\n",
       "      <td>34.0</td>\n",
       "      <td>Circinus</td>\n",
       "      <td>Positional attacks</td>\n",
       "      <td>1st half</td>\n",
       "      <td>2</td>\n",
       "      <td>Ryoichi</td>\n",
       "      <td>Backward</td>\n",
       "      <td>0.0</td>\n",
       "      <td>0.0</td>\n",
       "      <td>0.0</td>\n",
       "      <td>0.0</td>\n",
       "      <td>0.0</td>\n",
       "      <td>0.0</td>\n",
       "      <td>0.0</td>\n",
       "      <td>0.03</td>\n",
       "      <td>0.37</td>\n",
       "      <td>NaN</td>\n",
       "      <td>NaN</td>\n",
       "      <td>NaN</td>\n",
       "      <td>NaN</td>\n",
       "      <td>NaN</td>\n",
       "      <td>NaN</td>\n",
       "      <td>NaN</td>\n",
       "      <td>NaN</td>\n",
       "      <td>2017-12-06</td>\n",
       "      <td>2</td>\n",
       "      <td>39.0</td>\n",
       "      <td>Backward</td>\n",
       "      <td>Circinus</td>\n",
       "      <td>Home Win</td>\n",
       "      <td>1</td>\n",
       "    </tr>\n",
       "    <tr>\n",
       "      <th>2</th>\n",
       "      <td>ID_ZZKYYPVY</td>\n",
       "      <td>Player_J0V7B0YE</td>\n",
       "      <td>3.0</td>\n",
       "      <td>37.0</td>\n",
       "      <td>32.7</td>\n",
       "      <td>Circinus</td>\n",
       "      <td>Positional attacks</td>\n",
       "      <td>1st half</td>\n",
       "      <td>2</td>\n",
       "      <td>Ryoichi</td>\n",
       "      <td>Backward</td>\n",
       "      <td>0.0</td>\n",
       "      <td>0.0</td>\n",
       "      <td>0.0</td>\n",
       "      <td>0.0</td>\n",
       "      <td>0.0</td>\n",
       "      <td>0.0</td>\n",
       "      <td>0.0</td>\n",
       "      <td>0.05</td>\n",
       "      <td>0.38</td>\n",
       "      <td>NaN</td>\n",
       "      <td>NaN</td>\n",
       "      <td>NaN</td>\n",
       "      <td>NaN</td>\n",
       "      <td>NaN</td>\n",
       "      <td>NaN</td>\n",
       "      <td>NaN</td>\n",
       "      <td>NaN</td>\n",
       "      <td>2017-12-06</td>\n",
       "      <td>2</td>\n",
       "      <td>39.0</td>\n",
       "      <td>Backward</td>\n",
       "      <td>Circinus</td>\n",
       "      <td>Home Win</td>\n",
       "      <td>1</td>\n",
       "    </tr>\n",
       "    <tr>\n",
       "      <th>3</th>\n",
       "      <td>ID_ZZKYYPVY</td>\n",
       "      <td>Player_J0V7B0YE</td>\n",
       "      <td>4.0</td>\n",
       "      <td>39.5</td>\n",
       "      <td>33.0</td>\n",
       "      <td>Circinus</td>\n",
       "      <td>Positional attacks</td>\n",
       "      <td>1st half</td>\n",
       "      <td>2</td>\n",
       "      <td>Ryoichi</td>\n",
       "      <td>Backward</td>\n",
       "      <td>0.0</td>\n",
       "      <td>0.0</td>\n",
       "      <td>0.0</td>\n",
       "      <td>0.0</td>\n",
       "      <td>0.0</td>\n",
       "      <td>0.0</td>\n",
       "      <td>0.0</td>\n",
       "      <td>0.07</td>\n",
       "      <td>0.40</td>\n",
       "      <td>NaN</td>\n",
       "      <td>NaN</td>\n",
       "      <td>NaN</td>\n",
       "      <td>NaN</td>\n",
       "      <td>NaN</td>\n",
       "      <td>NaN</td>\n",
       "      <td>NaN</td>\n",
       "      <td>NaN</td>\n",
       "      <td>2017-12-06</td>\n",
       "      <td>2</td>\n",
       "      <td>39.0</td>\n",
       "      <td>Backward</td>\n",
       "      <td>Circinus</td>\n",
       "      <td>Home Win</td>\n",
       "      <td>1</td>\n",
       "    </tr>\n",
       "    <tr>\n",
       "      <th>4</th>\n",
       "      <td>ID_ZZKYYPVY</td>\n",
       "      <td>Player_J0V7B0YE</td>\n",
       "      <td>5.0</td>\n",
       "      <td>39.5</td>\n",
       "      <td>33.0</td>\n",
       "      <td>Circinus</td>\n",
       "      <td>Inaccurate passes</td>\n",
       "      <td>1st half</td>\n",
       "      <td>2</td>\n",
       "      <td>Ryoichi</td>\n",
       "      <td>Backward</td>\n",
       "      <td>0.0</td>\n",
       "      <td>0.0</td>\n",
       "      <td>0.0</td>\n",
       "      <td>0.0</td>\n",
       "      <td>0.0</td>\n",
       "      <td>1.0</td>\n",
       "      <td>1.0</td>\n",
       "      <td>0.07</td>\n",
       "      <td>0.40</td>\n",
       "      <td>NaN</td>\n",
       "      <td>NaN</td>\n",
       "      <td>NaN</td>\n",
       "      <td>NaN</td>\n",
       "      <td>NaN</td>\n",
       "      <td>NaN</td>\n",
       "      <td>NaN</td>\n",
       "      <td>NaN</td>\n",
       "      <td>2017-12-06</td>\n",
       "      <td>2</td>\n",
       "      <td>39.0</td>\n",
       "      <td>Backward</td>\n",
       "      <td>Circinus</td>\n",
       "      <td>Home Win</td>\n",
       "      <td>1</td>\n",
       "    </tr>\n",
       "  </tbody>\n",
       "</table>\n",
       "</div>"
      ],
      "text/plain": [
       "       Game_ID        Player_ID   id     X     Y      Team  \\\n",
       "0  ID_ZZKYYPVY  Player_O7HO1NOB  1.0  52.5  34.0  Circinus   \n",
       "1  ID_ZZKYYPVY  Player_O7HO1NOB  2.0  52.5  34.0  Circinus   \n",
       "2  ID_ZZKYYPVY  Player_J0V7B0YE  3.0  37.0  32.7  Circinus   \n",
       "3  ID_ZZKYYPVY  Player_J0V7B0YE  4.0  39.5  33.0  Circinus   \n",
       "4  ID_ZZKYYPVY  Player_J0V7B0YE  5.0  39.5  33.0  Circinus   \n",
       "\n",
       "               Action      Half  Season_x  Manager Opposition_Team  Shots  \\\n",
       "0     Accurate passes  1st half         2  Ryoichi        Backward    0.0   \n",
       "1  Positional attacks  1st half         2  Ryoichi        Backward    0.0   \n",
       "2  Positional attacks  1st half         2  Ryoichi        Backward    0.0   \n",
       "3  Positional attacks  1st half         2  Ryoichi        Backward    0.0   \n",
       "4   Inaccurate passes  1st half         2  Ryoichi        Backward    0.0   \n",
       "\n",
       "   SoT  Goals_scored  Goals_conceded  Accurate passes  Inaccurate passes  \\\n",
       "0  0.0           0.0             0.0              1.0                0.0   \n",
       "1  0.0           0.0             0.0              0.0                0.0   \n",
       "2  0.0           0.0             0.0              0.0                0.0   \n",
       "3  0.0           0.0             0.0              0.0                0.0   \n",
       "4  0.0           0.0             0.0              0.0                1.0   \n",
       "\n",
       "   Passes  Start_minutes  End_minutes next_player  next_action  next_x  \\\n",
       "0     1.0           0.03         0.37         NaN          NaN     NaN   \n",
       "1     0.0           0.03         0.37         NaN          NaN     NaN   \n",
       "2     0.0           0.05         0.38         NaN          NaN     NaN   \n",
       "3     0.0           0.07         0.40         NaN          NaN     NaN   \n",
       "4     1.0           0.07         0.40         NaN          NaN     NaN   \n",
       "\n",
       "   next_y  event_id next_team  next_event_id  xt_value        Date  Season_y  \\\n",
       "0     NaN       NaN       NaN            NaN       NaN  2017-12-06         2   \n",
       "1     NaN       NaN       NaN            NaN       NaN  2017-12-06         2   \n",
       "2     NaN       NaN       NaN            NaN       NaN  2017-12-06         2   \n",
       "3     NaN       NaN       NaN            NaN       NaN  2017-12-06         2   \n",
       "4     NaN       NaN       NaN            NaN       NaN  2017-12-06         2   \n",
       "\n",
       "   Match_ID Home_Team Away_Team     Score  Train  \n",
       "0      39.0  Backward  Circinus  Home Win      1  \n",
       "1      39.0  Backward  Circinus  Home Win      1  \n",
       "2      39.0  Backward  Circinus  Home Win      1  \n",
       "3      39.0  Backward  Circinus  Home Win      1  \n",
       "4      39.0  Backward  Circinus  Home Win      1  "
      ]
     },
     "execution_count": 41,
     "metadata": {},
     "output_type": "execute_result"
    }
   ],
   "source": [
    "all_data.head()"
   ]
  },
  {
   "cell_type": "markdown",
   "id": "42dcd980",
   "metadata": {},
   "source": [
    "**Общая информация**"
   ]
  },
  {
   "cell_type": "code",
   "execution_count": 42,
   "id": "bb518893",
   "metadata": {},
   "outputs": [
    {
     "name": "stdout",
     "output_type": "stream",
     "text": [
      "<class 'pandas.core.frame.DataFrame'>\n",
      "Int64Index: 2351811 entries, 0 to 2351810\n",
      "Data columns (total 35 columns):\n",
      " #   Column             Dtype  \n",
      "---  ------             -----  \n",
      " 0   Game_ID            object \n",
      " 1   Player_ID          object \n",
      " 2   id                 float64\n",
      " 3   X                  float64\n",
      " 4   Y                  float64\n",
      " 5   Team               object \n",
      " 6   Action             object \n",
      " 7   Half               object \n",
      " 8   Season_x           int64  \n",
      " 9   Manager            object \n",
      " 10  Opposition_Team    object \n",
      " 11  Shots              float64\n",
      " 12  SoT                float64\n",
      " 13  Goals_scored       float64\n",
      " 14  Goals_conceded     float64\n",
      " 15  Accurate passes    float64\n",
      " 16  Inaccurate passes  float64\n",
      " 17  Passes             float64\n",
      " 18  Start_minutes      float64\n",
      " 19  End_minutes        float64\n",
      " 20  next_player        object \n",
      " 21  next_action        float64\n",
      " 22  next_x             float64\n",
      " 23  next_y             float64\n",
      " 24  event_id           float64\n",
      " 25  next_team          object \n",
      " 26  next_event_id      float64\n",
      " 27  xt_value           float64\n",
      " 28  Date               object \n",
      " 29  Season_y           int64  \n",
      " 30  Match_ID           float64\n",
      " 31  Home_Team          object \n",
      " 32  Away_Team          object \n",
      " 33  Score              object \n",
      " 34  Train              int64  \n",
      "dtypes: float64(19), int64(3), object(13)\n",
      "memory usage: 645.9+ MB\n"
     ]
    }
   ],
   "source": [
    "all_data.info()"
   ]
  },
  {
   "cell_type": "code",
   "execution_count": 43,
   "id": "c135db61",
   "metadata": {},
   "outputs": [],
   "source": [
    "def distance_from_goal(xy, xg=0, yg=34):\n",
    "    '''\n",
    "       Рассчитать расстояние от (xg, yg) до (x, y)\n",
    "         по умолчанию (xg, yg) = (0, 34)\n",
    "    '''\n",
    "    x, y = xy\n",
    "\n",
    "    return ((x-xg)**2 + (y-yg)**2)**.5\n",
    "\n",
    "def preprocess_fe(df):\n",
    "    '''\n",
    "        df : game stastics data frame \n",
    "        returns modified data frame\n",
    "    '''\n",
    "\n",
    "    # сортируем игровую статистику сначала по идентификатору игры, затем по идентификатору действия\n",
    "    df = df.sort_values(['Season_x', 'Game_ID', 'id'])\n",
    "    # Удаляем ненужные столбцы менеджера и идентификатора действия\n",
    "    df = df.drop(columns=['Manager', 'id'])\n",
    "\n",
    "\n",
    "    # Feature Engineering\n",
    "    # расстояние от цели и угол обзора из (X, Y)\n",
    "    df['dist_from_goal'] = list(map(distance_from_goal, zip(df['X'], df['Y'])))\n",
    "\n",
    "\n",
    "    # X\n",
    "    df['last x'] = df.X.shift(1)   # Последние действия X позиции\n",
    "    df['last2 x'] = df.X.shift(2)  # Последние 2 действия  X позиции\n",
    "    df['next x'] = df.X.shift(-1)  # следующие действия  X позиции\n",
    "    df['next2 x'] = df.X.shift(-2)  # следующие 2 действия X позиции\n",
    "\n",
    "    # Y\n",
    "    df['last y'] = df.Y.shift(1)   # Последние действия Y позиции\n",
    "    df['last2 y'] = df.Y.shift(2)  # Последние 2 действия Y позиции\n",
    "    df['next y'] = df.Y.shift(-1)  # следующие позиции Y позиции\n",
    "    df['next2 y'] = df.Y.shift(-2)  # следующие 2 позиции Y позиции\n",
    "\n",
    "\n",
    "\n",
    "    # Команда\n",
    "    df['prev_same_team'] = (df['Team'].shift(1) == df.Team).astype(int)  # какая команда выполнила последние действия\n",
    "    df['next_same_team'] = (df['Team'].shift(-1) == df.Team).astype(int) # какая команда выполнила следующие действия\n",
    "\n",
    "    # Игрок\n",
    "    df['prev_same_player'] = (df['Player_ID'].shift(1) == df.Player_ID).astype(int)  # какой игрок совершил последние действия\n",
    "    df['next_same_player'] = (df['Player_ID'].shift(-1) == df.Player_ID).astype(int) # какой игрок совершил следующие действия\n",
    "\n",
    "    # Время\n",
    "    df['prev_time_diff'] = df['Start_minutes'] - df['Start_minutes'].shift(1) # разница во времени с начальным действием и преведущим действием\n",
    "    df['event_time'] = df.End_minutes - df.Start_minutes                      # сколько времени занимает действия\n",
    "    \n",
    "    # Расстояния до цели\n",
    "    df['last_goal_dist'] = df['dist_from_goal'].shift(1)   # какое было расстояния от последнего действия до цели\n",
    "    df['next_goal_dist'] = df['dist_from_goal'].shift(-1)  # каково будет расстояние следующего действия от цели\n",
    "\n",
    "\n",
    "\n",
    "    # Отсутствующие значения.\n",
    "    ncols = ['last x', 'last2 x', 'next2 x', 'next x', 'last y', 'last2 y',\n",
    "        'next2 y', 'next y', 'prev_time_diff', 'last_goal_dist',\n",
    "        'next_goal_dist']\n",
    "    for col in ncols:\n",
    "        df[col] = df[col].fillna(-1) #для смещенных значений, поскольку у нас нет данных, давайте заполним их -1\n",
    "\n",
    "\n",
    "    # не нужно добавлять действия с пасом и ударом, так как эти столбцы нам даны\n",
    "    df = df[~((df.Shots == 1)|(df.Passes == 1))]\n",
    "  \n",
    "    return df\n"
   ]
  },
  {
   "cell_type": "markdown",
   "id": "b4ad0f7b",
   "metadata": {},
   "source": [
    "- Используем функцию"
   ]
  },
  {
   "cell_type": "code",
   "execution_count": 44,
   "id": "58cc371a",
   "metadata": {},
   "outputs": [],
   "source": [
    "all_data2 = preprocess_fe(all_data)"
   ]
  },
  {
   "cell_type": "code",
   "execution_count": 52,
   "id": "0ae7a50d",
   "metadata": {
    "scrolled": true
   },
   "outputs": [
    {
     "name": "stdout",
     "output_type": "stream",
     "text": [
      "<class 'pandas.core.frame.DataFrame'>\n",
      "Int64Index: 1772887 entries, 1568122 to 1575446\n",
      "Data columns (total 50 columns):\n",
      " #   Column             Dtype  \n",
      "---  ------             -----  \n",
      " 0   Game_ID            object \n",
      " 1   Player_ID          object \n",
      " 2   X                  float64\n",
      " 3   Y                  float64\n",
      " 4   Team               object \n",
      " 5   Action             object \n",
      " 6   Half               object \n",
      " 7   Season_x           int64  \n",
      " 8   Opposition_Team    object \n",
      " 9   Shots              float64\n",
      " 10  SoT                float64\n",
      " 11  Goals_scored       float64\n",
      " 12  Goals_conceded     float64\n",
      " 13  Accurate passes    float64\n",
      " 14  Inaccurate passes  float64\n",
      " 15  Passes             float64\n",
      " 16  Start_minutes      float64\n",
      " 17  End_minutes        float64\n",
      " 18  next_player        object \n",
      " 19  next_action        float64\n",
      " 20  next_x             float64\n",
      " 21  next_y             float64\n",
      " 22  event_id           float64\n",
      " 23  next_team          object \n",
      " 24  next_event_id      float64\n",
      " 25  xt_value           float64\n",
      " 26  Date               object \n",
      " 27  Season_y           int64  \n",
      " 28  Match_ID           float64\n",
      " 29  Home_Team          object \n",
      " 30  Away_Team          object \n",
      " 31  Score              int64  \n",
      " 32  Train              int64  \n",
      " 33  dist_from_goal     float64\n",
      " 34  last x             float64\n",
      " 35  last2 x            float64\n",
      " 36  next x             float64\n",
      " 37  next2 x            float64\n",
      " 38  last y             float64\n",
      " 39  last2 y            float64\n",
      " 40  next y             float64\n",
      " 41  next2 y            float64\n",
      " 42  prev_same_team     int64  \n",
      " 43  next_same_team     int64  \n",
      " 44  prev_same_player   int64  \n",
      " 45  next_same_player   int64  \n",
      " 46  prev_time_diff     float64\n",
      " 47  event_time         float64\n",
      " 48  last_goal_dist     float64\n",
      " 49  next_goal_dist     float64\n",
      "dtypes: float64(31), int64(8), object(11)\n",
      "memory usage: 689.8+ MB\n"
     ]
    }
   ],
   "source": [
    "all_data2.info()"
   ]
  },
  {
   "cell_type": "markdown",
   "id": "ba14c2b3",
   "metadata": {},
   "source": [
    "- Заполняем пропуски модой"
   ]
  },
  {
   "cell_type": "code",
   "execution_count": 46,
   "id": "9b5f4f55",
   "metadata": {},
   "outputs": [],
   "source": [
    "all_data2['Goals_conceded'] = all_data2['Goals_conceded'].fillna(all_data2['Goals_conceded'].mode().iloc[0])"
   ]
  },
  {
   "cell_type": "code",
   "execution_count": 47,
   "id": "1d7570f8",
   "metadata": {},
   "outputs": [],
   "source": [
    "all_data2['xt_value'] = all_data2['xt_value'].fillna(all_data2['xt_value'].mode().iloc[0])"
   ]
  },
  {
   "cell_type": "code",
   "execution_count": 48,
   "id": "d4907185",
   "metadata": {},
   "outputs": [],
   "source": [
    "all_data2['xt_value'] = all_data2['xt_value'].fillna(all_data2['xt_value'].mode().iloc[0])"
   ]
  },
  {
   "cell_type": "code",
   "execution_count": 49,
   "id": "9d9c76d9",
   "metadata": {},
   "outputs": [],
   "source": [
    "all_data2['Passes'] = all_data2['Passes'].fillna(all_data2['Passes'].mode().iloc[0])\n"
   ]
  },
  {
   "cell_type": "markdown",
   "id": "661c7e77",
   "metadata": {},
   "source": [
    "**Бинаризуем целевую переменую**"
   ]
  },
  {
   "cell_type": "code",
   "execution_count": 50,
   "id": "3e331da9",
   "metadata": {},
   "outputs": [],
   "source": [
    "le=LabelEncoder()\n",
    "all_data2[\"Score\"] = le.fit_transform(all_data2[\"Score\"])\n",
    "score_mapping = dict(zip(le.classes_, range(len(le.classes_))))"
   ]
  },
  {
   "cell_type": "markdown",
   "id": "5c114430",
   "metadata": {},
   "source": [
    "### Проверка Гипотез"
   ]
  },
  {
   "cell_type": "markdown",
   "id": "a9c21d9b",
   "metadata": {},
   "source": [
    "## Гипотеза 1\n",
    "- Распределение количества голов, забитых командами дома и в гостях, различается."
   ]
  },
  {
   "cell_type": "code",
   "execution_count": 57,
   "id": "137cab4b",
   "metadata": {},
   "outputs": [
    {
     "data": {
      "image/png": "[encoded data removed]",
      "text/plain": [
       "<Figure size 1440x720 with 1 Axes>"
      ]
     },
     "metadata": {
      "needs_background": "light"
     },
     "output_type": "display_data"
    }
   ],
   "source": [
    "goals_by_location = all_data2.groupby(['Team', 'Home_Team'])['Goals_scored'].sum().reset_index()\n",
    "\n",
    "plt.figure(figsize=(20, 10))  # Измените размер графика по вашему усмотрению\n",
    "\n",
    "# Построение графика\n",
    "sns.barplot(x='Team', y='Goals_scored', hue='Home_Team', data=goals_by_location)\n",
    "plt.xlabel('Team')\n",
    "plt.ylabel('Total Goals Scored')\n",
    "plt.title('Total Goals Scored by Team and Location')\n",
    "plt.show()"
   ]
  },
  {
   "cell_type": "markdown",
   "id": "7d24d41f",
   "metadata": {},
   "source": [
    "**Вывод**\n",
    "- Эти результаты указывают на то, что фактор места проведения матча может оказывать влияние на результативность команды. Он может быть связан с различными факторами, такими как поддержка болельщиков, привыкание к условиям домашнего стадиона или тактические предпочтения команды."
   ]
  },
  {
   "cell_type": "markdown",
   "id": "2a501450",
   "metadata": {},
   "source": [
    "## Гипотеза 2: \n",
    "- Существует положительная корреляция между точностью передач и количеством голов, забитых игроком.\n",
    "\n"
   ]
  },
  {
   "cell_type": "code",
   "execution_count": 63,
   "id": "0a1c2313",
   "metadata": {},
   "outputs": [
    {
     "data": {
      "image/png": "[encoded data removed]",
      "text/plain": [
       "<Figure size 576x432 with 2 Axes>"
      ]
     },
     "metadata": {
      "needs_background": "light"
     },
     "output_type": "display_data"
    }
   ],
   "source": [
    "# Выбор двух переменных для первой гипотезы\n",
    "var1 = 'Accurate passes'\n",
    "var2 = 'Goals_scored'\n",
    "\n",
    "# Создание матрицы корреляции\n",
    "correlation_matrix = all_data[[var1, var2]].corr()\n",
    "\n",
    "# Построение тепловой карты\n",
    "plt.figure(figsize=(8, 6))\n",
    "sns.heatmap(correlation_matrix, annot=True, cmap='coolwarm')\n",
    "\n",
    "# Настройка заголовка\n",
    "plt.title('Correlation Heatmap: {} vs {}'.format(var1, var2))\n",
    "\n",
    "# Показать тепловую карту\n",
    "plt.show()\n"
   ]
  },
  {
   "cell_type": "markdown",
   "id": "06030a67",
   "metadata": {},
   "source": [
    "**Вывод**\n",
    "-  По результатам анализа данных и построения тепловой карты корреляции между точностью передач и количеством голов, мы наблюдаем положительную связь между этими двумя переменными. Это означает, что игроки, которые совершают большее количество точных передач, часто набивают больше голов. Это может свидетельствовать о том, что точные передачи играют важную роль в создании голевых моментов и успешном завершении атак. Для подтверждения данной гипотезы могут быть проведены дополнительные исследования и анализ других факторов, влияющих на количество голов в футбольном матче."
   ]
  },
  {
   "cell_type": "markdown",
   "id": "b832c404",
   "metadata": {},
   "source": [
    "## Гипотеза 3:\n",
    "- Существует связь между расстоянием от ворот и количеством голов."
   ]
  },
  {
   "cell_type": "code",
   "execution_count": 69,
   "id": "39a09435",
   "metadata": {},
   "outputs": [
    {
     "data": {
      "image/png": "[encoded data removed]",
      "text/plain": [
       "<Figure size 576x432 with 2 Axes>"
      ]
     },
     "metadata": {
      "needs_background": "light"
     },
     "output_type": "display_data"
    }
   ],
   "source": [
    "# Выбор двух переменных для гипотезы\n",
    "var1 = 'dist_from_goal'\n",
    "var2 = 'Goals_scored'\n",
    "\n",
    "# Создание матрицы корреляции\n",
    "correlation_matrix = all_data2[[var1, var2]].corr()\n",
    "\n",
    "# Построение тепловой карты\n",
    "plt.figure(figsize=(8, 6))\n",
    "sns.heatmap(correlation_matrix, annot=True, cmap='coolwarm')\n",
    "\n",
    "# Настройка заголовка\n",
    "plt.title('Correlation Heatmap: {} vs {}'.format(var1, var2))\n",
    "\n",
    "# Показать тепловую карту\n",
    "plt.show()\n"
   ]
  },
  {
   "cell_type": "markdown",
   "id": "5366ab09",
   "metadata": {},
   "source": [
    "**Вывод:** \n",
    "- По результатам анализа данных и построения тепловой карты корреляции между расстоянием от ворот и количеством голов, мы наблюдаем некоторую корреляцию между этими двумя переменными. Хотя связь не является сильной, она указывает на то, что есть некоторая тенденция к тому, что игроки, находящиеся ближе к воротам, набивают больше голов. Однако следует отметить, что множество других факторов также может влиять на количество голов, и данная корреляция не является исчерпывающей. Дополнительные исследования и учет других факторов могут помочь лучше понять влияние расстояния от ворот на количество голов в футбольных матчах"
   ]
  }
 ],
 "metadata": {
  "kernelspec": {
   "display_name": "Python 3 (ipykernel)",
   "language": "python",
   "name": "python3"
  },
  "language_info": {
   "codemirror_mode": {
    "name": "ipython",
    "version": 3
   },
   "file_extension": ".py",
   "mimetype": "text/x-python",
   "name": "python",
   "nbconvert_exporter": "python",
   "pygments_lexer": "ipython3",
   "version": "3.9.12"
  },
  "toc": {
   "base_numbering": 1,
   "nav_menu": {},
   "number_sections": true,
   "sideBar": true,
   "skip_h1_title": false,
   "title_cell": "Table of Contents",
   "title_sidebar": "Contents",
   "toc_cell": false,
   "toc_position": {
    "height": "calc(100% - 180px)",
    "left": "10px",
    "top": "150px",
    "width": "317.949px"
   },
   "toc_section_display": true,
   "toc_window_display": true
  }
 },
 "nbformat": 4,
 "nbformat_minor": 5
}
