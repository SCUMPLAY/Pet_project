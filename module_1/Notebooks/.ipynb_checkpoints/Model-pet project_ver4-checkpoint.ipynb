{
 "cells": [
  {
   "cell_type": "code",
   "execution_count": 30,
   "id": "2b71ff73",
   "metadata": {},
   "outputs": [],
   "source": [
    "import pandas as pd\n",
    "import seaborn as sns\n",
    "import matplotlib.pyplot as plt\n",
    "import pandas as pd\n",
    "import numpy as np\n",
    "import gc\n",
    "import warnings \n",
    "from sklearn.preprocessing import LabelEncoder\n",
    "from IPython.display import display\n",
    "from sklearn.model_selection import train_test_split\n",
    "import shap\n",
    "\n",
    "import numpy as np\n",
    "import pandas as pd\n",
    "import shap\n",
    "from sklearn.calibration import CalibratedClassifierCV\n",
    "from sklearn.ensemble import StackingClassifier\n",
    "from lightgbm import LGBMClassifier\n",
    "from sklearn.ensemble import RandomForestClassifier\n",
    "from sklearn.tree import DecisionTreeClassifier\n",
    "from sklearn.ensemble import VotingClassifier, StackingClassifier\n",
    "from sklearn.model_selection import train_test_split, StratifiedKFold, GridSearchCV, KFold\n",
    "from sklearn.tree import DecisionTreeRegressor\n",
    "from sklearn.ensemble import GradientBoostingRegressor, GradientBoostingClassifier, BaggingRegressor, \\\n",
    "    RandomForestRegressor\n",
    "from sklearn.metrics import mean_absolute_error, mean_squared_error, f1_score, accuracy_score, \\\n",
    "roc_auc_score, classification_report, r2_score, precision_score, recall_score, \\\n",
    "log_loss, mean_squared_log_error\n",
    "from catboost import CatBoostClassifier\n",
    "import pandas as pd\n",
    "import seaborn as sns\n",
    "import matplotlib.pyplot as plt\n",
    "import numpy as np\n",
    "import seaborn as sns\n",
    "from datetime import datetime as dt\n",
    "import itertools\n",
    "from tqdm import tqdm\n",
    "%matplotlib inline\n",
    "from sklearn.linear_model import LogisticRegression\n",
    "from sklearn.metrics import accuracy_score, roc_auc_score, precision_score, \\\n",
    "recall_score, f1_score, log_loss, confusion_matrix, \\\n",
    "    classification_report, roc_curve, auc, precision_recall_curve\n",
    "from sklearn.ensemble import RandomForestClassifier, RandomForestRegressor, BaggingRegressor, \\\n",
    "BaggingClassifier\n",
    "from sklearn.multiclass import OneVsRestClassifier, OneVsOneClassifier\n",
    "from sklearn.preprocessing import OneHotEncoder, label_binarize\n",
    "from sklearn.metrics import plot_confusion_matrix\n",
    "import lightgbm as lgb \n",
    "from sklearn.ensemble import RandomForestClassifier\n",
    "from xgboost import XGBClassifier\n",
    "from sklearn.linear_model import LogisticRegression\n",
    "from sklearn.metrics import accuracy_score,log_loss\n",
    "from lightgbm import LGBMClassifier\n",
    "from catboost import CatBoostClassifier\n",
    "from sklearn.preprocessing import LabelEncoder\n",
    "from sklearn.ensemble import RandomForestClassifier\n",
    "from sklearn.datasets import make_classification\n",
    "from sklearn.preprocessing import StandardScaler\n",
    "pd.set_option('display.max_columns', None)\n",
    "import warnings\n",
    "warnings.filterwarnings('ignore')\n",
    "RAND = 10"
   ]
  },
  {
   "cell_type": "markdown",
   "id": "fed480fa",
   "metadata": {},
   "source": [
    "### Задача\n",
    "\n",
    "- Цель этой задачи — предсказать исход футбольного матча на основе исторических данных о матче и игроках.\n",
    "\n",
    "- Это решение будет полезно Laduma Analytics для расширения типов предлагаемых услуг, а также будет полезно вам. Вы сможете произвести впечатление на своих друзей точностью своих прогнозов, применяя это к предстоящим играм в вашей стране"
   ]
  },
  {
   "cell_type": "markdown",
   "id": "28504871",
   "metadata": {},
   "source": [
    "#### Функция которая добавляет возможности в игровую статистику"
   ]
  },
  {
   "cell_type": "code",
   "execution_count": 34,
   "id": "b653994e",
   "metadata": {},
   "outputs": [],
   "source": [
    "from math import atan, sqrt\n",
    "\n",
    "def reduce_memory_usage(df):\n",
    "    \n",
    "    for col in df.columns:\n",
    "        col_type = df[col].dtype\n",
    "        \n",
    "        if col_type not in  ['object', 'datetime64[ns]']:\n",
    "            c_min = df[col].min()\n",
    "            c_max = df[col].max()\n",
    "            if str(col_type)[:3] == 'int':\n",
    "                if c_min > np.iinfo(np.int8).min and c_max < np.iinfo(np.int8).max:\n",
    "                    df[col] = df[col].astype(np.int8)\n",
    "                elif c_min > np.iinfo(np.int16).min and c_max < np.iinfo(np.int16).max:\n",
    "                    df[col] = df[col].astype(np.int16)\n",
    "                elif c_min > np.iinfo(np.int32).min and c_max < np.iinfo(np.int32).max:\n",
    "                    df[col] = df[col].astype(np.int32)\n",
    "                elif c_min > np.iinfo(np.int64).min and c_max < np.iinfo(np.int64).max:\n",
    "                    df[col] = df[col].astype(np.int64)\n",
    "            \n",
    "            else:\n",
    "                if c_min > np.finfo(np.float16).min and c_max < np.finfo(np.float16).max:\n",
    "                    df[col] = df[col].astype(np.float16)\n",
    "                elif c_min > np.finfo(np.float32).min and c_max < np.finfo(np.float32).max:\n",
    "                    df[col] = df[col].astype(np.float32)\n",
    "\n",
    "        else:\n",
    "            df[col] = df[col].astype('category')\n",
    "            # pass\n",
    "    \n",
    "    return df\n",
    "\n",
    "\n",
    "\n",
    "def preprocess_all(path, Goals=True):\n",
    "    '''\n",
    "        Цель фнукции :удаления некоторых столбцов из игровой статистики и загрузки файлов  \n",
    "        path:путь к данным\n",
    "        Goals: bool, если True столбцы Goal_scored и Goals_coceded будут удалены.\n",
    "        nx_cols: набор признаков для удаления.\n",
    "    \n",
    "    '''\n",
    "\n",
    "    trgs = pd.read_csv(path+'train_game_statistics.csv')\n",
    "    tsgs = pd.read_csv(path+'test_game_statistics.csv')\n",
    "\n",
    "    cols = [\"next_action\"]\n",
    "    if Goals:\n",
    "        cols.extend([\"Goals_scored\", \"Goals_conceded\"])\n",
    "\n",
    "    trgs = trgs.drop(\n",
    "        columns=cols,\n",
    "    )\n",
    "\n",
    "\n",
    "    nx_cols = ['next_player',\n",
    "                'next_x',\n",
    "                'next_y',\n",
    "                'next_team',\n",
    "                'next_event_id',\n",
    "                'event_id',\n",
    "                'xt_value'\n",
    "    ]\n",
    "    trgs.drop(columns=nx_cols, inplace=True)\n",
    "    tsgs.drop(columns=nx_cols, inplace=True)\n",
    "\n",
    "    trgs = reduce_memory_usage(trgs)\n",
    "    tsgs = reduce_memory_usage(tsgs)\n",
    "\n",
    "\n",
    "    return trgs, tsgs \n",
    "\n",
    "\n",
    "\n",
    "\n",
    "def distance_from_goal(xy, xg=0, yg=34):\n",
    "    '''\n",
    "       Цель функции:рассчитать расстояние от позиции игрока до ворот\n",
    "       Рассчитать расстояние от (xg, yg) до (x, y)\n",
    "         по умолчанию (xg, yg) = (0, 34)\n",
    "    '''\n",
    "    x, y = xy\n",
    "\n",
    "    return ((x-xg)**2 + (y-yg)**2)**.5\n",
    "\n",
    "\n",
    "def calc_distance(xy1xy2):\n",
    "    '''\n",
    "      Цель фнукции:рассчитать евклидово расстояние b/n по двум точкам\n",
    "      Вычислить расстояние от (x1, y1) до (x2, y2)\n",
    "    '''\n",
    "    x1, y1, x2, y2 = xy1xy2 \n",
    "    return sqrt((x2 - x1)**2 + (y2 - y1)**2)\n",
    "\n",
    "\n",
    "def preprocess_fe(df):\n",
    "    '''\n",
    "        Цель функции : добавления возможностей в игровую статистику\n",
    "        df['dist_from_goal']: расстояние от цели и угол обзора из (X, Y)\n",
    "        df['last y'] : Последние действия X позиции\n",
    "        df['next2 x'] : следующие действия  X позиции\n",
    "        prev_same_team\n",
    "        df['prev_same_team'] :   какая команда выполнила последние действия\n",
    "        df['next_same_team']: какая команда выполнила следующие действия\n",
    "        df['prev_same_player']: какой игрок совершил последние действия\n",
    "        df['next_same_player']: какой игрок совершил следующие действия\n",
    "        df['prev_time_diff'] : разница во времени с начальным действием и преведущим действием\n",
    "        df['event_time']: сколько времени занимает действия\n",
    "        df['last_goal_dist'] : какое было расстояния от последнего действия до цели\n",
    "        df['next_goal_dist'] :каково будет расстояние следующего действия от цели\n",
    "        \n",
    "    '''\n",
    "\n",
    "    # сортируем игровую статистику сначала по идентификатору игры, затем по идентификатору действия\n",
    "    df = df.sort_values(['Season', 'Game_ID', 'id'])\n",
    "    # Удаляем ненужные столбцы менеджера и идентификатора действия\n",
    "    df = df.drop(columns=['Manager', 'id'])\n",
    "\n",
    "\n",
    "    # Feature Engineering\n",
    "    \n",
    "    # расстояние от цели и угол обзора из (X, Y)\n",
    "    df['dist_from_goal'] = list(map(distance_from_goal, zip(df['X'], df['Y'])))\n",
    "\n",
    "    # X\n",
    "    df['last x'] = df.X.shift(1)   # Последние действия X позиции\n",
    "    df['last2 x'] = df.X.shift(2)  # Последние 2 действия  X позиции\n",
    "    df['next x'] = df.X.shift(-1)  # следующие действия  X позиции\n",
    "    df['next2 x'] = df.X.shift(-2)  # следующие 2 действия X позиции\n",
    "\n",
    "    # Y\n",
    "    df['last y'] = df.Y.shift(1)   # Последние действия Y позиции\n",
    "    df['last2 y'] = df.Y.shift(2)  # Последние 2 действия Y позиции\n",
    "    df['next y'] = df.Y.shift(-1)  # следующие позиции Y позиции\n",
    "    df['next2 y'] = df.Y.shift(-2)  # следующие 2 позиции Y позиции\n",
    "\n",
    "\n",
    "\n",
    "    # Команда\n",
    "    df['prev_same_team'] = (df['Team'].shift(1) == df.Team).astype(int)  # какая команда выполнила последние действия\n",
    "    df['next_same_team'] = (df['Team'].shift(-1) == df.Team).astype(int) # какая команда выполнила следующие действия\n",
    "\n",
    "    # Игрок\n",
    "    df['prev_same_player'] = (df['Player_ID'].shift(1) == df.Player_ID).astype(int)  # какой игрок совершил последние действия\n",
    "    df['next_same_player'] = (df['Player_ID'].shift(-1) == df.Player_ID).astype(int) # какой игрок совершил следующие действия\n",
    "\n",
    "    # Время\n",
    "    df['prev_time_diff'] = df['Start_minutes'] - df['Start_minutes'].shift(1) # разница во времени с начальным действием и преведущим действием\n",
    "    df['event_time'] = df.End_minutes - df.Start_minutes                      # сколько времени занимает действия\n",
    "    \n",
    "    # Расстояния до цели\n",
    "    df['last_goal_dist'] = df['dist_from_goal'].shift(1)   # какое было расстояния от последнего действия до цели\n",
    "    df['next_goal_dist'] = df['dist_from_goal'].shift(-1)  # каково будет расстояние следующего действия от цели\n",
    "\n",
    "\n",
    "\n",
    "    # Отсутствующие значения.\n",
    "    ncols = ['last x', 'last2 x', 'next2 x', 'next x', 'last y', 'last2 y',\n",
    "        'next2 y', 'next y', 'prev_time_diff', 'last_goal_dist',\n",
    "        'next_goal_dist']\n",
    "    for col in ncols:\n",
    "        df[col] = df[col].fillna(-1) #для смещенных значений, поскольку у нас нет данных, давайте заполним их -1\n",
    "\n",
    "\n",
    "    # не нужно добавлять действия с пасом и ударом, так как эти столбцы нам даны\n",
    "    df = df[~((df.Shots == 1)|(df.Passes == 1))]\n",
    "\n",
    "    # удаляем не нужные столбцы\n",
    "    df = df.drop(columns=['Accurate passes', 'Inaccurate passes', 'Shots', 'SoT', 'Passes'])\n",
    "\n",
    "  \n",
    "    return df\n"
   ]
  },
  {
   "cell_type": "markdown",
   "id": "75f71183",
   "metadata": {},
   "source": [
    "**Добавляем и обрабатываем данные с помощью функции**"
   ]
  },
  {
   "cell_type": "code",
   "execution_count": 35,
   "id": "b586680a",
   "metadata": {},
   "outputs": [
    {
     "data": {
      "text/plain": [
       "((1186372, 28), (586515, 27))"
      ]
     },
     "execution_count": 35,
     "metadata": {},
     "output_type": "execute_result"
    }
   ],
   "source": [
    "path = r'C:\\Users\\User\\OneDrive - БФУ им. И. Канта\\Рабочий стол\\pet-project/'\n",
    "    # change your path here\n",
    "\n",
    "train_gs, test_gs = preprocess_all(path) # bring the files\n",
    "\n",
    "# apply the preprocess function to both game stastics\n",
    "train_gs = preprocess_fe(train_gs)\n",
    "test_gs = preprocess_fe(test_gs)\n",
    "\n",
    "train_gs.shape, test_gs.shape\n"
   ]
  },
  {
   "cell_type": "code",
   "execution_count": 36,
   "id": "406a43d8",
   "metadata": {},
   "outputs": [],
   "source": [
    "train = pd.read_csv(path+'Train(f).csv')\n",
    "test = pd.read_csv(path+'Test(f).csv')"
   ]
  },
  {
   "cell_type": "markdown",
   "id": "2f1a722c",
   "metadata": {},
   "source": [
    "## Feature Engineering"
   ]
  },
  {
   "cell_type": "markdown",
   "id": "a877c07b",
   "metadata": {},
   "source": [
    "**Бинаризуем целевую переменную 'Score' и 'Game_ID'**"
   ]
  },
  {
   "cell_type": "code",
   "execution_count": 37,
   "id": "8db9c6fa",
   "metadata": {},
   "outputs": [
    {
     "data": {
      "text/html": [
       "<div>\n",
       "<style scoped>\n",
       "    .dataframe tbody tr th:only-of-type {\n",
       "        vertical-align: middle;\n",
       "    }\n",
       "\n",
       "    .dataframe tbody tr th {\n",
       "        vertical-align: top;\n",
       "    }\n",
       "\n",
       "    .dataframe thead th {\n",
       "        text-align: right;\n",
       "    }\n",
       "</style>\n",
       "<table border=\"1\" class=\"dataframe\">\n",
       "  <thead>\n",
       "    <tr style=\"text-align: right;\">\n",
       "      <th></th>\n",
       "      <th>Date</th>\n",
       "      <th>Season</th>\n",
       "      <th>Match_ID</th>\n",
       "      <th>Game_ID</th>\n",
       "      <th>Home Team</th>\n",
       "      <th>Away Team</th>\n",
       "      <th>Score</th>\n",
       "    </tr>\n",
       "  </thead>\n",
       "  <tbody>\n",
       "    <tr>\n",
       "      <th>0</th>\n",
       "      <td>2017-02-15</td>\n",
       "      <td>1</td>\n",
       "      <td>1.0</td>\n",
       "      <td>218</td>\n",
       "      <td>Antennae</td>\n",
       "      <td>Andromeda</td>\n",
       "      <td>0</td>\n",
       "    </tr>\n",
       "    <tr>\n",
       "      <th>1</th>\n",
       "      <td>2016-09-14</td>\n",
       "      <td>1</td>\n",
       "      <td>12.0</td>\n",
       "      <td>323</td>\n",
       "      <td>Andromeda</td>\n",
       "      <td>Antennae</td>\n",
       "      <td>1</td>\n",
       "    </tr>\n",
       "    <tr>\n",
       "      <th>2</th>\n",
       "      <td>2016-12-12</td>\n",
       "      <td>1</td>\n",
       "      <td>13.0</td>\n",
       "      <td>254</td>\n",
       "      <td>Andromeda</td>\n",
       "      <td>Butterfly</td>\n",
       "      <td>0</td>\n",
       "    </tr>\n",
       "    <tr>\n",
       "      <th>3</th>\n",
       "      <td>2017-01-25</td>\n",
       "      <td>1</td>\n",
       "      <td>14.0</td>\n",
       "      <td>329</td>\n",
       "      <td>Andromeda</td>\n",
       "      <td>Cigar</td>\n",
       "      <td>0</td>\n",
       "    </tr>\n",
       "    <tr>\n",
       "      <th>4</th>\n",
       "      <td>2016-08-24</td>\n",
       "      <td>1</td>\n",
       "      <td>15.0</td>\n",
       "      <td>157</td>\n",
       "      <td>Andromeda</td>\n",
       "      <td>Circinus</td>\n",
       "      <td>2</td>\n",
       "    </tr>\n",
       "  </tbody>\n",
       "</table>\n",
       "</div>"
      ],
      "text/plain": [
       "         Date  Season  Match_ID  Game_ID  Home Team  Away Team  Score\n",
       "0  2017-02-15       1       1.0      218   Antennae  Andromeda      0\n",
       "1  2016-09-14       1      12.0      323  Andromeda   Antennae      1\n",
       "2  2016-12-12       1      13.0      254  Andromeda  Butterfly      0\n",
       "3  2017-01-25       1      14.0      329  Andromeda      Cigar      0\n",
       "4  2016-08-24       1      15.0      157  Andromeda   Circinus      2"
      ]
     },
     "execution_count": 37,
     "metadata": {},
     "output_type": "execute_result"
    }
   ],
   "source": [
    "le=LabelEncoder()\n",
    "train[\"Score\"] = le.fit_transform(train[\"Score\"])\n",
    "score_mapping = dict(zip(le.classes_, range(len(le.classes_))))\n",
    "train[\"Game_ID\"] = le.fit_transform(train['Game_ID'])\n",
    "game_mapping = dict(zip(le.classes_, range(len(le.classes_))))\n",
    "\n",
    "\n",
    "train.head()"
   ]
  },
  {
   "cell_type": "code",
   "execution_count": 38,
   "id": "c2bd42c0",
   "metadata": {},
   "outputs": [
    {
     "data": {
      "text/html": [
       "<div>\n",
       "<style scoped>\n",
       "    .dataframe tbody tr th:only-of-type {\n",
       "        vertical-align: middle;\n",
       "    }\n",
       "\n",
       "    .dataframe tbody tr th {\n",
       "        vertical-align: top;\n",
       "    }\n",
       "\n",
       "    .dataframe thead th {\n",
       "        text-align: right;\n",
       "    }\n",
       "</style>\n",
       "<table border=\"1\" class=\"dataframe\">\n",
       "  <thead>\n",
       "    <tr style=\"text-align: right;\">\n",
       "      <th></th>\n",
       "      <th>Date</th>\n",
       "      <th>Season</th>\n",
       "      <th>Match_ID</th>\n",
       "      <th>Game_ID</th>\n",
       "      <th>Home Team</th>\n",
       "      <th>Away Team</th>\n",
       "    </tr>\n",
       "  </thead>\n",
       "  <tbody>\n",
       "    <tr>\n",
       "      <th>0</th>\n",
       "      <td>2018-12-08</td>\n",
       "      <td>3</td>\n",
       "      <td>102.0</td>\n",
       "      <td>51</td>\n",
       "      <td>Antennae</td>\n",
       "      <td>Cosmos Redshift 7</td>\n",
       "    </tr>\n",
       "    <tr>\n",
       "      <th>1</th>\n",
       "      <td>2018-09-11</td>\n",
       "      <td>3</td>\n",
       "      <td>18.0</td>\n",
       "      <td>111</td>\n",
       "      <td>Cosmos Redshift 7</td>\n",
       "      <td>Tadpole</td>\n",
       "    </tr>\n",
       "    <tr>\n",
       "      <th>2</th>\n",
       "      <td>2018-09-25</td>\n",
       "      <td>3</td>\n",
       "      <td>32.0</td>\n",
       "      <td>175</td>\n",
       "      <td>Cosmos Redshift 7</td>\n",
       "      <td>Medusa Merger</td>\n",
       "    </tr>\n",
       "    <tr>\n",
       "      <th>3</th>\n",
       "      <td>2018-10-02</td>\n",
       "      <td>3</td>\n",
       "      <td>40.0</td>\n",
       "      <td>154</td>\n",
       "      <td>Cartwheel</td>\n",
       "      <td>Cosmos Redshift 7</td>\n",
       "    </tr>\n",
       "    <tr>\n",
       "      <th>4</th>\n",
       "      <td>2018-12-20</td>\n",
       "      <td>3</td>\n",
       "      <td>123.0</td>\n",
       "      <td>79</td>\n",
       "      <td>Cosmos Redshift 7</td>\n",
       "      <td>Needle</td>\n",
       "    </tr>\n",
       "  </tbody>\n",
       "</table>\n",
       "</div>"
      ],
      "text/plain": [
       "         Date  Season  Match_ID  Game_ID          Home Team          Away Team\n",
       "0  2018-12-08       3     102.0       51           Antennae  Cosmos Redshift 7\n",
       "1  2018-09-11       3      18.0      111  Cosmos Redshift 7            Tadpole\n",
       "2  2018-09-25       3      32.0      175  Cosmos Redshift 7      Medusa Merger\n",
       "3  2018-10-02       3      40.0      154          Cartwheel  Cosmos Redshift 7\n",
       "4  2018-12-20       3     123.0       79  Cosmos Redshift 7             Needle"
      ]
     },
     "execution_count": 38,
     "metadata": {},
     "output_type": "execute_result"
    }
   ],
   "source": [
    "test[\"Game_ID\"] = le.fit_transform(test['Game_ID'])\n",
    "game_mapping = dict(zip(le.classes_, range(len(le.classes_))))\n",
    "test.head()"
   ]
  },
  {
   "cell_type": "code",
   "execution_count": 7,
   "id": "497196a7",
   "metadata": {},
   "outputs": [
    {
     "data": {
      "text/html": [
       "<div>\n",
       "<style scoped>\n",
       "    .dataframe tbody tr th:only-of-type {\n",
       "        vertical-align: middle;\n",
       "    }\n",
       "\n",
       "    .dataframe tbody tr th {\n",
       "        vertical-align: top;\n",
       "    }\n",
       "\n",
       "    .dataframe thead th {\n",
       "        text-align: right;\n",
       "    }\n",
       "</style>\n",
       "<table border=\"1\" class=\"dataframe\">\n",
       "  <thead>\n",
       "    <tr style=\"text-align: right;\">\n",
       "      <th></th>\n",
       "      <th>Date</th>\n",
       "      <th>Season</th>\n",
       "      <th>Match_ID</th>\n",
       "      <th>Game_ID</th>\n",
       "      <th>Home Team</th>\n",
       "      <th>Away Team</th>\n",
       "      <th>Score</th>\n",
       "    </tr>\n",
       "  </thead>\n",
       "  <tbody>\n",
       "    <tr>\n",
       "      <th>0</th>\n",
       "      <td>2017-02-15</td>\n",
       "      <td>1</td>\n",
       "      <td>1.0</td>\n",
       "      <td>218</td>\n",
       "      <td>Antennae</td>\n",
       "      <td>Andromeda</td>\n",
       "      <td>0</td>\n",
       "    </tr>\n",
       "    <tr>\n",
       "      <th>1</th>\n",
       "      <td>2016-09-14</td>\n",
       "      <td>1</td>\n",
       "      <td>12.0</td>\n",
       "      <td>323</td>\n",
       "      <td>Andromeda</td>\n",
       "      <td>Antennae</td>\n",
       "      <td>1</td>\n",
       "    </tr>\n",
       "    <tr>\n",
       "      <th>2</th>\n",
       "      <td>2016-12-12</td>\n",
       "      <td>1</td>\n",
       "      <td>13.0</td>\n",
       "      <td>254</td>\n",
       "      <td>Andromeda</td>\n",
       "      <td>Butterfly</td>\n",
       "      <td>0</td>\n",
       "    </tr>\n",
       "    <tr>\n",
       "      <th>3</th>\n",
       "      <td>2017-01-25</td>\n",
       "      <td>1</td>\n",
       "      <td>14.0</td>\n",
       "      <td>329</td>\n",
       "      <td>Andromeda</td>\n",
       "      <td>Cigar</td>\n",
       "      <td>0</td>\n",
       "    </tr>\n",
       "    <tr>\n",
       "      <th>4</th>\n",
       "      <td>2016-08-24</td>\n",
       "      <td>1</td>\n",
       "      <td>15.0</td>\n",
       "      <td>157</td>\n",
       "      <td>Andromeda</td>\n",
       "      <td>Circinus</td>\n",
       "      <td>2</td>\n",
       "    </tr>\n",
       "  </tbody>\n",
       "</table>\n",
       "</div>"
      ],
      "text/plain": [
       "         Date  Season  Match_ID  Game_ID  Home Team  Away Team  Score\n",
       "0  2017-02-15       1       1.0      218   Antennae  Andromeda      0\n",
       "1  2016-09-14       1      12.0      323  Andromeda   Antennae      1\n",
       "2  2016-12-12       1      13.0      254  Andromeda  Butterfly      0\n",
       "3  2017-01-25       1      14.0      329  Andromeda      Cigar      0\n",
       "4  2016-08-24       1      15.0      157  Andromeda   Circinus      2"
      ]
     },
     "execution_count": 7,
     "metadata": {},
     "output_type": "execute_result"
    }
   ],
   "source": [
    "train.sort_values(by=['Date'])\n",
    "train.head()"
   ]
  },
  {
   "cell_type": "markdown",
   "id": "7627c001",
   "metadata": {},
   "source": [
    "**Объединяем test и train наборы данных, и бинаризуем категориальные и строковые данные**"
   ]
  },
  {
   "cell_type": "code",
   "execution_count": 39,
   "id": "2d07cd39",
   "metadata": {},
   "outputs": [],
   "source": [
    "game_map = None  # декотор индефекатора игры\n",
    "team_map = None  # декотор команды\n",
    "\n",
    "df = pd.concat([train_gs.assign(train=1), test_gs.assign(train=0)])\n",
    "le = LabelEncoder()\n",
    "\n",
    "# выбираем данные катергориального и строкового типа и закодируем их.\n",
    "for c in df.select_dtypes(['object', 'category']).columns.drop('Action'):\n",
    "    df[c] = le.fit_transform(df[c])\n",
    "    if c == \"Game_ID\":\n",
    "        game_map = dict(zip(range(len(le.classes_)), le.classes_))\n",
    "    elif c == 'Team':\n",
    "        team_map = dict(zip(range(len(le.classes_)), le.classes_))\n",
    "\n",
    "train_gs = df[df.train == 1].drop(columns='train')\n",
    "test_gs = df[df.train == 0].drop(columns=['train', 'Action'])"
   ]
  },
  {
   "cell_type": "code",
   "execution_count": 40,
   "id": "a660c499",
   "metadata": {},
   "outputs": [
    {
     "data": {
      "text/html": [
       "<div>\n",
       "<style scoped>\n",
       "    .dataframe tbody tr th:only-of-type {\n",
       "        vertical-align: middle;\n",
       "    }\n",
       "\n",
       "    .dataframe tbody tr th {\n",
       "        vertical-align: top;\n",
       "    }\n",
       "\n",
       "    .dataframe thead th {\n",
       "        text-align: right;\n",
       "    }\n",
       "</style>\n",
       "<table border=\"1\" class=\"dataframe\">\n",
       "  <thead>\n",
       "    <tr style=\"text-align: right;\">\n",
       "      <th></th>\n",
       "      <th>Game_ID</th>\n",
       "      <th>Player_ID</th>\n",
       "      <th>X</th>\n",
       "      <th>Y</th>\n",
       "      <th>Team</th>\n",
       "      <th>Action</th>\n",
       "      <th>Half</th>\n",
       "      <th>Season</th>\n",
       "      <th>Opposition_Team</th>\n",
       "      <th>Start_minutes</th>\n",
       "      <th>End_minutes</th>\n",
       "      <th>dist_from_goal</th>\n",
       "      <th>last x</th>\n",
       "      <th>last2 x</th>\n",
       "      <th>next x</th>\n",
       "      <th>next2 x</th>\n",
       "      <th>last y</th>\n",
       "      <th>last2 y</th>\n",
       "      <th>next y</th>\n",
       "      <th>next2 y</th>\n",
       "      <th>prev_same_team</th>\n",
       "      <th>next_same_team</th>\n",
       "      <th>prev_same_player</th>\n",
       "      <th>next_same_player</th>\n",
       "      <th>prev_time_diff</th>\n",
       "      <th>event_time</th>\n",
       "      <th>last_goal_dist</th>\n",
       "      <th>next_goal_dist</th>\n",
       "    </tr>\n",
       "  </thead>\n",
       "  <tbody>\n",
       "    <tr>\n",
       "      <th>1568122</th>\n",
       "      <td>0</td>\n",
       "      <td>320</td>\n",
       "      <td>52.31250</td>\n",
       "      <td>34.40625</td>\n",
       "      <td>14</td>\n",
       "      <td>Positional attacks</td>\n",
       "      <td>0</td>\n",
       "      <td>1</td>\n",
       "      <td>3</td>\n",
       "      <td>0.000000</td>\n",
       "      <td>0.330078</td>\n",
       "      <td>52.314077</td>\n",
       "      <td>52.31250</td>\n",
       "      <td>-1.0000</td>\n",
       "      <td>44.90625</td>\n",
       "      <td>46.0</td>\n",
       "      <td>34.40625</td>\n",
       "      <td>-1.00000</td>\n",
       "      <td>33.00000</td>\n",
       "      <td>32.59375</td>\n",
       "      <td>1</td>\n",
       "      <td>1</td>\n",
       "      <td>1</td>\n",
       "      <td>0</td>\n",
       "      <td>0.000000</td>\n",
       "      <td>0.330078</td>\n",
       "      <td>52.314077</td>\n",
       "      <td>44.917383</td>\n",
       "    </tr>\n",
       "    <tr>\n",
       "      <th>1568123</th>\n",
       "      <td>0</td>\n",
       "      <td>257</td>\n",
       "      <td>44.90625</td>\n",
       "      <td>33.00000</td>\n",
       "      <td>14</td>\n",
       "      <td>Positional attacks</td>\n",
       "      <td>0</td>\n",
       "      <td>1</td>\n",
       "      <td>3</td>\n",
       "      <td>0.029999</td>\n",
       "      <td>0.370117</td>\n",
       "      <td>44.917383</td>\n",
       "      <td>52.31250</td>\n",
       "      <td>52.3125</td>\n",
       "      <td>46.00000</td>\n",
       "      <td>46.0</td>\n",
       "      <td>34.40625</td>\n",
       "      <td>34.40625</td>\n",
       "      <td>32.59375</td>\n",
       "      <td>32.59375</td>\n",
       "      <td>1</td>\n",
       "      <td>1</td>\n",
       "      <td>0</td>\n",
       "      <td>1</td>\n",
       "      <td>0.029999</td>\n",
       "      <td>0.340088</td>\n",
       "      <td>52.314077</td>\n",
       "      <td>46.021490</td>\n",
       "    </tr>\n",
       "    <tr>\n",
       "      <th>1568124</th>\n",
       "      <td>0</td>\n",
       "      <td>257</td>\n",
       "      <td>46.00000</td>\n",
       "      <td>32.59375</td>\n",
       "      <td>14</td>\n",
       "      <td>Positional attacks</td>\n",
       "      <td>0</td>\n",
       "      <td>1</td>\n",
       "      <td>3</td>\n",
       "      <td>0.049988</td>\n",
       "      <td>0.379883</td>\n",
       "      <td>46.021490</td>\n",
       "      <td>44.90625</td>\n",
       "      <td>52.3125</td>\n",
       "      <td>46.00000</td>\n",
       "      <td>69.5</td>\n",
       "      <td>33.00000</td>\n",
       "      <td>34.40625</td>\n",
       "      <td>32.59375</td>\n",
       "      <td>67.00000</td>\n",
       "      <td>1</td>\n",
       "      <td>1</td>\n",
       "      <td>1</td>\n",
       "      <td>1</td>\n",
       "      <td>0.019989</td>\n",
       "      <td>0.329834</td>\n",
       "      <td>44.917383</td>\n",
       "      <td>46.021490</td>\n",
       "    </tr>\n",
       "    <tr>\n",
       "      <th>1568127</th>\n",
       "      <td>0</td>\n",
       "      <td>145</td>\n",
       "      <td>69.50000</td>\n",
       "      <td>67.00000</td>\n",
       "      <td>14</td>\n",
       "      <td>Positional attacks</td>\n",
       "      <td>0</td>\n",
       "      <td>1</td>\n",
       "      <td>3</td>\n",
       "      <td>0.080017</td>\n",
       "      <td>0.419922</td>\n",
       "      <td>76.936662</td>\n",
       "      <td>69.50000</td>\n",
       "      <td>46.0000</td>\n",
       "      <td>69.50000</td>\n",
       "      <td>69.5</td>\n",
       "      <td>67.00000</td>\n",
       "      <td>32.59375</td>\n",
       "      <td>67.00000</td>\n",
       "      <td>67.00000</td>\n",
       "      <td>1</td>\n",
       "      <td>1</td>\n",
       "      <td>1</td>\n",
       "      <td>1</td>\n",
       "      <td>0.000000</td>\n",
       "      <td>0.339844</td>\n",
       "      <td>76.936662</td>\n",
       "      <td>76.936662</td>\n",
       "    </tr>\n",
       "    <tr>\n",
       "      <th>1568128</th>\n",
       "      <td>0</td>\n",
       "      <td>145</td>\n",
       "      <td>69.50000</td>\n",
       "      <td>67.00000</td>\n",
       "      <td>14</td>\n",
       "      <td>Positional attacks</td>\n",
       "      <td>0</td>\n",
       "      <td>1</td>\n",
       "      <td>3</td>\n",
       "      <td>0.080017</td>\n",
       "      <td>0.419922</td>\n",
       "      <td>76.936662</td>\n",
       "      <td>69.50000</td>\n",
       "      <td>69.5000</td>\n",
       "      <td>69.50000</td>\n",
       "      <td>69.5</td>\n",
       "      <td>67.00000</td>\n",
       "      <td>67.00000</td>\n",
       "      <td>67.00000</td>\n",
       "      <td>67.00000</td>\n",
       "      <td>1</td>\n",
       "      <td>1</td>\n",
       "      <td>1</td>\n",
       "      <td>1</td>\n",
       "      <td>0.000000</td>\n",
       "      <td>0.339844</td>\n",
       "      <td>76.936662</td>\n",
       "      <td>76.936662</td>\n",
       "    </tr>\n",
       "  </tbody>\n",
       "</table>\n",
       "</div>"
      ],
      "text/plain": [
       "         Game_ID  Player_ID         X         Y  Team              Action  \\\n",
       "1568122        0        320  52.31250  34.40625    14  Positional attacks   \n",
       "1568123        0        257  44.90625  33.00000    14  Positional attacks   \n",
       "1568124        0        257  46.00000  32.59375    14  Positional attacks   \n",
       "1568127        0        145  69.50000  67.00000    14  Positional attacks   \n",
       "1568128        0        145  69.50000  67.00000    14  Positional attacks   \n",
       "\n",
       "         Half  Season  Opposition_Team  Start_minutes  End_minutes  \\\n",
       "1568122     0       1                3       0.000000     0.330078   \n",
       "1568123     0       1                3       0.029999     0.370117   \n",
       "1568124     0       1                3       0.049988     0.379883   \n",
       "1568127     0       1                3       0.080017     0.419922   \n",
       "1568128     0       1                3       0.080017     0.419922   \n",
       "\n",
       "         dist_from_goal    last x  last2 x    next x  next2 x    last y  \\\n",
       "1568122       52.314077  52.31250  -1.0000  44.90625     46.0  34.40625   \n",
       "1568123       44.917383  52.31250  52.3125  46.00000     46.0  34.40625   \n",
       "1568124       46.021490  44.90625  52.3125  46.00000     69.5  33.00000   \n",
       "1568127       76.936662  69.50000  46.0000  69.50000     69.5  67.00000   \n",
       "1568128       76.936662  69.50000  69.5000  69.50000     69.5  67.00000   \n",
       "\n",
       "          last2 y    next y   next2 y  prev_same_team  next_same_team  \\\n",
       "1568122  -1.00000  33.00000  32.59375               1               1   \n",
       "1568123  34.40625  32.59375  32.59375               1               1   \n",
       "1568124  34.40625  32.59375  67.00000               1               1   \n",
       "1568127  32.59375  67.00000  67.00000               1               1   \n",
       "1568128  67.00000  67.00000  67.00000               1               1   \n",
       "\n",
       "         prev_same_player  next_same_player  prev_time_diff  event_time  \\\n",
       "1568122                 1                 0        0.000000    0.330078   \n",
       "1568123                 0                 1        0.029999    0.340088   \n",
       "1568124                 1                 1        0.019989    0.329834   \n",
       "1568127                 1                 1        0.000000    0.339844   \n",
       "1568128                 1                 1        0.000000    0.339844   \n",
       "\n",
       "         last_goal_dist  next_goal_dist  \n",
       "1568122       52.314077       44.917383  \n",
       "1568123       52.314077       46.021490  \n",
       "1568124       44.917383       46.021490  \n",
       "1568127       76.936662       76.936662  \n",
       "1568128       76.936662       76.936662  "
      ]
     },
     "execution_count": 40,
     "metadata": {},
     "output_type": "execute_result"
    }
   ],
   "source": [
    "train_gs.head()"
   ]
  },
  {
   "cell_type": "markdown",
   "id": "e21cc98c",
   "metadata": {},
   "source": [
    "**Объединяем данных по статистики**"
   ]
  },
  {
   "cell_type": "code",
   "execution_count": 41,
   "id": "7c047c1b",
   "metadata": {},
   "outputs": [
    {
     "data": {
      "text/plain": [
       "(1772887, 28)"
      ]
     },
     "execution_count": 41,
     "metadata": {},
     "output_type": "execute_result"
    }
   ],
   "source": [
    "game_statistics = pd.concat([train_gs, test_gs])\n",
    "game_statistics.shape"
   ]
  },
  {
   "cell_type": "code",
   "execution_count": 42,
   "id": "8a5b1f61",
   "metadata": {},
   "outputs": [
    {
     "data": {
      "text/html": [
       "<div>\n",
       "<style scoped>\n",
       "    .dataframe tbody tr th:only-of-type {\n",
       "        vertical-align: middle;\n",
       "    }\n",
       "\n",
       "    .dataframe tbody tr th {\n",
       "        vertical-align: top;\n",
       "    }\n",
       "\n",
       "    .dataframe thead th {\n",
       "        text-align: right;\n",
       "    }\n",
       "</style>\n",
       "<table border=\"1\" class=\"dataframe\">\n",
       "  <thead>\n",
       "    <tr style=\"text-align: right;\">\n",
       "      <th></th>\n",
       "      <th>Date</th>\n",
       "      <th>Season</th>\n",
       "      <th>Match_ID</th>\n",
       "      <th>Game_ID</th>\n",
       "      <th>Home Team</th>\n",
       "      <th>Away Team</th>\n",
       "      <th>Score</th>\n",
       "    </tr>\n",
       "  </thead>\n",
       "  <tbody>\n",
       "    <tr>\n",
       "      <th>0</th>\n",
       "      <td>2017-02-15</td>\n",
       "      <td>1</td>\n",
       "      <td>1.0</td>\n",
       "      <td>218</td>\n",
       "      <td>Antennae</td>\n",
       "      <td>Andromeda</td>\n",
       "      <td>0.0</td>\n",
       "    </tr>\n",
       "    <tr>\n",
       "      <th>1</th>\n",
       "      <td>2016-09-14</td>\n",
       "      <td>1</td>\n",
       "      <td>12.0</td>\n",
       "      <td>323</td>\n",
       "      <td>Andromeda</td>\n",
       "      <td>Antennae</td>\n",
       "      <td>1.0</td>\n",
       "    </tr>\n",
       "    <tr>\n",
       "      <th>2</th>\n",
       "      <td>2016-12-12</td>\n",
       "      <td>1</td>\n",
       "      <td>13.0</td>\n",
       "      <td>254</td>\n",
       "      <td>Andromeda</td>\n",
       "      <td>Butterfly</td>\n",
       "      <td>0.0</td>\n",
       "    </tr>\n",
       "    <tr>\n",
       "      <th>3</th>\n",
       "      <td>2017-01-25</td>\n",
       "      <td>1</td>\n",
       "      <td>14.0</td>\n",
       "      <td>329</td>\n",
       "      <td>Andromeda</td>\n",
       "      <td>Cigar</td>\n",
       "      <td>0.0</td>\n",
       "    </tr>\n",
       "    <tr>\n",
       "      <th>4</th>\n",
       "      <td>2016-08-24</td>\n",
       "      <td>1</td>\n",
       "      <td>15.0</td>\n",
       "      <td>157</td>\n",
       "      <td>Andromeda</td>\n",
       "      <td>Circinus</td>\n",
       "      <td>2.0</td>\n",
       "    </tr>\n",
       "  </tbody>\n",
       "</table>\n",
       "</div>"
      ],
      "text/plain": [
       "         Date  Season  Match_ID  Game_ID  Home Team  Away Team  Score\n",
       "0  2017-02-15       1       1.0      218   Antennae  Andromeda    0.0\n",
       "1  2016-09-14       1      12.0      323  Andromeda   Antennae    1.0\n",
       "2  2016-12-12       1      13.0      254  Andromeda  Butterfly    0.0\n",
       "3  2017-01-25       1      14.0      329  Andromeda      Cigar    0.0\n",
       "4  2016-08-24       1      15.0      157  Andromeda   Circinus    2.0"
      ]
     },
     "execution_count": 42,
     "metadata": {},
     "output_type": "execute_result"
    }
   ],
   "source": [
    "train_test = pd.concat([train, test])\n",
    "train_test.head()"
   ]
  },
  {
   "cell_type": "markdown",
   "id": "d230fb6d",
   "metadata": {},
   "source": [
    "**Объединяем все данные в одну переменную для дальнешого ML**"
   ]
  },
  {
   "cell_type": "code",
   "execution_count": 43,
   "id": "5066d109",
   "metadata": {},
   "outputs": [
    {
     "data": {
      "text/plain": [
       "Game_ID                  0\n",
       "Player_ID                0\n",
       "X                        0\n",
       "Y                        0\n",
       "Team                     0\n",
       "Action              613872\n",
       "Half                     0\n",
       "Season_x                 0\n",
       "Opposition_Team          0\n",
       "Start_minutes           10\n",
       "End_minutes              0\n",
       "dist_from_goal           0\n",
       "last x                   0\n",
       "last2 x                  0\n",
       "next x                   0\n",
       "next2 x                  0\n",
       "last y                   0\n",
       "last2 y                  0\n",
       "next y                   0\n",
       "next2 y                  0\n",
       "prev_same_team           0\n",
       "next_same_team           0\n",
       "prev_same_player         0\n",
       "next_same_player         0\n",
       "prev_time_diff           0\n",
       "event_time              10\n",
       "last_goal_dist           0\n",
       "next_goal_dist           0\n",
       "Date                     0\n",
       "Season_y                 0\n",
       "Match_ID                 0\n",
       "Home Team                0\n",
       "Away Team                0\n",
       "Score               644716\n",
       "dtype: int64"
      ]
     },
     "execution_count": 43,
     "metadata": {},
     "output_type": "execute_result"
    }
   ],
   "source": [
    "df_label = game_statistics.merge(train_test, on=\"Game_ID\")\n",
    "df_label.isna().sum()"
   ]
  },
  {
   "cell_type": "markdown",
   "id": "8ddec0c4",
   "metadata": {},
   "source": [
    "- Заполняем пропуски модой"
   ]
  },
  {
   "cell_type": "code",
   "execution_count": 44,
   "id": "b0b5dadb",
   "metadata": {},
   "outputs": [],
   "source": [
    "df_label['Score']= df_label['Score'].fillna(df_label['Score'].mode().iloc[0])"
   ]
  },
  {
   "cell_type": "code",
   "execution_count": 45,
   "id": "5aa68493",
   "metadata": {},
   "outputs": [],
   "source": [
    "df_label['Start_minutes'] = df_label['Start_minutes'].fillna(df_label['Start_minutes'].mode().iloc[0])"
   ]
  },
  {
   "cell_type": "code",
   "execution_count": 46,
   "id": "50a378c6",
   "metadata": {},
   "outputs": [],
   "source": [
    "df_label['event_time'] = df_label['event_time'].fillna(df_label['event_time'].mode().iloc[0])"
   ]
  },
  {
   "cell_type": "code",
   "execution_count": 47,
   "id": "1349f0cc",
   "metadata": {},
   "outputs": [
    {
     "data": {
      "text/plain": [
       "Game_ID                  0\n",
       "Player_ID                0\n",
       "X                        0\n",
       "Y                        0\n",
       "Team                     0\n",
       "Action              613872\n",
       "Half                     0\n",
       "Season_x                 0\n",
       "Opposition_Team          0\n",
       "Start_minutes            0\n",
       "End_minutes              0\n",
       "dist_from_goal           0\n",
       "last x                   0\n",
       "last2 x                  0\n",
       "next x                   0\n",
       "next2 x                  0\n",
       "last y                   0\n",
       "last2 y                  0\n",
       "next y                   0\n",
       "next2 y                  0\n",
       "prev_same_team           0\n",
       "next_same_team           0\n",
       "prev_same_player         0\n",
       "next_same_player         0\n",
       "prev_time_diff           0\n",
       "event_time               0\n",
       "last_goal_dist           0\n",
       "next_goal_dist           0\n",
       "Date                     0\n",
       "Season_y                 0\n",
       "Match_ID                 0\n",
       "Home Team                0\n",
       "Away Team                0\n",
       "Score                    0\n",
       "dtype: int64"
      ]
     },
     "execution_count": 47,
     "metadata": {},
     "output_type": "execute_result"
    }
   ],
   "source": [
    "df_label.isna().sum()"
   ]
  },
  {
   "cell_type": "markdown",
   "id": "6256ba35",
   "metadata": {},
   "source": [
    "- Удаляем не нужные признаки"
   ]
  },
  {
   "cell_type": "code",
   "execution_count": 48,
   "id": "5bd3a793",
   "metadata": {},
   "outputs": [],
   "source": [
    "df_label = df_label.drop(['Action','Game_ID','Player_ID','Date','Home Team', 'Away Team'],axis=1)\n"
   ]
  },
  {
   "cell_type": "code",
   "execution_count": 19,
   "id": "276e7679",
   "metadata": {},
   "outputs": [
    {
     "data": {
      "text/html": [
       "<div>\n",
       "<style scoped>\n",
       "    .dataframe tbody tr th:only-of-type {\n",
       "        vertical-align: middle;\n",
       "    }\n",
       "\n",
       "    .dataframe tbody tr th {\n",
       "        vertical-align: top;\n",
       "    }\n",
       "\n",
       "    .dataframe thead th {\n",
       "        text-align: right;\n",
       "    }\n",
       "</style>\n",
       "<table border=\"1\" class=\"dataframe\">\n",
       "  <thead>\n",
       "    <tr style=\"text-align: right;\">\n",
       "      <th></th>\n",
       "      <th>Game_ID</th>\n",
       "      <th>Player_ID</th>\n",
       "      <th>X</th>\n",
       "      <th>Y</th>\n",
       "      <th>Team</th>\n",
       "      <th>Action</th>\n",
       "      <th>Half</th>\n",
       "      <th>Season_x</th>\n",
       "      <th>Opposition_Team</th>\n",
       "      <th>Start_minutes</th>\n",
       "      <th>End_minutes</th>\n",
       "      <th>dist_from_goal</th>\n",
       "      <th>last x</th>\n",
       "      <th>last2 x</th>\n",
       "      <th>next x</th>\n",
       "      <th>next2 x</th>\n",
       "      <th>last y</th>\n",
       "      <th>last2 y</th>\n",
       "      <th>next y</th>\n",
       "      <th>next2 y</th>\n",
       "      <th>prev_same_team</th>\n",
       "      <th>next_same_team</th>\n",
       "      <th>prev_same_player</th>\n",
       "      <th>next_same_player</th>\n",
       "      <th>prev_time_diff</th>\n",
       "      <th>event_time</th>\n",
       "      <th>last_goal_dist</th>\n",
       "      <th>next_goal_dist</th>\n",
       "      <th>Date</th>\n",
       "      <th>Season_y</th>\n",
       "      <th>Match_ID</th>\n",
       "      <th>Home Team</th>\n",
       "      <th>Away Team</th>\n",
       "      <th>Score</th>\n",
       "    </tr>\n",
       "  </thead>\n",
       "  <tbody>\n",
       "    <tr>\n",
       "      <th>0</th>\n",
       "      <td>0</td>\n",
       "      <td>320</td>\n",
       "      <td>52.31250</td>\n",
       "      <td>34.40625</td>\n",
       "      <td>14</td>\n",
       "      <td>Positional attacks</td>\n",
       "      <td>0</td>\n",
       "      <td>1</td>\n",
       "      <td>3</td>\n",
       "      <td>0.000000</td>\n",
       "      <td>0.330078</td>\n",
       "      <td>52.314077</td>\n",
       "      <td>52.31250</td>\n",
       "      <td>-1.0000</td>\n",
       "      <td>44.90625</td>\n",
       "      <td>46.0</td>\n",
       "      <td>34.40625</td>\n",
       "      <td>-1.00000</td>\n",
       "      <td>33.00000</td>\n",
       "      <td>32.59375</td>\n",
       "      <td>1</td>\n",
       "      <td>1</td>\n",
       "      <td>1</td>\n",
       "      <td>0</td>\n",
       "      <td>0.000000</td>\n",
       "      <td>0.330078</td>\n",
       "      <td>52.314077</td>\n",
       "      <td>44.917383</td>\n",
       "      <td>2016-11-08</td>\n",
       "      <td>1</td>\n",
       "      <td>42.0</td>\n",
       "      <td>Butterfly</td>\n",
       "      <td>Milky Way</td>\n",
       "      <td>0.0</td>\n",
       "    </tr>\n",
       "    <tr>\n",
       "      <th>1</th>\n",
       "      <td>0</td>\n",
       "      <td>320</td>\n",
       "      <td>52.31250</td>\n",
       "      <td>34.40625</td>\n",
       "      <td>14</td>\n",
       "      <td>Positional attacks</td>\n",
       "      <td>0</td>\n",
       "      <td>1</td>\n",
       "      <td>3</td>\n",
       "      <td>0.000000</td>\n",
       "      <td>0.330078</td>\n",
       "      <td>52.314077</td>\n",
       "      <td>52.31250</td>\n",
       "      <td>-1.0000</td>\n",
       "      <td>44.90625</td>\n",
       "      <td>46.0</td>\n",
       "      <td>34.40625</td>\n",
       "      <td>-1.00000</td>\n",
       "      <td>33.00000</td>\n",
       "      <td>32.59375</td>\n",
       "      <td>1</td>\n",
       "      <td>1</td>\n",
       "      <td>1</td>\n",
       "      <td>0</td>\n",
       "      <td>0.000000</td>\n",
       "      <td>0.330078</td>\n",
       "      <td>52.314077</td>\n",
       "      <td>44.917383</td>\n",
       "      <td>2018-11-28</td>\n",
       "      <td>3</td>\n",
       "      <td>87.0</td>\n",
       "      <td>Comet</td>\n",
       "      <td>Antennae</td>\n",
       "      <td>NaN</td>\n",
       "    </tr>\n",
       "    <tr>\n",
       "      <th>2</th>\n",
       "      <td>0</td>\n",
       "      <td>257</td>\n",
       "      <td>44.90625</td>\n",
       "      <td>33.00000</td>\n",
       "      <td>14</td>\n",
       "      <td>Positional attacks</td>\n",
       "      <td>0</td>\n",
       "      <td>1</td>\n",
       "      <td>3</td>\n",
       "      <td>0.029999</td>\n",
       "      <td>0.370117</td>\n",
       "      <td>44.917383</td>\n",
       "      <td>52.31250</td>\n",
       "      <td>52.3125</td>\n",
       "      <td>46.00000</td>\n",
       "      <td>46.0</td>\n",
       "      <td>34.40625</td>\n",
       "      <td>34.40625</td>\n",
       "      <td>32.59375</td>\n",
       "      <td>32.59375</td>\n",
       "      <td>1</td>\n",
       "      <td>1</td>\n",
       "      <td>0</td>\n",
       "      <td>1</td>\n",
       "      <td>0.029999</td>\n",
       "      <td>0.340088</td>\n",
       "      <td>52.314077</td>\n",
       "      <td>46.021490</td>\n",
       "      <td>2016-11-08</td>\n",
       "      <td>1</td>\n",
       "      <td>42.0</td>\n",
       "      <td>Butterfly</td>\n",
       "      <td>Milky Way</td>\n",
       "      <td>0.0</td>\n",
       "    </tr>\n",
       "    <tr>\n",
       "      <th>3</th>\n",
       "      <td>0</td>\n",
       "      <td>257</td>\n",
       "      <td>44.90625</td>\n",
       "      <td>33.00000</td>\n",
       "      <td>14</td>\n",
       "      <td>Positional attacks</td>\n",
       "      <td>0</td>\n",
       "      <td>1</td>\n",
       "      <td>3</td>\n",
       "      <td>0.029999</td>\n",
       "      <td>0.370117</td>\n",
       "      <td>44.917383</td>\n",
       "      <td>52.31250</td>\n",
       "      <td>52.3125</td>\n",
       "      <td>46.00000</td>\n",
       "      <td>46.0</td>\n",
       "      <td>34.40625</td>\n",
       "      <td>34.40625</td>\n",
       "      <td>32.59375</td>\n",
       "      <td>32.59375</td>\n",
       "      <td>1</td>\n",
       "      <td>1</td>\n",
       "      <td>0</td>\n",
       "      <td>1</td>\n",
       "      <td>0.029999</td>\n",
       "      <td>0.340088</td>\n",
       "      <td>52.314077</td>\n",
       "      <td>46.021490</td>\n",
       "      <td>2018-11-28</td>\n",
       "      <td>3</td>\n",
       "      <td>87.0</td>\n",
       "      <td>Comet</td>\n",
       "      <td>Antennae</td>\n",
       "      <td>NaN</td>\n",
       "    </tr>\n",
       "    <tr>\n",
       "      <th>4</th>\n",
       "      <td>0</td>\n",
       "      <td>257</td>\n",
       "      <td>46.00000</td>\n",
       "      <td>32.59375</td>\n",
       "      <td>14</td>\n",
       "      <td>Positional attacks</td>\n",
       "      <td>0</td>\n",
       "      <td>1</td>\n",
       "      <td>3</td>\n",
       "      <td>0.049988</td>\n",
       "      <td>0.379883</td>\n",
       "      <td>46.021490</td>\n",
       "      <td>44.90625</td>\n",
       "      <td>52.3125</td>\n",
       "      <td>46.00000</td>\n",
       "      <td>69.5</td>\n",
       "      <td>33.00000</td>\n",
       "      <td>34.40625</td>\n",
       "      <td>32.59375</td>\n",
       "      <td>67.00000</td>\n",
       "      <td>1</td>\n",
       "      <td>1</td>\n",
       "      <td>1</td>\n",
       "      <td>1</td>\n",
       "      <td>0.019989</td>\n",
       "      <td>0.329834</td>\n",
       "      <td>44.917383</td>\n",
       "      <td>46.021490</td>\n",
       "      <td>2016-11-08</td>\n",
       "      <td>1</td>\n",
       "      <td>42.0</td>\n",
       "      <td>Butterfly</td>\n",
       "      <td>Milky Way</td>\n",
       "      <td>0.0</td>\n",
       "    </tr>\n",
       "  </tbody>\n",
       "</table>\n",
       "</div>"
      ],
      "text/plain": [
       "   Game_ID  Player_ID         X         Y  Team              Action  Half  \\\n",
       "0        0        320  52.31250  34.40625    14  Positional attacks     0   \n",
       "1        0        320  52.31250  34.40625    14  Positional attacks     0   \n",
       "2        0        257  44.90625  33.00000    14  Positional attacks     0   \n",
       "3        0        257  44.90625  33.00000    14  Positional attacks     0   \n",
       "4        0        257  46.00000  32.59375    14  Positional attacks     0   \n",
       "\n",
       "   Season_x  Opposition_Team  Start_minutes  End_minutes  dist_from_goal  \\\n",
       "0         1                3       0.000000     0.330078       52.314077   \n",
       "1         1                3       0.000000     0.330078       52.314077   \n",
       "2         1                3       0.029999     0.370117       44.917383   \n",
       "3         1                3       0.029999     0.370117       44.917383   \n",
       "4         1                3       0.049988     0.379883       46.021490   \n",
       "\n",
       "     last x  last2 x    next x  next2 x    last y   last2 y    next y  \\\n",
       "0  52.31250  -1.0000  44.90625     46.0  34.40625  -1.00000  33.00000   \n",
       "1  52.31250  -1.0000  44.90625     46.0  34.40625  -1.00000  33.00000   \n",
       "2  52.31250  52.3125  46.00000     46.0  34.40625  34.40625  32.59375   \n",
       "3  52.31250  52.3125  46.00000     46.0  34.40625  34.40625  32.59375   \n",
       "4  44.90625  52.3125  46.00000     69.5  33.00000  34.40625  32.59375   \n",
       "\n",
       "    next2 y  prev_same_team  next_same_team  prev_same_player  \\\n",
       "0  32.59375               1               1                 1   \n",
       "1  32.59375               1               1                 1   \n",
       "2  32.59375               1               1                 0   \n",
       "3  32.59375               1               1                 0   \n",
       "4  67.00000               1               1                 1   \n",
       "\n",
       "   next_same_player  prev_time_diff  event_time  last_goal_dist  \\\n",
       "0                 0        0.000000    0.330078       52.314077   \n",
       "1                 0        0.000000    0.330078       52.314077   \n",
       "2                 1        0.029999    0.340088       52.314077   \n",
       "3                 1        0.029999    0.340088       52.314077   \n",
       "4                 1        0.019989    0.329834       44.917383   \n",
       "\n",
       "   next_goal_dist        Date  Season_y  Match_ID  Home Team  Away Team  Score  \n",
       "0       44.917383  2016-11-08         1      42.0  Butterfly  Milky Way    0.0  \n",
       "1       44.917383  2018-11-28         3      87.0      Comet   Antennae    NaN  \n",
       "2       46.021490  2016-11-08         1      42.0  Butterfly  Milky Way    0.0  \n",
       "3       46.021490  2018-11-28         3      87.0      Comet   Antennae    NaN  \n",
       "4       46.021490  2016-11-08         1      42.0  Butterfly  Milky Way    0.0  "
      ]
     },
     "execution_count": 19,
     "metadata": {},
     "output_type": "execute_result"
    }
   ],
   "source": [
    "df_label.head()"
   ]
  },
  {
   "cell_type": "markdown",
   "id": "d6ce87e2",
   "metadata": {},
   "source": [
    "- Проверяем пропуски"
   ]
  },
  {
   "cell_type": "code",
   "execution_count": 49,
   "id": "cf4421ff",
   "metadata": {},
   "outputs": [
    {
     "data": {
      "text/plain": [
       "X                   0\n",
       "Y                   0\n",
       "Team                0\n",
       "Half                0\n",
       "Season_x            0\n",
       "Opposition_Team     0\n",
       "Start_minutes       0\n",
       "End_minutes         0\n",
       "dist_from_goal      0\n",
       "last x              0\n",
       "last2 x             0\n",
       "next x              0\n",
       "next2 x             0\n",
       "last y              0\n",
       "last2 y             0\n",
       "next y              0\n",
       "next2 y             0\n",
       "prev_same_team      0\n",
       "next_same_team      0\n",
       "prev_same_player    0\n",
       "next_same_player    0\n",
       "prev_time_diff      0\n",
       "event_time          0\n",
       "last_goal_dist      0\n",
       "next_goal_dist      0\n",
       "Season_y            0\n",
       "Match_ID            0\n",
       "Score               0\n",
       "dtype: int64"
      ]
     },
     "execution_count": 49,
     "metadata": {},
     "output_type": "execute_result"
    }
   ],
   "source": [
    "df_label.isna().sum()"
   ]
  },
  {
   "cell_type": "markdown",
   "id": "aed5a44d",
   "metadata": {},
   "source": [
    "# Modeling"
   ]
  },
  {
   "cell_type": "markdown",
   "id": "198d8724",
   "metadata": {},
   "source": [
    "***Показателем оценки для этой задачи является log loss***"
   ]
  },
  {
   "cell_type": "markdown",
   "id": "ddece973",
   "metadata": {},
   "source": [
    "**Метрики для задачи мултиклассфикации**"
   ]
  },
  {
   "cell_type": "code",
   "execution_count": 25,
   "id": "1aa2c1dd",
   "metadata": {},
   "outputs": [],
   "source": [
    "def get_metrics_multiclass(y_test_bin, y_test, y_pred, y_prob, name,\n",
    "                           type_multi):\n",
    "    \"\"\"\n",
    "    y_test_bin - бинаризованные тестовые метки класса\n",
    "    y_test - метки класса без бинаризации\n",
    "    y_prob - предсказанные вероятности классов\n",
    "    name - название модели/подхода\n",
    "    type_multi - тип многоклассовой классификации для ROC-AUC (ovo/ovr)\n",
    "    \"\"\"\n",
    "\n",
    "    df_metrics = pd.DataFrame()\n",
    "\n",
    "    df_metrics['model'] = [name]\n",
    "\n",
    "    df_metrics['ROC_AUC'] = roc_auc_score(y_test_bin,\n",
    "                                          y_prob,\n",
    "                                          multi_class=type_multi)\n",
    "    df_metrics['Precision_micro'] = precision_score(y_test,\n",
    "                                                    y_pred,\n",
    "                                                    average='micro')\n",
    "    df_metrics['Precision_macro'] = precision_score(y_test,\n",
    "                                                    y_pred,\n",
    "                                                    average='macro')\n",
    "    df_metrics['Recall_micro'] = recall_score(y_test, y_pred, average='micro')\n",
    "    df_metrics['Recall_macro'] = recall_score(y_test, y_pred, average='macro')\n",
    "    df_metrics['F1_micro'] = f1_score(y_test, y_pred, average='micro')\n",
    "    df_metrics['F1_macro'] = f1_score(y_test, y_pred, average='macro')\n",
    "    df_metrics['Logloss'] = log_loss(y_test, y_prob)\n",
    "\n",
    "    return df_metrics"
   ]
  },
  {
   "cell_type": "markdown",
   "id": "eeb8e3b9",
   "metadata": {},
   "source": [
    "**Проверка на переобучаемость модлеи**"
   ]
  },
  {
   "cell_type": "code",
   "execution_count": 26,
   "id": "456176d1",
   "metadata": {},
   "outputs": [],
   "source": [
    "def check_overfitting(model, X_train, y_train, X_test, y_test, metric_fun):\n",
    "    \"\"\"\n",
    "    Проверка на overfitting для \n",
    "    \"\"\"\n",
    "    y_pred_train = model.predict_proba(X_train)\n",
    "    y_pred_test = model.predict_proba(X_test)\n",
    "    value_train = metric_fun(y_train, y_pred_train)\n",
    "    value_test = metric_fun(y_test, y_pred_test)\n",
    "\n",
    "    print(f'{metric_fun.__name__} train: %.3f' % value_train)\n",
    "    print(f'{metric_fun.__name__} test: %.3f' % value_test)\n",
    "    print(f'delta = {(abs(value_train - value_test)/value_test*100):.1f} %')\n",
    "    "
   ]
  },
  {
   "cell_type": "markdown",
   "id": "e31fa680",
   "metadata": {},
   "source": [
    "**Разбиения данных**"
   ]
  },
  {
   "cell_type": "code",
   "execution_count": 27,
   "id": "20a5469a",
   "metadata": {},
   "outputs": [],
   "source": [
    "X = df_label.drop('Score', axis=1)\n",
    "y = df_label['Score'].values\n",
    "\n",
    "X_train, X_test, y_train, y_test = train_test_split(X,\n",
    "                                                    y,\n",
    "                                                    test_size=0.25,\n",
    "                                                    stratify=y,\n",
    "                                                    random_state=RAND)\n",
    "n_classes = len(set(y))\n",
    "y_test_bin = label_binarize(y_test, classes=list(set(y)))"
   ]
  },
  {
   "cell_type": "markdown",
   "id": "d82c588a",
   "metadata": {},
   "source": [
    "## Baseline "
   ]
  },
  {
   "cell_type": "markdown",
   "id": "710ca089",
   "metadata": {},
   "source": [
    "**LogisticRegression**"
   ]
  },
  {
   "cell_type": "code",
   "execution_count": 24,
   "id": "ff510200",
   "metadata": {},
   "outputs": [
    {
     "name": "stdout",
     "output_type": "stream",
     "text": [
      "0.7972837478927675\n"
     ]
    }
   ],
   "source": [
    "lr=LogisticRegression()\n",
    "lr.fit(X_train,y_train)\n",
    "#Predictiing on Test Set\n",
    "y_pred = lr.predict_proba(X_test)\n",
    "y_score = lr.predict_proba(X_test)\n",
    "print(log_loss(y_test,y_pred))\n"
   ]
  },
  {
   "cell_type": "markdown",
   "id": "e3b051f7",
   "metadata": {},
   "source": [
    "\n",
    "- Проверка на переобучаемость модлеи"
   ]
  },
  {
   "cell_type": "code",
   "execution_count": 29,
   "id": "de41f1ad",
   "metadata": {},
   "outputs": [
    {
     "name": "stdout",
     "output_type": "stream",
     "text": [
      "log_loss train: 0.797\n",
      "log_loss test: 0.797\n",
      "delta = 0.1 %\n"
     ]
    }
   ],
   "source": [
    "check_overfitting(lr, X_train, y_train, X_test, y_test, log_loss)\n",
    "\n"
   ]
  },
  {
   "cell_type": "markdown",
   "id": "4d714a8a",
   "metadata": {},
   "source": [
    "**XGBClassifier**"
   ]
  },
  {
   "cell_type": "code",
   "execution_count": 26,
   "id": "f0d12cd5",
   "metadata": {},
   "outputs": [
    {
     "name": "stdout",
     "output_type": "stream",
     "text": [
      "[23:04:53] WARNING: ../src/learner.cc:1061: Starting in XGBoost 1.3.0, the default evaluation metric used with the objective 'multi:softprob' was changed from 'merror' to 'mlogloss'. Explicitly set eval_metric if you'd like to restore the old behavior.\n",
      "0.12532562718588183\n"
     ]
    }
   ],
   "source": [
    "xgb=XGBClassifier(random_state=RAND, n_estimators=50)\n",
    "xgb.fit(X_train,y_train)\n",
    "#Predictiing on Test Set\n",
    "y_pred = xgb.predict_proba(X_test)\n",
    "y_score = lr.predict_proba(X_test)\n",
    "print(log_loss(y_test,y_pred))\n",
    "\n"
   ]
  },
  {
   "cell_type": "markdown",
   "id": "e343a9b6",
   "metadata": {},
   "source": [
    "- Проверка на переобучаемость модлеи"
   ]
  },
  {
   "cell_type": "code",
   "execution_count": 30,
   "id": "242f1186",
   "metadata": {},
   "outputs": [
    {
     "name": "stdout",
     "output_type": "stream",
     "text": [
      "log_loss train: 0.125\n",
      "log_loss test: 0.125\n",
      "delta = 0.5 %\n"
     ]
    }
   ],
   "source": [
    "check_overfitting(xgb, X_train, y_train, X_test, y_test, log_loss)\n"
   ]
  },
  {
   "cell_type": "markdown",
   "id": "c506bc7c",
   "metadata": {},
   "source": [
    "**RandomForestClassifier**"
   ]
  },
  {
   "cell_type": "code",
   "execution_count": 33,
   "id": "339213c8",
   "metadata": {},
   "outputs": [
    {
     "name": "stdout",
     "output_type": "stream",
     "text": [
      "0.07536936061053792\n"
     ]
    }
   ],
   "source": [
    "clf = RandomForestClassifier(n_estimators=30 , random_state=RAND)\n",
    "clf.fit(X_train,y_train)\n",
    "#Predictiing on Test Set\n",
    "y_pred = clf.predict_proba(X_test)\n",
    "y_score = clf.predict_proba(X_test)\n",
    "print(log_loss(y_test,y_pred))"
   ]
  },
  {
   "cell_type": "markdown",
   "id": "5c2669a9",
   "metadata": {},
   "source": [
    "- Проверка на переобучаемость модлеи"
   ]
  },
  {
   "cell_type": "code",
   "execution_count": 35,
   "id": "84dfa5b6",
   "metadata": {},
   "outputs": [
    {
     "name": "stdout",
     "output_type": "stream",
     "text": [
      "log_loss train: 0.026\n",
      "log_loss test: 0.075\n",
      "delta = 65.4 %\n"
     ]
    }
   ],
   "source": [
    "check_overfitting(clf, X_train, y_train, X_test, y_test, log_loss)\n"
   ]
  },
  {
   "cell_type": "markdown",
   "id": "256e7d54",
   "metadata": {},
   "source": [
    "**LGBMClassifier**"
   ]
  },
  {
   "cell_type": "code",
   "execution_count": 31,
   "id": "0ccef147",
   "metadata": {},
   "outputs": [],
   "source": [
    "\n",
    "lgb = LGBMClassifier(n_estimators=1000, random_state=RAND,objective='multiclass')\n",
    "eval_set = [(X_test, y_test)]\n",
    "\n",
    "lgb.fit(X_train,\n",
    "        y_train,\n",
    "        eval_metric='multi_logloss',\n",
    "        eval_set=eval_set,\n",
    "        verbose=False,\n",
    "        early_stopping_rounds=100,\n",
    "       )\n",
    "\n",
    "y_pred = lgb.predict_proba(X_test)\n",
    "y_score = lgb.predict_proba(X_test)"
   ]
  },
  {
   "cell_type": "code",
   "execution_count": 32,
   "id": "8651342f",
   "metadata": {},
   "outputs": [
    {
     "name": "stdout",
     "output_type": "stream",
     "text": [
      "2.2501173801362876e-05\n"
     ]
    }
   ],
   "source": [
    "print(log_loss(y_test,y_pred))\n"
   ]
  },
  {
   "cell_type": "markdown",
   "id": "15487fb8",
   "metadata": {},
   "source": [
    "- Проверка на переобучаемость модлеи"
   ]
  },
  {
   "cell_type": "code",
   "execution_count": 33,
   "id": "138453e6",
   "metadata": {},
   "outputs": [
    {
     "name": "stdout",
     "output_type": "stream",
     "text": [
      "log_loss train: 0.000\n",
      "log_loss test: 0.000\n",
      "delta = 99.9 %\n"
     ]
    }
   ],
   "source": [
    "check_overfitting(lgb, X_train, y_train, X_test, y_test, log_loss)\n"
   ]
  },
  {
   "cell_type": "markdown",
   "id": "13634583",
   "metadata": {},
   "source": [
    "**CatBoostClassifier**"
   ]
  },
  {
   "cell_type": "code",
   "execution_count": 33,
   "id": "fa7b39a6",
   "metadata": {},
   "outputs": [
    {
     "name": "stderr",
     "output_type": "stream",
     "text": [
      "\n",
      "KeyboardInterrupt\n",
      "\n"
     ]
    }
   ],
   "source": [
    "cat = CatBoostClassifier(n_estimators=1000,\n",
    "                        allow_writing_files=False,\n",
    "                        random_state=RAND,\n",
    "                        eval_metric=\"MultiClass\")\n",
    "                        \n",
    "                        \n",
    "eval_set = [(X_test, y_test)]\n",
    "\n",
    "cat.fit(X_train,\n",
    "        y_train,\n",
    "        eval_set=eval_set,\n",
    "        verbose=False,\n",
    "        early_stopping_rounds=100)\n",
    "\n",
    "y_pred = cat.predict_proba(X_test)\n",
    "y_score = cat.predict_proba(X_test)\n"
   ]
  },
  {
   "cell_type": "code",
   "execution_count": 35,
   "id": "5cace19a",
   "metadata": {},
   "outputs": [
    {
     "name": "stdout",
     "output_type": "stream",
     "text": [
      "0.00865730127501462\n"
     ]
    }
   ],
   "source": [
    "print(log_loss(y_test,y_pred))"
   ]
  },
  {
   "cell_type": "markdown",
   "id": "827dec2b",
   "metadata": {},
   "source": [
    "- Проверка на переобучаемость модлеи"
   ]
  },
  {
   "cell_type": "code",
   "execution_count": 36,
   "id": "65561d4b",
   "metadata": {},
   "outputs": [
    {
     "name": "stdout",
     "output_type": "stream",
     "text": [
      "log_loss train: 0.009\n",
      "log_loss test: 0.009\n",
      "delta = 0.6 %\n"
     ]
    }
   ],
   "source": [
    "check_overfitting(cat, X_train, y_train, X_test, y_test, log_loss)\n"
   ]
  },
  {
   "cell_type": "markdown",
   "id": "b67691b2",
   "metadata": {},
   "source": [
    "## Tuning"
   ]
  },
  {
   "cell_type": "markdown",
   "id": "84e9d417",
   "metadata": {},
   "source": [
    "**LogisticRegression**"
   ]
  },
  {
   "cell_type": "code",
   "execution_count": 93,
   "id": "69189ea9",
   "metadata": {},
   "outputs": [],
   "source": [
    "from sklearn.linear_model import LogisticRegression\n",
    "from sklearn.model_selection import RandomizedSearchCV\n",
    "from scipy.stats import uniform\n",
    "# Задание пространства гиперпараметров для поиска\n",
    "param_dist = {\n",
    "    'C': uniform(loc=0, scale=1),  # Равномерное распределение от 0 до 1\n",
    "    'max_iter': [100, 500, 1000],  # Заданные значения\n",
    "}\n",
    "lr = LogisticRegression()\n",
    "\n",
    "# Создание объекта RandomizedSearchCV\n",
    "random_search3 = RandomizedSearchCV(\n",
    "    estimator=lr,\n",
    "    param_distributions=param_dist,\n",
    "    scoring='neg_log_loss',\n",
    "    n_iter=10,  # Количество итераций случайного поиска\n",
    "    cv=5,  # Количество фолдов в кросс-валидации\n",
    "    random_state=12\n",
    ")\n"
   ]
  },
  {
   "cell_type": "code",
   "execution_count": 94,
   "id": "75d62bf1",
   "metadata": {},
   "outputs": [
    {
     "data": {
      "text/plain": [
       "RandomizedSearchCV(cv=5, estimator=LogisticRegression(),\n",
       "                   param_distributions={'C': <scipy.stats._distn_infrastructure.rv_frozen object at 0x000002793DD85E80>,\n",
       "                                        'max_iter': [100, 500, 1000]},\n",
       "                   random_state=12, scoring='neg_log_loss')"
      ]
     },
     "execution_count": 94,
     "metadata": {},
     "output_type": "execute_result"
    }
   ],
   "source": [
    "random_search3.fit(X_train, y_train)\n"
   ]
  },
  {
   "cell_type": "code",
   "execution_count": 95,
   "id": "8da4a23f",
   "metadata": {},
   "outputs": [
    {
     "name": "stdout",
     "output_type": "stream",
     "text": [
      "Лучшие гиперпараметры: {'C': 0.8733871524282918, 'max_iter': 1000}\n",
      "Лучший результат: -0.7881938906927392\n"
     ]
    }
   ],
   "source": [
    "print(\"Лучшие гиперпараметры:\", random_search3.best_params_)\n",
    "print(\"Лучший результат:\", random_search3.best_score_)"
   ]
  },
  {
   "cell_type": "code",
   "execution_count": 97,
   "id": "61f354fa",
   "metadata": {},
   "outputs": [],
   "source": [
    "# Предсказание на тестовом наборе данных с использованием модели с наилучшими гиперпараметрами\n",
    "y_pred = random_search3.predict_proba(X_test)"
   ]
  },
  {
   "cell_type": "code",
   "execution_count": 98,
   "id": "4ac03d4f",
   "metadata": {},
   "outputs": [
    {
     "name": "stdout",
     "output_type": "stream",
     "text": [
      "Log Loss: 0.789008069721617\n"
     ]
    }
   ],
   "source": [
    "# Вывод значения log loss\n",
    "print(\"Log Loss:\", log_loss(y_test, y_pred))"
   ]
  },
  {
   "cell_type": "code",
   "execution_count": 100,
   "id": "b190bece",
   "metadata": {},
   "outputs": [
    {
     "name": "stdout",
     "output_type": "stream",
     "text": [
      "0.7894714507625957\n"
     ]
    }
   ],
   "source": [
    "lr=LogisticRegression(C=0.87,max_iter=1000)\n",
    "lr.fit(X_train,y_train)\n",
    "#Predictiing on Test Set\n",
    "y_pred = lr.predict_proba(X_test)\n",
    "print(log_loss(y_test,y_pred))"
   ]
  },
  {
   "cell_type": "markdown",
   "id": "34dbbbc0",
   "metadata": {},
   "source": [
    "- Проверка на переобучаемость модлеи"
   ]
  },
  {
   "cell_type": "code",
   "execution_count": 101,
   "id": "aede943a",
   "metadata": {},
   "outputs": [
    {
     "name": "stdout",
     "output_type": "stream",
     "text": [
      "log_loss train: 0.789\n",
      "log_loss test: 0.789\n",
      "delta = 0.1 %\n"
     ]
    }
   ],
   "source": [
    "check_overfitting(lr, X_train, y_train, X_test, y_test, log_loss)\n"
   ]
  },
  {
   "cell_type": "markdown",
   "id": "17e8f2ed",
   "metadata": {},
   "source": [
    "**XGBClassifier**"
   ]
  },
  {
   "cell_type": "code",
   "execution_count": 33,
   "id": "b08814c0",
   "metadata": {},
   "outputs": [],
   "source": [
    "from sklearn.model_selection import RandomizedSearchCV\n",
    "from xgboost import XGBClassifier\n",
    "\n",
    "param_grid = {\n",
    "    'n_estimators': [50, 100],\n",
    "    'max_depth': [3, 4, 5],\n",
    "    'learning_rate': [0.05, 0.1, 0.2],\n",
    "    'colsample_bytree': [0.2, 0.4, 0.6],\n",
    "    'subsample': [0.6, 0.8, 1.0],\n",
    "}\n",
    "\n",
    "xgb = XGBClassifier(random_state=12)\n",
    "random_search = RandomizedSearchCV(xgb, param_distributions=param_grid, n_iter=10, scoring='neg_log_loss', cv=3, random_state=42)\n"
   ]
  },
  {
   "cell_type": "code",
   "execution_count": 34,
   "id": "93a82335",
   "metadata": {},
   "outputs": [
    {
     "name": "stdout",
     "output_type": "stream",
     "text": [
      "CPU times: total: 4h 39min 41s\n",
      "Wall time: 41min 50s\n"
     ]
    },
    {
     "data": {
      "text/plain": [
       "RandomizedSearchCV(cv=3,\n",
       "                   estimator=XGBClassifier(base_score=None, booster=None,\n",
       "                                           callbacks=None,\n",
       "                                           colsample_bylevel=None,\n",
       "                                           colsample_bynode=None,\n",
       "                                           colsample_bytree=None,\n",
       "                                           early_stopping_rounds=None,\n",
       "                                           enable_categorical=False,\n",
       "                                           eval_metric=None, feature_types=None,\n",
       "                                           gamma=None, gpu_id=None,\n",
       "                                           grow_policy=None,\n",
       "                                           importance_type=None,\n",
       "                                           interaction_constraints=None,\n",
       "                                           learning_rate...\n",
       "                                           max_leaves=None,\n",
       "                                           min_child_weight=None, missing=nan,\n",
       "                                           monotone_constraints=None,\n",
       "                                           n_estimators=100, n_jobs=None,\n",
       "                                           num_parallel_tree=None,\n",
       "                                           predictor=None, random_state=12, ...),\n",
       "                   param_distributions={'colsample_bytree': [0.2, 0.4, 0.6],\n",
       "                                        'learning_rate': [0.05, 0.1, 0.2],\n",
       "                                        'max_depth': [3, 4, 5],\n",
       "                                        'n_estimators': [50, 100],\n",
       "                                        'subsample': [0.6, 0.8, 1.0]},\n",
       "                   random_state=42, scoring='neg_log_loss')"
      ]
     },
     "execution_count": 34,
     "metadata": {},
     "output_type": "execute_result"
    }
   ],
   "source": [
    "%%time\n",
    "random_search.fit(X_train, y_train)\n"
   ]
  },
  {
   "cell_type": "code",
   "execution_count": 35,
   "id": "800d663b",
   "metadata": {},
   "outputs": [
    {
     "name": "stdout",
     "output_type": "stream",
     "text": [
      "Лучшие гиперпараметры: {'subsample': 1.0, 'n_estimators': 50, 'max_depth': 5, 'learning_rate': 0.2, 'colsample_bytree': 0.6}\n",
      "Лучший результат: -0.40075155193168954\n"
     ]
    }
   ],
   "source": [
    "print(\"Лучшие гиперпараметры:\", random_search.best_params_)\n",
    "print(\"Лучший результат:\", random_search.best_score_)"
   ]
  },
  {
   "cell_type": "code",
   "execution_count": 36,
   "id": "ba2c51f0",
   "metadata": {},
   "outputs": [],
   "source": [
    "# Предсказание на тестовом наборе данных с использованием модели с наилучшими гиперпараметрами\n",
    "y_pred = random_search.predict_proba(X_test)"
   ]
  },
  {
   "cell_type": "code",
   "execution_count": 37,
   "id": "38d734d9",
   "metadata": {},
   "outputs": [
    {
     "name": "stdout",
     "output_type": "stream",
     "text": [
      "Log Loss: 0.4020246584225856\n"
     ]
    }
   ],
   "source": [
    "# Вывод значения log loss\n",
    "print(\"Log Loss:\", log_loss(y_test, y_pred))"
   ]
  },
  {
   "cell_type": "code",
   "execution_count": 69,
   "id": "962c684f",
   "metadata": {},
   "outputs": [
    {
     "name": "stdout",
     "output_type": "stream",
     "text": [
      "0.4020246584225856\n"
     ]
    }
   ],
   "source": [
    "xgb=XGBClassifier(n_estimators=50 , max_depth=5, learning_rate=0.2,colsample_bytree=0.6,\n",
    "                  random_state=12,subsample=1)\n",
    "xgb.fit(X_train,y_train)\n",
    "#Predictiing on Test Set\n",
    "y_pred = xgb.predict_proba(X_test)\n",
    "y_socre = xgb.predict_proba(X_test)\n",
    "print(log_loss(y_test,y_pred))\n",
    "\n"
   ]
  },
  {
   "cell_type": "markdown",
   "id": "69a5b640",
   "metadata": {},
   "source": [
    "- Проверка на переобучаемость модлеи"
   ]
  },
  {
   "cell_type": "code",
   "execution_count": 40,
   "id": "d004c485",
   "metadata": {
    "scrolled": true
   },
   "outputs": [
    {
     "name": "stdout",
     "output_type": "stream",
     "text": [
      "log_loss train: 0.401\n",
      "log_loss test: 0.402\n",
      "delta = 0.4 %\n"
     ]
    }
   ],
   "source": [
    "check_overfitting(xgb, X_train, y_train, X_test, y_test, log_loss)\n"
   ]
  },
  {
   "cell_type": "markdown",
   "id": "331fbbd6",
   "metadata": {},
   "source": [
    "**RandomForestClassifier**"
   ]
  },
  {
   "cell_type": "code",
   "execution_count": 53,
   "id": "2d9efd01",
   "metadata": {},
   "outputs": [],
   "source": [
    "from sklearn.ensemble import RandomForestClassifier\n",
    "from sklearn.model_selection import RandomizedSearchCV\n",
    "\n",
    "\n",
    "\n",
    "# Задаем сетку параметров для подбора\n",
    "param_grid = {\n",
    "    'n_estimators': [100, 120, 150],  # Параметр для количества деревьев в лесу\n",
    "    'max_depth': [2, 4, 6],  # Параметр для максимальной глубины деревьев\n",
    "    'max_features': [0.6, 0.8, 1.0]  # Параметр для доли признаков используемых при разделении\n",
    "}\n",
    "\n",
    "# Создаем экземпляр модели RandomForestClassifier\n",
    "rfc = RandomForestClassifier(random_state=12)\n",
    "# Создаем экземпляр RandomizedSearchCV для подбора параметров\n",
    "random_search1 = RandomizedSearchCV(rfc, param_distributions=param_grid, n_iter=10,  scoring='neg_log_loss', cv=3, random_state=42)\n"
   ]
  },
  {
   "cell_type": "code",
   "execution_count": 54,
   "id": "a2d1db01",
   "metadata": {},
   "outputs": [
    {
     "name": "stdout",
     "output_type": "stream",
     "text": [
      "CPU times: total: 4h 49min 43s\n",
      "Wall time: 4h 50min 7s\n"
     ]
    },
    {
     "data": {
      "text/plain": [
       "RandomizedSearchCV(cv=3, estimator=RandomForestClassifier(random_state=12),\n",
       "                   param_distributions={'max_depth': [2, 4, 6],\n",
       "                                        'max_features': [0.6, 0.8, 1.0],\n",
       "                                        'n_estimators': [100, 120, 150]},\n",
       "                   random_state=42, scoring='neg_log_loss')"
      ]
     },
     "execution_count": 54,
     "metadata": {},
     "output_type": "execute_result"
    }
   ],
   "source": [
    "%%time\n",
    "random_search1.fit(X_train, y_train)"
   ]
  },
  {
   "cell_type": "code",
   "execution_count": 56,
   "id": "af6c34b1",
   "metadata": {},
   "outputs": [
    {
     "name": "stdout",
     "output_type": "stream",
     "text": [
      "Лучшие гиперпараметры: {'n_estimators': 100, 'max_features': 0.8, 'max_depth': 6}\n",
      "Лучший результат: -0.6125530787508939\n"
     ]
    }
   ],
   "source": [
    "print(\"Лучшие гиперпараметры:\", random_search1.best_params_)\n",
    "print(\"Лучший результат:\", random_search1.best_score_)"
   ]
  },
  {
   "cell_type": "code",
   "execution_count": 57,
   "id": "3e7747ee",
   "metadata": {},
   "outputs": [],
   "source": [
    "# Предсказание на тестовом наборе данных с использованием модели с наилучшими гиперпараметрами\n",
    "y_pred = random_search1.predict_proba(X_test)"
   ]
  },
  {
   "cell_type": "code",
   "execution_count": 58,
   "id": "9621da49",
   "metadata": {},
   "outputs": [
    {
     "name": "stdout",
     "output_type": "stream",
     "text": [
      "Log Loss: 0.6144583217555865\n"
     ]
    }
   ],
   "source": [
    "# Вывод значения log loss\n",
    "print(\"Log Loss:\", log_loss(y_test, y_pred))"
   ]
  },
  {
   "cell_type": "code",
   "execution_count": 59,
   "id": "508a90d0",
   "metadata": {},
   "outputs": [
    {
     "name": "stdout",
     "output_type": "stream",
     "text": [
      "0.6144583217555865\n"
     ]
    }
   ],
   "source": [
    "rfc = RandomForestClassifier(n_estimators=100 , random_state=12,max_depth=6,max_features=0.8)\n",
    "rfc.fit(X_train,y_train)\n",
    "#Predictiing on Test Set\n",
    "y_pred = rfc.predict_proba(X_test)\n",
    "y_score = rfc.predict_proba(X_test)\n",
    "print(log_loss(y_test,y_pred))"
   ]
  },
  {
   "cell_type": "markdown",
   "id": "8216788d",
   "metadata": {},
   "source": [
    "- Проверка на переобучаемость модлеи"
   ]
  },
  {
   "cell_type": "code",
   "execution_count": 60,
   "id": "474d5bcb",
   "metadata": {},
   "outputs": [
    {
     "name": "stdout",
     "output_type": "stream",
     "text": [
      "log_loss train: 0.613\n",
      "log_loss test: 0.614\n",
      "delta = 0.2 %\n"
     ]
    }
   ],
   "source": [
    "check_overfitting(rfc, X_train, y_train, X_test, y_test, log_loss)\n"
   ]
  },
  {
   "cell_type": "markdown",
   "id": "b4ae34f2",
   "metadata": {},
   "source": [
    "**LGBMClassifier**"
   ]
  },
  {
   "cell_type": "code",
   "execution_count": 81,
   "id": "fbefea1d",
   "metadata": {},
   "outputs": [],
   "source": [
    "from lightgbm import LGBMClassifier\n",
    "from sklearn.model_selection import RandomizedSearchCV\n",
    "from scipy.stats import randint as sp_randint\n",
    "\n",
    "\n",
    "\n",
    "# Задание пространства гиперпараметров для поиска\n",
    "param_dist = {\n",
    "    'n_estimators': sp_randint(50, 100), # Случайное целое значение от 50 до 200\n",
    "    'max_depth': sp_randint(3, 10), # Случайное целое значение от 3 до 10\n",
    "    'learning_rate': [0.01, 0.05, 0.1], # Заданные значения\n",
    "    'colsample_bytree': [0.2, 0.4, 0.6, 0.8, 1.0], # Заданные значения\n",
    "    'subsample': [0.6, 0.7, 0.8, 0.9, 1.0], # Заданные значения\n",
    "}\n",
    "# Создание модели LGBMClassifier\n",
    "lgbm = LGBMClassifier(random_state=12)\n",
    "\n",
    "# Создание объекта RandomizedSearchCV\n",
    "random_search2 = RandomizedSearchCV(\n",
    "    estimator=lgbm,\n",
    "    param_distributions=param_dist,\n",
    "    scoring='neg_log_loss',\n",
    "    n_iter=10, # Количество итераций случайного поиска\n",
    "    cv=2, # Количество фолдов в кросс-валидации\n",
    "    random_state=12\n",
    ")"
   ]
  },
  {
   "cell_type": "code",
   "execution_count": 82,
   "id": "2aa4a2c0",
   "metadata": {},
   "outputs": [
    {
     "name": "stdout",
     "output_type": "stream",
     "text": [
      "CPU times: total: 26min 5s\n",
      "Wall time: 3min 46s\n"
     ]
    },
    {
     "data": {
      "text/plain": [
       "RandomizedSearchCV(cv=2, estimator=LGBMClassifier(random_state=12),\n",
       "                   param_distributions={'colsample_bytree': [0.2, 0.4, 0.6, 0.8,\n",
       "                                                             1.0],\n",
       "                                        'learning_rate': [0.01, 0.05, 0.1],\n",
       "                                        'max_depth': <scipy.stats._distn_infrastructure.rv_frozen object at 0x000002794BF7D490>,\n",
       "                                        'n_estimators': <scipy.stats._distn_infrastructure.rv_frozen object at 0x000002794BF63400>,\n",
       "                                        'subsample': [0.6, 0.7, 0.8, 0.9, 1.0]},\n",
       "                   random_state=12, scoring='neg_log_loss')"
      ]
     },
     "execution_count": 82,
     "metadata": {},
     "output_type": "execute_result"
    }
   ],
   "source": [
    "%%time\n",
    "random_search2.fit(X_train, y_train)\n"
   ]
  },
  {
   "cell_type": "code",
   "execution_count": 84,
   "id": "c5b09bd9",
   "metadata": {},
   "outputs": [
    {
     "name": "stdout",
     "output_type": "stream",
     "text": [
      "Лучшие гиперпараметры: {'colsample_bytree': 0.8, 'learning_rate': 0.1, 'max_depth': 8, 'n_estimators': 99, 'subsample': 0.8}\n",
      "Лучший результат: -0.10788136954257932\n"
     ]
    }
   ],
   "source": [
    "print(\"Лучшие гиперпараметры:\", random_search2.best_params_)\n",
    "print(\"Лучший результат:\", random_search2.best_score_)"
   ]
  },
  {
   "cell_type": "code",
   "execution_count": 85,
   "id": "4b3a7fec",
   "metadata": {},
   "outputs": [],
   "source": [
    "# Предсказание на тестовом наборе данных с использованием модели с наилучшими гиперпараметрами\n",
    "y_pred = random_search2.predict_proba(X_test)"
   ]
  },
  {
   "cell_type": "code",
   "execution_count": 86,
   "id": "fa5a151b",
   "metadata": {},
   "outputs": [
    {
     "name": "stdout",
     "output_type": "stream",
     "text": [
      "Log Loss: 0.1080691814259357\n"
     ]
    }
   ],
   "source": [
    "# Вывод значения log loss\n",
    "print(\"Log Loss:\", log_loss(y_test, y_pred))"
   ]
  },
  {
   "cell_type": "code",
   "execution_count": 87,
   "id": "d2053ac5",
   "metadata": {},
   "outputs": [
    {
     "name": "stdout",
     "output_type": "stream",
     "text": [
      "0.1080691814259357\n"
     ]
    }
   ],
   "source": [
    "lgbm = LGBMClassifier(n_estimators=99, max_depth=8, learning_rate=0.1, colsample_bytree=0.8,\n",
    "                      random_state=12, subsample=0.8)\n",
    "lgbm.fit(X_train, y_train)\n",
    "\n",
    "y_pred = lgbm.predict_proba(X_test)\n",
    "y_score = lgbm.predict_proba(X_test)\n",
    "\n",
    "print(log_loss(y_test, y_pred))"
   ]
  },
  {
   "cell_type": "markdown",
   "id": "4fe1f5dc",
   "metadata": {},
   "source": [
    "- Проверка на переобучаемость модлеи"
   ]
  },
  {
   "cell_type": "code",
   "execution_count": 88,
   "id": "209c19dc",
   "metadata": {},
   "outputs": [
    {
     "name": "stdout",
     "output_type": "stream",
     "text": [
      "log_loss train: 0.108\n",
      "log_loss test: 0.108\n",
      "delta = 0.5 %\n"
     ]
    }
   ],
   "source": [
    "check_overfitting(lgbm, X_train, y_train, X_test, y_test, log_loss)\n"
   ]
  },
  {
   "cell_type": "markdown",
   "id": "90538d8b",
   "metadata": {},
   "source": [
    "### Анализ важных признаков с помощью библиотеки Shap"
   ]
  },
  {
   "cell_type": "markdown",
   "id": "e1f861fd",
   "metadata": {},
   "source": [
    "**Модель для анализа LGBMClassifier**"
   ]
  },
  {
   "cell_type": "code",
   "execution_count": 102,
   "id": "6a3ed3d4",
   "metadata": {},
   "outputs": [],
   "source": [
    "explainer = shap.TreeExplainer(lgbm)"
   ]
  },
  {
   "cell_type": "code",
   "execution_count": 103,
   "id": "e41b7faa",
   "metadata": {},
   "outputs": [],
   "source": [
    "shap_values = explainer.shap_values(X_test)"
   ]
  },
  {
   "cell_type": "code",
   "execution_count": 104,
   "id": "b2c20da7",
   "metadata": {},
   "outputs": [
    {
     "data": {
      "image/png": "[encoded data removed]",
      "text/plain": [
       "<Figure size 576x684 with 1 Axes>"
      ]
     },
     "metadata": {
      "needs_background": "light"
     },
     "output_type": "display_data"
    }
   ],
   "source": [
    "shap.summary_plot(shap_values, X_test)"
   ]
  },
  {
   "cell_type": "markdown",
   "id": "2d5ce202",
   "metadata": {},
   "source": [
    "**Вывод по признакам**\n",
    "-    Season_x и Season_y: Эти признаки, вероятно, относятся к информации о текущем и следующем сезонах соответственно. Они могут быть важными для модели в определении исхода матча, поскольку результаты команд могут различаться в зависимости от текущего и следующего сезонов.\n",
    "\n",
    "-   Match_Id: Этот признак представляет индентификационный номер матча и может быть полезен для модели в учете уникальности каждого матча и возможного влияния конкретных матчей на исходы.\n",
    "\n",
    "-    Opposition_Team и Team: Эти признаки относятся к командам-противникам и команде игрока соответственно. Они могут быть важными, поскольку результаты матчей могут зависеть от противника и собственной команды."
   ]
  },
  {
   "cell_type": "markdown",
   "id": "002414c0",
   "metadata": {},
   "source": [
    "# StackingClassifier\n",
    "- **Модель - LogisticRegression**\n",
    "- **Модель - RandomForestClassifier**\n",
    "- **Модель - LGBMClassifier**"
   ]
  },
  {
   "cell_type": "code",
   "execution_count": 31,
   "id": "5a1a01a0",
   "metadata": {},
   "outputs": [],
   "source": [
    "\n",
    "lr=LogisticRegression(C=0.1,max_iter=1000)\n",
    "rfc = RandomForestClassifier(n_estimators=120 , random_state=12,max_depth=2,max_features=0.8)\n",
    "lgbm = LGBMClassifier(n_estimators=50, max_depth=4, learning_rate=0.08, colsample_bytree=0.2,\n",
    "                      random_state=12, subsample=0.8, num_class=1)\n",
    "clf1 = CalibratedClassifierCV(base_estimator=lr, method='isotonic', cv=3)\n",
    "clf2 = CalibratedClassifierCV(base_estimator=rfc, method='isotonic', cv=3)\n",
    "clf3 = CalibratedClassifierCV(base_estimator=lgbm, method='isotonic', cv=3)\n",
    "\n"
   ]
  },
  {
   "cell_type": "code",
   "execution_count": 32,
   "id": "093395cf",
   "metadata": {},
   "outputs": [],
   "source": [
    "estimators = [('lgbm', clf1), ('rfc', clf2), ('lr', clf3)]\n",
    "\n",
    "stf_cv = StratifiedKFold(n_splits=5)\n",
    "meta = StackingClassifier(\n",
    "    estimators=estimators,\n",
    "    cv=stf_cv,\n",
    "    final_estimator=LogisticRegression(random_state=RAND))"
   ]
  },
  {
   "cell_type": "code",
   "execution_count": 33,
   "id": "431fd11f",
   "metadata": {},
   "outputs": [
    {
     "name": "stdout",
     "output_type": "stream",
     "text": [
      "CPU times: total: 4h 31min 6s\n",
      "Wall time: 2h 38min 30s\n"
     ]
    },
    {
     "data": {
      "text/plain": [
       "StackingClassifier(cv=StratifiedKFold(n_splits=5,\n",
       "        random_state=RandomState(MT19937) at 0x224F4D29A40, shuffle=False),\n",
       "                   estimators=[('lgbm',\n",
       "                                CalibratedClassifierCV(base_estimator=LogisticRegression(C=0.1,\n",
       "                                                                                         max_iter=1000),\n",
       "                                                       cv=3,\n",
       "                                                       method='isotonic')),\n",
       "                               ('rfc',\n",
       "                                CalibratedClassifierCV(base_estimator=RandomForestClassifier(max_depth=2,\n",
       "                                                                                             max_features=0.8,\n",
       "                                                                                             n_estimators=120,\n",
       "                                                                                             random_state=12),\n",
       "                                                       cv=3,\n",
       "                                                       method='isotonic')),\n",
       "                               ('lr',\n",
       "                                CalibratedClassifierCV(base_estimator=LGBMClassifier(colsample_bytree=0.2,\n",
       "                                                                                     learning_rate=0.08,\n",
       "                                                                                     max_depth=4,\n",
       "                                                                                     n_estimators=50,\n",
       "                                                                                     num_class=1,\n",
       "                                                                                     random_state=12,\n",
       "                                                                                     subsample=0.8),\n",
       "                                                       cv=3,\n",
       "                                                       method='isotonic'))],\n",
       "                   final_estimator=LogisticRegression(random_state=10))"
      ]
     },
     "execution_count": 33,
     "metadata": {},
     "output_type": "execute_result"
    }
   ],
   "source": [
    "%%time\n",
    "meta.fit(X_train, y_train)"
   ]
  },
  {
   "cell_type": "code",
   "execution_count": 34,
   "id": "7a2120bc",
   "metadata": {},
   "outputs": [
    {
     "name": "stdout",
     "output_type": "stream",
     "text": [
      "log_loss train: 0.529\n",
      "log_loss test: 0.532\n",
      "delta = 0.7 %\n"
     ]
    }
   ],
   "source": [
    "check_overfitting(meta, X_train, y_train, X_test, y_test, log_loss)\n"
   ]
  },
  {
   "cell_type": "code",
   "execution_count": 35,
   "id": "d3361ab1",
   "metadata": {},
   "outputs": [
    {
     "name": "stdout",
     "output_type": "stream",
     "text": [
      "0.5322167946492792\n"
     ]
    }
   ],
   "source": [
    "y_pred = meta.predict_proba(X_test)\n",
    "y_score = meta.predict_proba(X_test)\n",
    "\n",
    "print(log_loss(y_test, y_pred))"
   ]
  }
 ],
 "metadata": {
  "kernelspec": {
   "display_name": "Python 3 (ipykernel)",
   "language": "python",
   "name": "python3"
  },
  "language_info": {
   "codemirror_mode": {
    "name": "ipython",
    "version": 3
   },
   "file_extension": ".py",
   "mimetype": "text/x-python",
   "name": "python",
   "nbconvert_exporter": "python",
   "pygments_lexer": "ipython3",
   "version": "3.9.12"
  },
  "toc": {
   "base_numbering": 1,
   "nav_menu": {},
   "number_sections": true,
   "sideBar": true,
   "skip_h1_title": false,
   "title_cell": "Table of Contents",
   "title_sidebar": "Contents",
   "toc_cell": false,
   "toc_position": {
    "height": "calc(100% - 180px)",
    "left": "10px",
    "top": "150px",
    "width": "385.254px"
   },
   "toc_section_display": true,
   "toc_window_display": true
  }
 },
 "nbformat": 4,
 "nbformat_minor": 5
}
